{
 "cells": [
  {
   "cell_type": "markdown",
   "metadata": {},
   "source": [
    "# cmdStan input simulator"
   ]
  },
  {
   "cell_type": "code",
   "execution_count": 1,
   "metadata": {
    "ExecuteTime": {
     "end_time": "2021-08-05T15:19:38.017909Z",
     "start_time": "2021-08-05T15:19:36.536349Z"
    }
   },
   "outputs": [],
   "source": [
    "from __future__ import (absolute_import, division, print_function, \n",
    "   unicode_literals, generators, nested_scopes, with_statement)\n",
    "from builtins import (bytes, dict, int, list, object, range, str, ascii,\n",
    "   chr, hex, input, next, oct, open, pow, round, super, filter, map, zip)\n",
    "# The above imports should allow this program to run in both Python 2 and\n",
    "# Python 3.  You might need to update your version of module \"future\".\n",
    "import sys\n",
    "import os\n",
    "import math\n",
    "import seaborn as sns\n",
    "import matplotlib.pyplot as plt\n",
    "import math\n",
    "from sklearn.metrics import roc_auc_score\n",
    "from sklearn import metrics\n",
    "import numpy as np\n",
    "import statistics\n",
    "\n",
    "# Need to use package inside `Required_Python_Packages`\n",
    "import ProgramName\n",
    "from Rex import Rex\n",
    "rex=Rex()\n",
    "import TempFilename\n",
    "from SummaryStats import SummaryStats\n",
    "import getopt\n"
   ]
  },
  {
   "cell_type": "code",
   "execution_count": 2,
   "metadata": {
    "ExecuteTime": {
     "end_time": "2021-08-05T15:19:38.027067Z",
     "start_time": "2021-08-05T15:19:38.019521Z"
    }
   },
   "outputs": [],
   "source": [
    "def getFieldIndex(label,fields):\n",
    "    numFields=len(fields)\n",
    "    index=None\n",
    "    for i in range(7,numFields):\n",
    "        if(fields[i]==label): index=i\n",
    "    return index\n",
    "\n",
    "def getThetaIndex(fields):\n",
    "    numFields=len(fields)\n",
    "    thetaIndex=-1\n",
    "    pIndex=-1\n",
    "    qIndex=-1\n",
    "    for i in range(7,numFields):\n",
    "        if(fields[i]==\"theta\"): thetaIndex=i\n",
    "        elif(fields[i]==\"p\"): pIndex=i\n",
    "        elif(fields[i]==\"q\"): qIndex=i\n",
    "    return (thetaIndex,pIndex,qIndex)\n",
    "\n",
    "def writeToFile(fields,OUT):\n",
    "    numFields=len(fields)\n",
    "    for i in range(7,numFields):\n",
    "        print(fields[i],end=\"\",file=OUT)\n",
    "        if(i<numFields-1): print(\"\\t\",end=\"\",file=OUT)\n",
    "    print(file=OUT)\n",
    "\n",
    "def computeThetaDirectly(fields,pIndex,qIndex):\n",
    "    #raise Exception(\"computeThetaDirectly\")\n",
    "    if(pIndex<0 or qIndex<0): return 1 # beta-binomial model\n",
    "    p=float(fields[pIndex])\n",
    "    q=float(fields[qIndex])\n",
    "    theta=q/p/((1-q)/(1-p))\n",
    "    return theta\n",
    "\n",
    "def printFields(fields,hFile):\n",
    "    numFields=len(fields)\n",
    "    for i in range(7,numFields):\n",
    "        print(i-6,\"=\",fields[i],sep=\"\",end=\"\",file=hFile)\n",
    "        if(i<numFields-1): print(\"\\t\",end=\"\",file=hFile)\n",
    "    print(file=hFile)\n",
    "import numpy as np\n",
    "from sklearn import metrics"
   ]
  },
  {
   "cell_type": "code",
   "execution_count": 3,
   "metadata": {
    "ExecuteTime": {
     "end_time": "2021-08-05T15:19:38.041600Z",
     "start_time": "2021-08-05T15:19:38.029160Z"
    }
   },
   "outputs": [],
   "source": [
    "class Variant:\n",
    "    def __init__(self,fields):\n",
    "        self.v=fields[0]\n",
    "        self.N_DNA=int(fields[4])\n",
    "        rnaIndex=5+2*self.N_DNA\n",
    "        self.N_RNA=int(fields[rnaIndex])\n",
    "        self.a=Variant.getReadCounts(fields,6,self.N_DNA)\n",
    "        self.b=Variant.getReadCounts(fields,5,self.N_DNA)\n",
    "        self.k=Variant.getReadCounts(fields,rnaIndex+2,self.N_RNA)\n",
    "        self.m=Variant.getReadCounts(fields,rnaIndex+1,self.N_RNA)\n",
    "    @classmethod\n",
    "    def getReadCounts(cls,fields,start,numReps):\n",
    "        counts=[]\n",
    "        for rep in range(numReps):\n",
    "            counts.append(fields[start+rep*2])\n",
    "        return counts\n",
    "\n",
    "def writeInputsFile(variants,filename):\n",
    "    N_VARIANTS=len(variants)\n",
    "    if(N_VARIANTS<1): raise Exception(\"no variants\")\n",
    "    OUT=open(filename,\"wt\")\n",
    "    print(\"N_VARIANTS <- \",N_VARIANTS,sep=\"\",file=OUT)\n",
    "    print(\"v <- structure(c(\",end=\"\",file=OUT)\n",
    "    for i in range(N_VARIANTS):\n",
    "        print(round(float(variants[i].v),5),end=\"\",file=OUT)\n",
    "        if(i+1<N_VARIANTS): print(\", \",end=\"\",file=OUT)\n",
    "    print(\"), .Dim=c(\",N_VARIANTS,\"))\",sep=\"\",file=OUT)\n",
    "    N_DNA=variants[0].N_DNA\n",
    "    print(\"N_DNA <- \",N_DNA,sep=\"\",file=OUT)\n",
    "    print(\"a <- structure(c(\",end=\"\",file=OUT)\n",
    "    for j in range(N_DNA):\n",
    "        for i in range(N_VARIANTS):\n",
    "            print(variants[i].a[j],end=\"\",file=OUT)\n",
    "            if(i+1<N_VARIANTS): print(\",\",end=\"\",file=OUT)\n",
    "        if(j+1<N_DNA): print(\",\",end=\"\",file=OUT)\n",
    "    print(\"), .Dim=c(\",N_VARIANTS,\",\",N_DNA,\"))\",sep=\"\",file=OUT)\n",
    "    print(\"b <- structure(c(\",end=\"\",file=OUT)\n",
    "    for j in range(N_DNA):\n",
    "        for i in range(N_VARIANTS):\n",
    "            print(variants[i].b[j],end=\"\",file=OUT)\n",
    "            if(i+1<N_VARIANTS): print(\",\",end=\"\",file=OUT)\n",
    "        if(j+1<N_DNA): print(\",\",end=\"\",file=OUT)\n",
    "    print(\"), .Dim=c(\",N_VARIANTS,\",\",N_DNA,\"))\",sep=\"\",file=OUT)\n",
    "    N_RNA=variants[0].N_RNA\n",
    "    print(\"N_RNA <- \",N_RNA,sep=\"\",file=OUT)\n",
    "    print(\"k <- structure(c(\",end=\"\",file=OUT)\n",
    "    for j in range(N_RNA):\n",
    "        for i in range(N_VARIANTS):\n",
    "            print(variants[i].k[j],end=\"\",file=OUT)\n",
    "            if(i+1<N_VARIANTS): print(\",\",end=\"\",file=OUT)\n",
    "        if(j+1<N_RNA): print(\",\",end=\"\",file=OUT)\n",
    "    print(\"), .Dim=c(\",N_VARIANTS,\",\",N_RNA,\"))\",sep=\"\",file=OUT)\n",
    "    print(\"m <- structure(c(\",end=\"\",file=OUT)\n",
    "    for j in range(N_RNA):\n",
    "        for i in range(N_VARIANTS):\n",
    "            print(variants[i].m[j],end=\"\",file=OUT)\n",
    "            if(i+1<N_VARIANTS): print(\",\",end=\"\",file=OUT)\n",
    "        if(j+1<N_RNA): print(\",\",end=\"\",file=OUT)\n",
    "    print(\"), .Dim=c(\",N_VARIANTS,\",\",N_RNA,\"))\",sep=\"\",file=OUT)\n",
    "    OUT.close()\n",
    "    \n"
   ]
  },
  {
   "cell_type": "markdown",
   "metadata": {},
   "source": [
    "## - Simulate mixed regulatory and null variants "
   ]
  },
  {
   "cell_type": "code",
   "execution_count": 86,
   "metadata": {
    "ExecuteTime": {
     "end_time": "2021-07-15T08:42:57.367854Z",
     "start_time": "2021-07-15T08:42:57.364191Z"
    }
   },
   "outputs": [],
   "source": [
    "#define variable \n",
    "# theta(effect size)\n",
    "l=2\n",
    "# Number of variants total\n",
    "num = 1000\n",
    "# Number of regulatory variants \n",
    "pos = 50\n",
    "null= num-pos\n",
    "per = pos/(pos+null)\n",
    "# Minor Allele Frequency \n",
    "v= 0.1\n",
    "# pre-defined \n",
    "qc = 124.6\n",
    "# pre-defined\n",
    "pc = 71.9\n",
    "# Number of DNA site, usually 1\n",
    "dna = 1\n",
    "# Number of RNA site\n",
    "rna = 10\n",
    "# DNA reads \n",
    "dna_read = 30 #30 - 100 - 500 - 1000\n",
    "# RNA reads (reads of all RNA pairs total)\n",
    "rna_read = 300 #30 - 100 - 500 - 1000\n",
    "\n",
    "file1 = \"regulatory_v.txt\".format(l,per,pos,dna_read)\n",
    "file2 = \"null_v.txt\".format(1,per,null,dna_read)\n",
    "file3 = \"{}_data_{}_{}_read{}.txt\".format(l,per,num,3030)\n"
   ]
  },
  {
   "cell_type": "code",
   "execution_count": 87,
   "metadata": {
    "ExecuteTime": {
     "end_time": "2021-07-15T08:43:01.275933Z",
     "start_time": "2021-07-15T08:43:00.437950Z"
    }
   },
   "outputs": [],
   "source": [
    "cmd1 = \"./sim-equal.R {} {} {} {} {} {} {} {} {} > ./STANINPUTS/{}\".format(pos,v,qc,pc,dna,rna,l,dna_read,rna_read,file1)\n",
    "cmd2 = \"./sim-equal.R {} {} {} {} {} {} {} {} {} > ./STANINPUTS/{}\".format(null,v,qc,pc,dna,rna,1,dna_read,rna_read,file2)\n",
    "cmd3 = \"cat ./STANINPUTS/{} ./STANINPUTS/{} > ./STANINPUTS/{}\".format(file1, file2, file3)\n",
    "cmd4 = \"rm ./STANINPUTS/{}\".format(file1)\n",
    "cmd5 = \"rm ./STANINPUTS/{}\".format(file2)\n",
    "\n",
    "\n",
    "os.system(cmd1)\n",
    "os.system(cmd2)\n",
    "os.system(cmd3)\n",
    "os.system(cmd4)\n",
    "os.system(cmd5)\n",
    "\n",
    "\n",
    "thetaIndex=None; pIndex=None; qIndex=None\n",
    "variantIndex=0\n",
    "variants=[]\n",
    "with open(\"./STANINPUTS/{}\".format(file3),\"rt\") as IN:\n",
    "    for line in IN:\n",
    "        # Check whether this variant is in the range to be processed\n",
    "        if(variantIndex<0):\n",
    "            variantIndex+=1\n",
    "            continue\n",
    "        elif(variantIndex>num): break\n",
    "        fields=line.rstrip().split()\n",
    "        variant=Variant(fields)\n",
    "        variants.append(variant)\n",
    "        variantIndex+=1\n",
    "\n",
    "inputfile = './STANINPUTS/{}.staninputs'.format(file3)\n",
    "writeInputsFile(variants, inputfile)"
   ]
  },
  {
   "cell_type": "markdown",
   "metadata": {},
   "source": [
    "## - Simulate all regulatory variants"
   ]
  },
  {
   "cell_type": "code",
   "execution_count": 37,
   "metadata": {
    "ExecuteTime": {
     "end_time": "2021-07-08T04:23:04.688774Z",
     "start_time": "2021-07-08T04:23:04.154525Z"
    }
   },
   "outputs": [
    {
     "data": {
      "text/plain": [
       "0"
      ]
     },
     "execution_count": 37,
     "metadata": {},
     "output_type": "execute_result"
    }
   ],
   "source": [
    "#define variable \n",
    "l=2\n",
    "num = 1000\n",
    "# for all regulatory variants simulation, per always = 1.0\n",
    "per = 1.0\n",
    "v= 0.1\n",
    "qc = 124.6\n",
    "pc = 71.9\n",
    "dna = 1\n",
    "rna = 10\n",
    "# for the reads, when filename contains \"5050\", which means \n",
    "# for each DNA and RNA pair, reads are 50. \n",
    "dna_read = 100 #30 - 100 - 500 - 1000\n",
    "rna_read = 1000 #30 - 100 - 500 - 1000\n",
    "file3 = \"{}_data_{}_{}_read{}{}.txt\".format(l,per,num,dna_read,dna_read)\n",
    "\n",
    "cmd1 = \"./sim-equal.R {} {} {} {} {} {} {} {} {} > ./STANINPUTS/{}\".format(num,v,qc,pc,dna,rna,l,dna_read,rna_read,file3)\n",
    "os.system(cmd1)\n"
   ]
  },
  {
   "cell_type": "code",
   "execution_count": 38,
   "metadata": {
    "ExecuteTime": {
     "end_time": "2021-07-08T04:23:05.724618Z",
     "start_time": "2021-07-08T04:23:05.685030Z"
    }
   },
   "outputs": [],
   "source": [
    "thetaIndex=None; pIndex=None; qIndex=None\n",
    "variantIndex=0\n",
    "variants=[]\n",
    "with open(\"./STANINPUTS/{}\".format(file3),\"rt\") as IN:\n",
    "    for line in IN:\n",
    "        # Check whether this variant is in the range to be processed\n",
    "        if(variantIndex<0):\n",
    "            variantIndex+=1\n",
    "            continue\n",
    "        elif(variantIndex>num): break\n",
    "        fields=line.rstrip().split()\n",
    "        variant=Variant(fields)\n",
    "        variants.append(variant)\n",
    "        variantIndex+=1\n",
    "\n",
    "inputfile = './STANINPUTS/{}.staninputs'.format(file3)\n",
    "writeInputsFile(variants, inputfile)"
   ]
  },
  {
   "cell_type": "code",
   "execution_count": null,
   "metadata": {
    "ExecuteTime": {
     "end_time": "2021-07-08T03:55:08.447328Z",
     "start_time": "2021-07-08T03:55:07.641161Z"
    }
   },
   "outputs": [],
   "source": []
  }
 ],
 "metadata": {
  "kernelspec": {
   "display_name": "stan",
   "language": "python",
   "name": "stan"
  },
  "language_info": {
   "codemirror_mode": {
    "name": "ipython",
    "version": 3
   },
   "file_extension": ".py",
   "mimetype": "text/x-python",
   "name": "python",
   "nbconvert_exporter": "python",
   "pygments_lexer": "ipython3",
   "version": "3.8.10"
  }
 },
 "nbformat": 4,
 "nbformat_minor": 2
}
