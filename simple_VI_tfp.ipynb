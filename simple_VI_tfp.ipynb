{
 "cells": [
  {
   "cell_type": "code",
   "execution_count": 1,
   "metadata": {
    "ExecuteTime": {
     "end_time": "2021-06-24T02:46:59.121612Z",
     "start_time": "2021-06-24T02:46:54.479443Z"
    },
    "scrolled": true
   },
   "outputs": [],
   "source": [
    "# Imports\n",
    "%matplotlib inline\n",
    "import numpy as np\n",
    "import scipy as sp\n",
    "import pandas as pd\n",
    "import tensorflow as tf\n",
    "from scipy.stats import expon, uniform\n",
    "import matplotlib.pyplot as plt\n",
    "import tensorflow_probability as tfp\n",
    "from pprint import pprint\n",
    "import sys\n",
    "import os\n",
    "import seaborn as sns\n",
    "import statistics\n",
    "import random\n",
    "import collections\n",
    "import tensorflow_datasets as tfds\n",
    "\n",
    "from tensorflow_probability.python.mcmc.transformed_kernel import (\n",
    "    make_transform_fn, make_transformed_log_prob)\n",
    "\n",
    "tfb = tfp.bijectors\n",
    "tfd = tfp.distributions\n",
    "dtype = tf.float32\n",
    "tfde = tfp.experimental.distributions\n"
   ]
  },
  {
   "cell_type": "markdown",
   "metadata": {},
   "source": [
    "# Control versions of TF and TFP"
   ]
  },
  {
   "cell_type": "code",
   "execution_count": 255,
   "metadata": {
    "ExecuteTime": {
     "end_time": "2021-06-24T05:29:29.324448Z",
     "start_time": "2021-06-24T05:29:29.317576Z"
    },
    "scrolled": true
   },
   "outputs": [],
   "source": [
    "def plot(x):\n",
    "    fig = plt.figure(figsize=(6, 2))\n",
    "    sns.distplot(x, hist = False, kde = True,\n",
    "                kde_kws = {'shade': True, 'linewidth': 1}, color = 'c')\n",
    "    plt.axvline(x = statistics.median(x))\n",
    "    print(statistics.median(x))\n",
    "    plt.xlim(0,3)"
   ]
  },
  {
   "cell_type": "code",
   "execution_count": 2,
   "metadata": {
    "ExecuteTime": {
     "end_time": "2021-06-24T02:47:00.753922Z",
     "start_time": "2021-06-24T02:47:00.745963Z"
    }
   },
   "outputs": [
    {
     "data": {
      "text/plain": [
       "'2.6.0-dev20210616'"
      ]
     },
     "execution_count": 2,
     "metadata": {},
     "output_type": "execute_result"
    }
   ],
   "source": [
    "tf.__version__"
   ]
  },
  {
   "cell_type": "code",
   "execution_count": 3,
   "metadata": {
    "ExecuteTime": {
     "end_time": "2021-06-24T02:47:02.233608Z",
     "start_time": "2021-06-24T02:47:02.229638Z"
    }
   },
   "outputs": [
    {
     "data": {
      "text/plain": [
       "'0.13.0'"
      ]
     },
     "execution_count": 3,
     "metadata": {},
     "output_type": "execute_result"
    }
   ],
   "source": [
    "tfp.__version__"
   ]
  },
  {
   "cell_type": "markdown",
   "metadata": {},
   "source": [
    "# Example model: Normal distirbution"
   ]
  },
  {
   "cell_type": "code",
   "execution_count": 28,
   "metadata": {},
   "outputs": [
    {
     "name": "stdout",
     "output_type": "stream",
     "text": [
      "(('sigma', ()), ('mu', ()), ('x', ('mu', 'sigma')))\n"
     ]
    },
    {
     "data": {
      "text/plain": [
       "[<tf.Tensor: shape=(), dtype=float32, numpy=2.1403925>,\n",
       " <tf.Tensor: shape=(), dtype=float32, numpy=-6.5772223>,\n",
       " <tf.Tensor: shape=(), dtype=float32, numpy=-7.2311325>]"
      ]
     },
     "execution_count": 28,
     "metadata": {},
     "output_type": "execute_result"
    }
   ],
   "source": [
    "# Example model \n",
    "\n",
    "mu = 12\n",
    "sigma = 2.2\n",
    "data = np.random.normal(mu, sigma, size=1000)\n",
    "\n",
    "# Defining the model\n",
    "model = tfd.JointDistributionSequential([\n",
    "    # sigma_prior\n",
    "    tfd.Exponential(1, name='sigma'),\n",
    "\n",
    "    # mu_prior\n",
    "    tfd.Normal(loc=0, scale=10, name='mu'),\n",
    "\n",
    "    # likelihood\n",
    "    lambda mu, sigma: tfd.Normal(loc=mu, scale=sigma)\n",
    "])\n",
    "\n",
    "#simple normal example\n",
    "print(model.resolve_graph())\n",
    "joint_log_prob = lambda *x: model.log_prob(x + (data,))\n",
    "model.sample()"
   ]
  },
  {
   "cell_type": "markdown",
   "metadata": {},
   "source": [
    "# Real model: Simplified ASE model "
   ]
  },
  {
   "cell_type": "code",
   "execution_count": 177,
   "metadata": {
    "ExecuteTime": {
     "end_time": "2021-06-24T04:56:01.460152Z",
     "start_time": "2021-06-24T04:56:01.433353Z"
    },
    "scrolled": true
   },
   "outputs": [
    {
     "name": "stdout",
     "output_type": "stream",
     "text": [
      "(('log2_theta', ()), ('x', ('log2_theta',)))\n"
     ]
    },
    {
     "data": {
      "text/plain": [
       "[<tf.Tensor: shape=(), dtype=float32, numpy=0.069106385>,\n",
       " <tf.Tensor: shape=(), dtype=float32, numpy=241.0>]"
      ]
     },
     "execution_count": 177,
     "metadata": {},
     "output_type": "execute_result"
    }
   ],
   "source": [
    "#### Simulated data from STANINPUTS\n",
    "depth = 5\n",
    "theta = 2\n",
    "data = []\n",
    "with open(\"JABS/STANINPUTS/data_N1000_H1_D{}_T2_F0.txt\".format(depth),\"rt\") as IN:\n",
    "        for line in IN:\n",
    "            fields=line.rstrip().split()\n",
    "            fields = [float(i) for i in fields]\n",
    "            #fields = fields[2:3]\n",
    "            data.append(fields[2:3])\n",
    "data = sum(data,[])\n",
    "\n",
    "#### Simulated data from np\n",
    "\n",
    "data = np.random.binomial(depth*100,theta/(1+theta), 1000)\n",
    "\n",
    "\n",
    "#### Defining the model\n",
    "sigma = 0.5\n",
    "model = tfd.JointDistributionSequential([\n",
    "    # log2_theta prior\n",
    "    tfd.Normal(loc=0, scale=sigma, name='log2_theta'),\n",
    "\n",
    "    # likelihood\n",
    "    lambda log2_theta: tfd.Binomial(depth*100,probs = (pow(2,log2_theta)/(1+ pow(2,log2_theta)) )) \n",
    "])\n",
    "\n",
    "\n",
    "#simple normal example\n",
    "print(model.resolve_graph())\n",
    "joint_log_prob = lambda *x: model.log_prob(x + (data,))\n",
    "model.sample()"
   ]
  },
  {
   "cell_type": "markdown",
   "metadata": {},
   "source": [
    "# Multilevel Example\n",
    "https://colab.research.google.com/github/tensorflow/probability/blob/master/tensorflow_probability/examples/jupyter_notebooks/Multilevel_Modeling_Primer.ipynb#scrollTo=-bPcpgMsIykz\n"
   ]
  },
  {
   "cell_type": "code",
   "execution_count": null,
   "metadata": {},
   "outputs": [],
   "source": []
  },
  {
   "cell_type": "markdown",
   "metadata": {},
   "source": [
    "# Real model: BIRD model "
   ]
  },
  {
   "cell_type": "code",
   "execution_count": null,
   "metadata": {},
   "outputs": [],
   "source": [
    "# BIRD STAN code\n",
    "data {\n",
    "   int<lower=1> N_VARIANTS;             // number of variants in the model\n",
    "   real<lower=0,upper=1> v[N_VARIANTS]; // alt allele freq in VCF file\n",
    "   int<lower=1> N_DNA;                  // number of DNA replicates\n",
    "   int<lower=0> a[N_VARIANTS,N_DNA];   // DNA alt read counts\n",
    "   int<lower=0> b[N_VARIANTS,N_DNA];   // DNA ref read counts\n",
    "   int<lower=1> N_RNA;                  // number of RNA replicates\n",
    "   int<lower=0> k[N_VARIANTS,N_RNA];   // RNA alt read counts\n",
    "   int<lower=0> m[N_VARIANTS,N_RNA];   // RNA ref read counts\n",
    "}\n",
    "\n",
    "parameters {\n",
    "   real<lower=0,upper=1> p[N_VARIANTS]; // alt allele freq in DNA\n",
    "   real<lower=0,upper=1> qi[N_VARIANTS,N_RNA]; // alt freqs in RNA\n",
    "   real<lower=0> theta[N_VARIANTS];\n",
    "   real<lower=2> c1; // concentration parameter of beta prior for qi\n",
    "   real<lower=2> c2; // concentration parameter of beta prior for p\n",
    "   real<lower=0> s; // std.dev. parameter of lognormal prior for theta\n",
    "}\n",
    "\n",
    "transformed parameters { // ORDER MATTERS!\n",
    "   real<lower=0,upper=1> q[N_VARIANTS]; // alt allele freq in RNA\n",
    "   for(j in 1:N_VARIANTS)\n",
    "      q[j]=theta[j]*p[j]/(1.0-p[j]+theta[j]*p[j]);\n",
    "}\n",
    "\n",
    "model {\n",
    "   // Parameters\n",
    "   c1 ~ gamma(1.1, 0.005);\n",
    "   c2 ~ gamma(1.1, 0.005);\n",
    "   s ~ gammaModeSD(1,1);\n",
    "\n",
    "   for(j in 1:N_VARIANTS) {\n",
    "      p[j] ~ betaModeConc(v[j],c2);\n",
    "      #\n",
    "      log(theta[j])/s ~ normal(0,1); // theta~lognormal(0,s)\n",
    "      target+=-log(theta[j])-log(s); // Jacobian\n",
    "      for(i in 1:N_RNA)\n",
    "         qi[j,i] ~ betaModeConc(q[j],c1);\n",
    "      for(i in 1:N_DNA)\n",
    "         a[j,i] ~ binomial(a[j,i]+b[j,i],p[j]);\n",
    "      for(i in 1:N_RNA)\n",
    "         k[j,i] ~ binomial(k[j,i]+m[j,i],qi[j,i]);\n",
    "   }\n",
    "}\n"
   ]
  },
  {
   "cell_type": "markdown",
   "metadata": {},
   "source": [
    "\n",
    "\n"
   ]
  },
  {
   "cell_type": "code",
   "execution_count": 346,
   "metadata": {
    "ExecuteTime": {
     "end_time": "2021-06-24T06:23:30.597803Z",
     "start_time": "2021-06-24T06:23:30.592880Z"
    }
   },
   "outputs": [],
   "source": [
    "# BIRD Function \n",
    "def GammaModeSD(mode, sd, name = None):\n",
    "    r=(mode+np.sqrt(mode**2+4*(sd**2)))/(2*(sd**2))\n",
    "    s=1 + (mode*r)\n",
    "    return tfd.Gamma(concentration= tf.cast(r,tf.float32), rate = tf.cast(s,tf.float32), name= name)\n",
    "\n",
    "def BetaModeConc(mode,c, name = None):\n",
    "    c1 = mode*(c-2)+1\n",
    "    c2 = (1-mode)*(c-1)+1\n",
    "    return tfd.Beta(concentration1 = tf.cast(c1,tf.float32), concentration0=tf.cast(c2,tf.float32), name = name)\n"
   ]
  },
  {
   "cell_type": "code",
   "execution_count": 358,
   "metadata": {
    "ExecuteTime": {
     "end_time": "2021-06-24T06:31:29.677212Z",
     "start_time": "2021-06-24T06:31:29.597785Z"
    },
    "scrolled": true
   },
   "outputs": [
    {
     "data": {
      "text/plain": [
       "StructTuple(\n",
       "  c1=<tf.Tensor: shape=(), dtype=float32, numpy=208.56717>,\n",
       "  c2=<tf.Tensor: shape=(), dtype=float32, numpy=119.7016>,\n",
       "  s=<tf.Tensor: shape=(), dtype=float32, numpy=1.0168474>,\n",
       "  theta=<tf.Tensor: shape=(10,), dtype=float32, numpy=\n",
       "    array([3.0010018 , 0.15060464, 0.8979827 , 4.072646  , 2.126497  ,\n",
       "           1.1117243 , 0.20129718, 1.3587592 , 1.0721883 , 0.4174209 ],\n",
       "          dtype=float32)>,\n",
       "  p=<tf.Tensor: shape=(10,), dtype=float32, numpy=\n",
       "    array([0.10762128, 0.09902164, 0.09412014, 0.12293765, 0.09795275,\n",
       "           0.09797671, 0.08842909, 0.11935028, 0.1315391 , 0.08076626],\n",
       "          dtype=float32)>,\n",
       "  qi=<tf.Tensor: shape=(10, 10), dtype=float32, numpy=\n",
       "    array([[0.23839992, 0.2900599 , 0.3372831 , 0.25857127, 0.23782828,\n",
       "            0.25681162, 0.28601247, 0.24657485, 0.30077696, 0.28241098],\n",
       "           [0.02376759, 0.06525993, 0.04023969, 0.01561907, 0.01232368,\n",
       "            0.00938773, 0.01473299, 0.03366718, 0.04613873, 0.02386975],\n",
       "           [0.08110955, 0.13673818, 0.09149945, 0.07759854, 0.13364586,\n",
       "            0.07282746, 0.09832302, 0.11619961, 0.07951665, 0.07668033],\n",
       "           [0.33647144, 0.37137252, 0.3835762 , 0.34405255, 0.38198942,\n",
       "            0.331049  , 0.3076756 , 0.37030095, 0.35600674, 0.33709922],\n",
       "           [0.23970824, 0.23333761, 0.18935248, 0.20025063, 0.15539607,\n",
       "            0.21727264, 0.14985213, 0.12719133, 0.25295877, 0.1112254 ],\n",
       "           [0.1274412 , 0.10369173, 0.07449853, 0.11917037, 0.11993158,\n",
       "            0.10480401, 0.10779026, 0.14189294, 0.09520063, 0.13095218],\n",
       "           [0.05542633, 0.04149592, 0.0170505 , 0.01455164, 0.00879321,\n",
       "            0.04564175, 0.04019883, 0.01907685, 0.0209896 , 0.01825914],\n",
       "           [0.13559082, 0.11660624, 0.15009096, 0.11235353, 0.15974438,\n",
       "            0.18307054, 0.19664264, 0.08721372, 0.10219696, 0.17727157],\n",
       "           [0.08562818, 0.1262675 , 0.10672748, 0.18921003, 0.13939768,\n",
       "            0.13533872, 0.1379314 , 0.16894329, 0.16959977, 0.12355328],\n",
       "           [0.06062487, 0.04142594, 0.04027906, 0.04904568, 0.03697008,\n",
       "            0.06043473, 0.02381435, 0.03069568, 0.0610415 , 0.04481819]],\n",
       "          dtype=float32)>,\n",
       "  k=<tf.Tensor: shape=(10, 10), dtype=float32, numpy=\n",
       "    array([[15., 13., 21., 18., 13., 15., 20., 16., 17., 17.],\n",
       "           [12.,  9., 13., 22., 13., 13., 15., 16., 14., 10.],\n",
       "           [15., 17., 16., 13., 15., 18., 13., 16., 19., 20.],\n",
       "           [19., 21., 16., 19., 21., 16., 18., 17., 17., 19.],\n",
       "           [15., 16., 16., 19., 16., 16., 17., 13., 15., 17.],\n",
       "           [17., 16., 19., 15., 18., 14., 16., 18., 19., 16.],\n",
       "           [15., 13.,  9., 12., 19., 13., 19., 16., 17., 17.],\n",
       "           [13., 17., 16., 16., 16., 14., 18., 17., 19., 19.],\n",
       "           [15., 15., 17., 12., 16., 19., 18., 14., 17., 16.],\n",
       "           [14., 16., 10., 15., 12., 16., 18., 17., 10., 15.]], dtype=float32)>,\n",
       "  a=<tf.Tensor: shape=(10,), dtype=float32, numpy=\n",
       "    array([153., 157., 162., 163., 145., 164., 156., 161., 166., 152.],\n",
       "          dtype=float32)>\n",
       ")"
      ]
     },
     "execution_count": 358,
     "metadata": {},
     "output_type": "execute_result"
    }
   ],
   "source": [
    "N_V = 10\n",
    "N_DNA  =1\n",
    "N_RNA = 10\n",
    "V = 0.1\n",
    "D_DNA = 300\n",
    "D_RNA = 30\n",
    "DNA = [[150]*N_DNA]*N_V\n",
    "RNA = [[15]*N_RNA]*N_V\n",
    "\n",
    "\n",
    "@tfd.JointDistributionCoroutineAutoBatched\n",
    "def model():\n",
    "    ## c1 prior \n",
    "    c1 = yield tfd.Gamma(concentration = 1.1, rate = 0.005, name = \"c1\")\n",
    "    ## c2 prior\n",
    "    c2 = yield tfd.Gamma(concentration = 1.1, rate = 0.005, name = \"c2\")\n",
    "    ## s prior \n",
    "    s = yield GammaModeSD(1,1, name = \"s\")\n",
    "    ## theta prior \n",
    "    theta = yield tfd.Sample(tfd.LogNormal(0,s,name = \"theta\"), sample_shape=[N_V], name = \"theta\")\n",
    "    ## p prior\n",
    "    p = yield tfd.Sample(BetaModeConc(0.1,c1,name = \"p\"), sample_shape= [N_V], name = \"p\")\n",
    "    ## tfp bug, need to cast tensor to float32\n",
    "    #theta = tf.cast(theta, tf.float32)\n",
    "    #p = tf.cast(p, tf.float32)\n",
    "    ## q formula\n",
    "    q = (theta*p)/(1-p+theta*p)\n",
    "    ## qi prior \n",
    "    qi = yield tfd.Sample(BetaModeConc(q, c2, name = \"qi\"),sample_shape=[N_RNA], name = \"qi\")\n",
    "    ## qi likelihood \n",
    "    yield tfd.Binomial(tf.cast(D_RNA,tf.float32),qi, name = \"k\")\n",
    "    # p likelihood\n",
    "    yield tfd.Binomial(tf.cast(D_DNA,tf.float32),p, name = \"a\")    \n",
    "\n",
    "\n",
    "target_model = model.experimental_pin(a = DNA, k = RNA)\n",
    "\n",
    "model.sample()\n",
    "\n"
   ]
  },
  {
   "cell_type": "code",
   "execution_count": 406,
   "metadata": {
    "ExecuteTime": {
     "end_time": "2021-06-24T07:44:23.300103Z",
     "start_time": "2021-06-24T07:44:23.071721Z"
    },
    "scrolled": true
   },
   "outputs": [],
   "source": [
    "## single site BIRD\n",
    "N_V = 1\n",
    "N_DNA  =1\n",
    "N_RNA = 10\n",
    "V = 0.1\n",
    "D_DNA = 100\n",
    "D_RNA = 10\n",
    "DNA = [150]*N_DNA\n",
    "RNA = [15]*N_RNA\n",
    "\n",
    "@tfd.JointDistributionCoroutineAutoBatched\n",
    "def model():\n",
    "    ## c1 prior \n",
    "    c1 = yield tfd.Gamma(concentration = 1.1, rate = 0.005, name = \"c1\")\n",
    "    ## c2 prior\n",
    "    c2 = yield tfd.Gamma(concentration = 1.1, rate = 0.005, name = \"c2\")\n",
    "    ## s prior \n",
    "    s = yield GammaModeSD(1,1, name = \"s\")\n",
    "    ## theta prior \n",
    "    theta = yield tfd.LogNormal(0,s, name = \"theta\")\n",
    "    ## p prior\n",
    "    p = yield BetaModeConc(0.1,c1, name = \"p\")\n",
    "    ## tfp bug, need to cast tensor to float32\n",
    "    #theta = tf.cast(theta, tf.float32)\n",
    "    #p = tf.cast(p, tf.float32)\n",
    "    ## q formula\n",
    "    q = (theta*p)/(1-p+theta*p)\n",
    "    ## qi prior \n",
    "    qi = yield tfd.Sample(BetaModeConc(q, c2, name = \"qi\"),sample_shape=[N_RNA], name = \"qi\")\n",
    "    ## qi likelihood \n",
    "    yield tfd.Binomial(tf.cast(D_RNA,tf.float32),qi, name = \"k\")\n",
    "    # p likelihood\n",
    "    yield tfd.Binomial(tf.cast(D_DNA,tf.float32),p, name = \"a\")    \n",
    "\n",
    "\n",
    "target_model = model.experimental_pin(a = DNA, k = RNA)\n",
    "\n",
    "\n",
    "\n",
    "\n"
   ]
  },
  {
   "cell_type": "code",
   "execution_count": 407,
   "metadata": {
    "ExecuteTime": {
     "end_time": "2021-06-24T07:44:23.430947Z",
     "start_time": "2021-06-24T07:44:23.383182Z"
    }
   },
   "outputs": [],
   "source": [
    "# Determine the `event_shape` of the posterior, and calculate the size of each\n",
    "# `event_shape` component. These determine the sizes of the components of the\n",
    "# underlying standard Normal distribution, and the dimensions of the blocks in\n",
    "# the blockwise matrix transformation.\n",
    "event_shape = target_model.event_shape_tensor()\n",
    "flat_event_shape = tf.nest.flatten(event_shape)\n",
    "flat_event_size = tf.nest.map_structure(tf.reduce_prod, flat_event_shape)\n",
    "\n",
    "# The `event_space_bijector` maps unconstrained values (in R^n) to the support\n",
    "# of the prior -- we'll need this at the end to constrain Multivariate Normal\n",
    "# samples to the prior's support.\n",
    "event_space_bijector = target_model.experimental_default_event_space_bijector()\n",
    "\n"
   ]
  },
  {
   "cell_type": "code",
   "execution_count": 408,
   "metadata": {
    "ExecuteTime": {
     "end_time": "2021-06-24T07:44:59.322076Z",
     "start_time": "2021-06-24T07:44:32.467507Z"
    },
    "scrolled": true
   },
   "outputs": [
    {
     "name": "stderr",
     "output_type": "stream",
     "text": [
      "/Users/sean00002/anaconda3/envs/tensorflow/lib/python3.8/site-packages/tensorflow_probability/python/internal/vectorization_util.py:91: UserWarning: Saw Tensor seed Tensor(\"monte_carlo_variational_loss/expectation/JointDistributionCoroutineAutoBatched/unnormalized_log_prob/Const:0\", shape=(2,), dtype=int32), implying stateless sampling. Autovectorized functions that use stateless sampling may be quite slow because the current implementation falls back to an explicit loop. This will be fixed in the future. For now, you will likely see better performance from stateful sampling, which you can invoke by passing a Python `int` seed.\n",
      "  warnings.warn(\n",
      "/Users/sean00002/anaconda3/envs/tensorflow/lib/python3.8/site-packages/tensorflow_probability/python/internal/vectorization_util.py:91: UserWarning: Saw Tensor seed Tensor(\"monte_carlo_variational_loss/expectation/JointDistributionCoroutineAutoBatched/unnormalized_log_prob/Const:0\", shape=(2,), dtype=int32), implying stateless sampling. Autovectorized functions that use stateless sampling may be quite slow because the current implementation falls back to an explicit loop. This will be fixed in the future. For now, you will likely see better performance from stateful sampling, which you can invoke by passing a Python `int` seed.\n",
      "  warnings.warn(\n",
      "/Users/sean00002/anaconda3/envs/tensorflow/lib/python3.8/site-packages/tensorflow_probability/python/internal/vectorization_util.py:91: UserWarning: Saw Tensor seed [0 0], implying stateless sampling. Autovectorized functions that use stateless sampling may be quite slow because the current implementation falls back to an explicit loop. This will be fixed in the future. For now, you will likely see better performance from stateful sampling, which you can invoke by passing a Python `int` seed.\n",
      "  warnings.warn(\n"
     ]
    },
    {
     "name": "stdout",
     "output_type": "stream",
     "text": [
      "Mean-field surrogate posterior ELBO: -inf\n"
     ]
    }
   ],
   "source": [
    "# A block-diagonal linear operator, in which each block is a diagonal operator,\n",
    "# transforms the standard Normal base distribution to produce a mean-field\n",
    "# surrogate posterior.\n",
    "operators = (tf.linalg.LinearOperatorDiag,\n",
    "             tf.linalg.LinearOperatorDiag,\n",
    "             tf.linalg.LinearOperatorDiag,\n",
    "             tf.linalg.LinearOperatorDiag,\n",
    "             tf.linalg.LinearOperatorDiag,\n",
    "             tf.linalg.LinearOperatorDiag)\n",
    "block_diag_linop = (\n",
    "    tfp.experimental.vi.util.build_trainable_linear_operator_block(\n",
    "        operators, flat_event_size))\n",
    "mean_field_scale = tfb.ScaleMatvecLinearOperatorBlock(block_diag_linop)\n",
    "\n",
    "mean_field_loc = tfb.JointMap(\n",
    "    tf.nest.map_structure(\n",
    "        lambda s: tfb.Shift(\n",
    "            tf.Variable(tf.random.uniform(\n",
    "                (s,), minval=-2., maxval=2., dtype=tf.float32))),\n",
    "        flat_event_size))\n",
    "\n",
    "mean_field_surrogate_posterior = tfd.TransformedDistribution(\n",
    "    base_standard_dist,\n",
    "    bijector = tfb.Chain(  # Note that the chained bijectors are applied in reverse order\n",
    "        [\n",
    "         event_space_bijector,  # constrain the surrogate to the support of the prior\n",
    "         unflatten_bijector,  # pack the reshaped components into the `event_shape` structure of the posterior\n",
    "         reshape_bijector, # reshape the vector-valued components to match the shapes of the posterior components\n",
    "         mean_field_loc,   # allow for nonzero mean\n",
    "         mean_field_scale  # apply the block matrix transformation to the standard Normal distribution\n",
    "         ]))\n",
    "\n",
    "\n",
    "optimizer=tf.optimizers.Adam(learning_rate=1e-2)\n",
    "@tf.function(jit_compile=True)\n",
    "def fit_vi():\n",
    "    return tfp.vi.fit_surrogate_posterior(\n",
    "        target_model.unnormalized_log_prob,\n",
    "        mean_field_surrogate_posterior,\n",
    "        optimizer=optimizer,\n",
    "        num_steps=5000,\n",
    "        sample_size=1)\n",
    "mean_field_loss = fit_vi()\n",
    "\n",
    "mean_field_samples = mean_field_surrogate_posterior.sample(1000)\n",
    "mean_field_final_elbo = tf.reduce_mean(\n",
    "    target_model.unnormalized_log_prob(*mean_field_samples)\n",
    "\n",
    "    - mean_field_surrogate_posterior.log_prob(mean_field_samples))\n",
    "print('Mean-field surrogate posterior ELBO: {}'.format(mean_field_final_elbo))\n",
    "\n"
   ]
  },
  {
   "cell_type": "code",
   "execution_count": 409,
   "metadata": {
    "ExecuteTime": {
     "end_time": "2021-06-24T07:45:03.290637Z",
     "start_time": "2021-06-24T07:45:03.149699Z"
    }
   },
   "outputs": [
    {
     "data": {
      "image/png": "[encoded data removed]",
      "text/plain": [
       "<Figure size 432x288 with 1 Axes>"
      ]
     },
     "metadata": {
      "needs_background": "light"
     },
     "output_type": "display_data"
    }
   ],
   "source": [
    "plt.plot(mean_field_loss)\n",
    "plt.xlabel('Training step')\n",
    "_ = plt.ylabel('Loss value')"
   ]
  },
  {
   "cell_type": "code",
   "execution_count": 410,
   "metadata": {
    "ExecuteTime": {
     "end_time": "2021-06-24T07:45:04.140471Z",
     "start_time": "2021-06-24T07:45:03.989630Z"
    },
    "scrolled": true
   },
   "outputs": [
    {
     "name": "stdout",
     "output_type": "stream",
     "text": [
      "1.0051374435424805\n"
     ]
    },
    {
     "name": "stderr",
     "output_type": "stream",
     "text": [
      "/Users/sean00002/anaconda3/envs/tensorflow/lib/python3.8/site-packages/seaborn/distributions.py:2557: FutureWarning: `distplot` is a deprecated function and will be removed in a future version. Please adapt your code to use either `displot` (a figure-level function with similar flexibility) or `kdeplot` (an axes-level function for kernel density plots).\n",
      "  warnings.warn(msg, FutureWarning)\n"
     ]
    },
    {
     "data": {
      "image/png": "[encoded data removed]",
      "text/plain": [
       "<Figure size 432x144 with 1 Axes>"
      ]
     },
     "metadata": {
      "needs_background": "light"
     },
     "output_type": "display_data"
    }
   ],
   "source": [
    "plot(np.array(mean_field_samples[3]))"
   ]
  },
  {
   "cell_type": "code",
   "execution_count": 364,
   "metadata": {
    "ExecuteTime": {
     "end_time": "2021-06-24T07:10:52.380339Z",
     "start_time": "2021-06-24T07:10:52.187025Z"
    },
    "scrolled": true
   },
   "outputs": [
    {
     "ename": "ValueError",
     "evalue": "Differences between `event_ndims` and `min_event_ndims must be equal for all elements of the structured input. Saw event_ndims=[1, 1, 1, 2, 2, 2], min_event_ndims=[1, 1, 1, 1, 1, 1].",
     "output_type": "error",
     "traceback": [
      "\u001b[0;31m---------------------------------------------------------------------------\u001b[0m",
      "\u001b[0;31mValueError\u001b[0m                                Traceback (most recent call last)",
      "\u001b[0;32m<ipython-input-364-1a147cc204ee>\u001b[0m in \u001b[0;36m<module>\u001b[0;34m\u001b[0m\n\u001b[1;32m     23\u001b[0m iaf_surrogate_posterior = tfd.TransformedDistribution(\n\u001b[1;32m     24\u001b[0m     \u001b[0mbase_distribution\u001b[0m\u001b[0;34m,\u001b[0m\u001b[0;34m\u001b[0m\u001b[0;34m\u001b[0m\u001b[0m\n\u001b[0;32m---> 25\u001b[0;31m     bijector=tfb.Chain([\n\u001b[0m\u001b[1;32m     26\u001b[0m          \u001b[0mevent_space_bijector\u001b[0m\u001b[0;34m,\u001b[0m  \u001b[0;31m# constrain the surrogate to the support of the prior\u001b[0m\u001b[0;34m\u001b[0m\u001b[0;34m\u001b[0m\u001b[0m\n\u001b[1;32m     27\u001b[0m          \u001b[0munflatten_bijector\u001b[0m\u001b[0;34m,\u001b[0m  \u001b[0;31m# pack the reshaped components into the `event_shape` structure of the prior\u001b[0m\u001b[0;34m\u001b[0m\u001b[0;34m\u001b[0m\u001b[0m\n",
      "\u001b[0;32m~/anaconda3/envs/tensorflow/lib/python3.8/site-packages/tensorflow_probability/python/bijectors/chain.py\u001b[0m in \u001b[0;36m__init__\u001b[0;34m(self, bijectors, validate_args, validate_event_size, parameters, name)\u001b[0m\n\u001b[1;32m    125\u001b[0m \u001b[0;34m\u001b[0m\u001b[0m\n\u001b[1;32m    126\u001b[0m     \u001b[0;32mwith\u001b[0m \u001b[0mtf\u001b[0m\u001b[0;34m.\u001b[0m\u001b[0mname_scope\u001b[0m\u001b[0;34m(\u001b[0m\u001b[0mname\u001b[0m\u001b[0;34m)\u001b[0m \u001b[0;32mas\u001b[0m \u001b[0mname\u001b[0m\u001b[0;34m:\u001b[0m\u001b[0;34m\u001b[0m\u001b[0;34m\u001b[0m\u001b[0m\n\u001b[0;32m--> 127\u001b[0;31m       super(Chain, self).__init__(\n\u001b[0m\u001b[1;32m    128\u001b[0m           \u001b[0mbijectors\u001b[0m\u001b[0;34m=\u001b[0m\u001b[0mbijectors\u001b[0m \u001b[0;32mor\u001b[0m \u001b[0;34m(\u001b[0m\u001b[0;34m)\u001b[0m\u001b[0;34m,\u001b[0m\u001b[0;34m\u001b[0m\u001b[0;34m\u001b[0m\u001b[0m\n\u001b[1;32m    129\u001b[0m           \u001b[0mvalidate_args\u001b[0m\u001b[0;34m=\u001b[0m\u001b[0mvalidate_args\u001b[0m\u001b[0;34m,\u001b[0m\u001b[0;34m\u001b[0m\u001b[0;34m\u001b[0m\u001b[0m\n",
      "\u001b[0;32m~/anaconda3/envs/tensorflow/lib/python3.8/site-packages/tensorflow_probability/python/bijectors/composition.py\u001b[0m in \u001b[0;36m__init__\u001b[0;34m(self, bijectors, name, parameters, forward_min_event_ndims, inverse_min_event_ndims, validate_event_size, **kwargs)\u001b[0m\n\u001b[1;32m    170\u001b[0m             \u001b[0mforward_min_event_ndims\u001b[0m\u001b[0;34m,\u001b[0m\u001b[0;34m\u001b[0m\u001b[0;34m\u001b[0m\u001b[0m\n\u001b[1;32m    171\u001b[0m             \u001b[0;32mlambda\u001b[0m \u001b[0minferred\u001b[0m\u001b[0;34m:\u001b[0m \u001b[0minferred\u001b[0m\u001b[0;34m.\u001b[0m\u001b[0mforward_min_event_ndims\u001b[0m\u001b[0;34m,\u001b[0m\u001b[0;34m\u001b[0m\u001b[0;34m\u001b[0m\u001b[0m\n\u001b[0;32m--> 172\u001b[0;31m             self._walk_inverse(\n\u001b[0m\u001b[1;32m    173\u001b[0m                 \u001b[0m_update_forward_min_event_ndims\u001b[0m\u001b[0;34m,\u001b[0m\u001b[0;34m\u001b[0m\u001b[0;34m\u001b[0m\u001b[0m\n\u001b[1;32m    174\u001b[0m                 tf.nest.map_structure(lambda x: None, forward_min_event_ndims)))\n",
      "\u001b[0;32m~/anaconda3/envs/tensorflow/lib/python3.8/site-packages/tensorflow_probability/python/bijectors/chain.py\u001b[0m in \u001b[0;36m_walk_inverse\u001b[0;34m(self, step_fn, y, **kwargs)\u001b[0m\n\u001b[1;32m    157\u001b[0m     \u001b[0;34m\"\"\"Applies `transform_fn` to `y` sequentially over nested bijectors.\"\"\"\u001b[0m\u001b[0;34m\u001b[0m\u001b[0;34m\u001b[0m\u001b[0m\n\u001b[1;32m    158\u001b[0m     \u001b[0;32mfor\u001b[0m \u001b[0mbij\u001b[0m \u001b[0;32min\u001b[0m \u001b[0mself\u001b[0m\u001b[0;34m.\u001b[0m\u001b[0m_bijectors\u001b[0m\u001b[0;34m:\u001b[0m\u001b[0;34m\u001b[0m\u001b[0;34m\u001b[0m\u001b[0m\n\u001b[0;32m--> 159\u001b[0;31m       \u001b[0my\u001b[0m \u001b[0;34m=\u001b[0m \u001b[0mstep_fn\u001b[0m\u001b[0;34m(\u001b[0m\u001b[0mbij\u001b[0m\u001b[0;34m,\u001b[0m \u001b[0my\u001b[0m\u001b[0;34m,\u001b[0m \u001b[0;34m**\u001b[0m\u001b[0mkwargs\u001b[0m\u001b[0;34m.\u001b[0m\u001b[0mget\u001b[0m\u001b[0;34m(\u001b[0m\u001b[0mbij\u001b[0m\u001b[0;34m.\u001b[0m\u001b[0mname\u001b[0m\u001b[0;34m,\u001b[0m \u001b[0;34m{\u001b[0m\u001b[0;34m}\u001b[0m\u001b[0;34m)\u001b[0m\u001b[0;34m)\u001b[0m\u001b[0;34m\u001b[0m\u001b[0;34m\u001b[0m\u001b[0m\n\u001b[0m\u001b[1;32m    160\u001b[0m     \u001b[0;32mreturn\u001b[0m \u001b[0my\u001b[0m  \u001b[0;31m# Now `x`\u001b[0m\u001b[0;34m\u001b[0m\u001b[0;34m\u001b[0m\u001b[0m\n\u001b[1;32m    161\u001b[0m \u001b[0;34m\u001b[0m\u001b[0m\n",
      "\u001b[0;32m~/anaconda3/envs/tensorflow/lib/python3.8/site-packages/tensorflow_probability/python/bijectors/composition.py\u001b[0m in \u001b[0;36m_update_forward_min_event_ndims\u001b[0;34m(bij, downstream_quantities, get_forward_min_event_ndims, get_inverse_min_event_ndims, inverse_event_ndims_fn)\u001b[0m\n\u001b[1;32m    686\u001b[0m       \u001b[0;31m# Pull the desired output ndims back through the bijector, to get\u001b[0m\u001b[0;34m\u001b[0m\u001b[0;34m\u001b[0m\u001b[0;34m\u001b[0m\u001b[0m\n\u001b[1;32m    687\u001b[0m       \u001b[0;31m# the ndims of a valid *input*.\u001b[0m\u001b[0;34m\u001b[0m\u001b[0;34m\u001b[0m\u001b[0;34m\u001b[0m\u001b[0m\n\u001b[0;32m--> 688\u001b[0;31m       forward_min_event_ndims=inverse_event_ndims_fn(\n\u001b[0m\u001b[1;32m    689\u001b[0m           bij, valid_inverse_min_event_ndims),\n\u001b[1;32m    690\u001b[0m       parts_interact=(\n",
      "\u001b[0;32m~/anaconda3/envs/tensorflow/lib/python3.8/site-packages/tensorflow_probability/python/bijectors/composition.py\u001b[0m in \u001b[0;36m<lambda>\u001b[0;34m(b, nd)\u001b[0m\n\u001b[1;32m    617\u001b[0m     \u001b[0mget_forward_min_event_ndims\u001b[0m\u001b[0;34m=\u001b[0m\u001b[0;32mlambda\u001b[0m \u001b[0mb\u001b[0m\u001b[0;34m:\u001b[0m \u001b[0mb\u001b[0m\u001b[0;34m.\u001b[0m\u001b[0mforward_min_event_ndims\u001b[0m\u001b[0;34m,\u001b[0m\u001b[0;34m\u001b[0m\u001b[0;34m\u001b[0m\u001b[0m\n\u001b[1;32m    618\u001b[0m     \u001b[0mget_inverse_min_event_ndims\u001b[0m\u001b[0;34m=\u001b[0m\u001b[0;32mlambda\u001b[0m \u001b[0mb\u001b[0m\u001b[0;34m:\u001b[0m \u001b[0mb\u001b[0m\u001b[0;34m.\u001b[0m\u001b[0minverse_min_event_ndims\u001b[0m\u001b[0;34m,\u001b[0m\u001b[0;34m\u001b[0m\u001b[0;34m\u001b[0m\u001b[0m\n\u001b[0;32m--> 619\u001b[0;31m     inverse_event_ndims_fn=lambda b, nd: b.inverse_event_ndims(nd)):\n\u001b[0m\u001b[1;32m    620\u001b[0m   \"\"\"Step backwards through the graph to infer `forward_min_event_ndims`.\n\u001b[1;32m    621\u001b[0m \u001b[0;34m\u001b[0m\u001b[0m\n",
      "\u001b[0;32m~/anaconda3/envs/tensorflow/lib/python3.8/site-packages/tensorflow_probability/python/bijectors/bijector.py\u001b[0m in \u001b[0;36minverse_event_ndims\u001b[0;34m(self, event_ndims, **kwargs)\u001b[0m\n\u001b[1;32m   1501\u001b[0m   \u001b[0;32mdef\u001b[0m \u001b[0minverse_event_ndims\u001b[0m\u001b[0;34m(\u001b[0m\u001b[0mself\u001b[0m\u001b[0;34m,\u001b[0m \u001b[0mevent_ndims\u001b[0m\u001b[0;34m,\u001b[0m \u001b[0;34m**\u001b[0m\u001b[0mkwargs\u001b[0m\u001b[0;34m)\u001b[0m\u001b[0;34m:\u001b[0m\u001b[0;34m\u001b[0m\u001b[0;34m\u001b[0m\u001b[0m\n\u001b[1;32m   1502\u001b[0m     \u001b[0;34m\"\"\"Returns the number of event dimensions produced by `inverse`.\"\"\"\u001b[0m\u001b[0;34m\u001b[0m\u001b[0;34m\u001b[0m\u001b[0m\n\u001b[0;32m-> 1503\u001b[0;31m     ldj_reduce_ndims = ldj_reduction_ndims(\n\u001b[0m\u001b[1;32m   1504\u001b[0m         \u001b[0mnest_util\u001b[0m\u001b[0;34m.\u001b[0m\u001b[0mcoerce_structure\u001b[0m\u001b[0;34m(\u001b[0m\u001b[0mself\u001b[0m\u001b[0;34m.\u001b[0m\u001b[0minverse_min_event_ndims\u001b[0m\u001b[0;34m,\u001b[0m \u001b[0mevent_ndims\u001b[0m\u001b[0;34m)\u001b[0m\u001b[0;34m,\u001b[0m\u001b[0;34m\u001b[0m\u001b[0;34m\u001b[0m\u001b[0m\n\u001b[1;32m   1505\u001b[0m         self._inverse_min_event_ndims)\n",
      "\u001b[0;32m~/anaconda3/envs/tensorflow/lib/python3.8/site-packages/tensorflow_probability/python/bijectors/bijector.py\u001b[0m in \u001b[0;36mldj_reduction_ndims\u001b[0;34m(event_ndims, min_event_ndims, validate_args, name)\u001b[0m\n\u001b[1;32m   1736\u001b[0m       \u001b[0;32mif\u001b[0m \u001b[0mdifferences_all_static\u001b[0m\u001b[0;34m:\u001b[0m\u001b[0;34m\u001b[0m\u001b[0;34m\u001b[0m\u001b[0m\n\u001b[1;32m   1737\u001b[0m         \u001b[0;32mif\u001b[0m \u001b[0mlen\u001b[0m\u001b[0;34m(\u001b[0m\u001b[0mset\u001b[0m\u001b[0;34m(\u001b[0m\u001b[0mflat_differences\u001b[0m\u001b[0;34m)\u001b[0m\u001b[0;34m)\u001b[0m \u001b[0;34m>\u001b[0m \u001b[0;36m1\u001b[0m\u001b[0;34m:\u001b[0m\u001b[0;34m\u001b[0m\u001b[0;34m\u001b[0m\u001b[0m\n\u001b[0;32m-> 1738\u001b[0;31m           raise ValueError(\n\u001b[0m\u001b[1;32m   1739\u001b[0m               ('Differences between `event_ndims` and `min_event_ndims must be '\n\u001b[1;32m   1740\u001b[0m                \u001b[0;34m'equal for all elements of the structured input. Saw '\u001b[0m\u001b[0;34m\u001b[0m\u001b[0;34m\u001b[0m\u001b[0m\n",
      "\u001b[0;31mValueError\u001b[0m: Differences between `event_ndims` and `min_event_ndims must be equal for all elements of the structured input. Saw event_ndims=[1, 1, 1, 2, 2, 2], min_event_ndims=[1, 1, 1, 1, 1, 1]."
     ]
    }
   ],
   "source": [
    "# Build a standard Normal with a vector `event_shape`, with length equal to the\n",
    "# total number of degrees of freedom in the posterior.\n",
    "base_distribution = tfd.Sample(\n",
    "    tfd.Normal(0., 1.), sample_shape=[tf.reduce_sum(flat_event_size)])\n",
    "\n",
    "# Apply an IAF to the base distribution.\n",
    "num_iafs = 6\n",
    "iaf_bijectors = [\n",
    "    tfb.Invert(tfb.MaskedAutoregressiveFlow(\n",
    "        shift_and_log_scale_fn=tfb.AutoregressiveNetwork(\n",
    "            params=2, hidden_units=[256, 256], activation='relu')))\n",
    "    for _ in range(num_iafs)\n",
    "]\n",
    "\n",
    "# Split the base distribution's `event_shape` into components that are equal\n",
    "# in size to the prior's components.\n",
    "split = tfb.Split(flat_event_size)\n",
    "\n",
    "# Chain these bijectors and apply them to the standard Normal base distribution\n",
    "# to build the surrogate posterior. `event_space_bijector`,\n",
    "# `unflatten_bijector`, and `reshape_bijector` are the same as in the\n",
    "# multivariate Normal surrogate posterior.\n",
    "iaf_surrogate_posterior = tfd.TransformedDistribution(\n",
    "    base_distribution,\n",
    "    bijector=tfb.Chain([\n",
    "         event_space_bijector,  # constrain the surrogate to the support of the prior\n",
    "         unflatten_bijector,  # pack the reshaped components into the `event_shape` structure of the prior\n",
    "         reshape_bijector,  # reshape the vector-valued components to match the shapes of the prior components\n",
    "         split] +  # Split the samples into components of the same size as the prior components\n",
    "         iaf_bijectors  # Apply a flow model to the Tensor-valued standard Normal distribution\n",
    "         ))"
   ]
  },
  {
   "cell_type": "code",
   "execution_count": 365,
   "metadata": {
    "ExecuteTime": {
     "end_time": "2021-06-24T07:12:03.171489Z",
     "start_time": "2021-06-24T07:11:00.710550Z"
    },
    "scrolled": true
   },
   "outputs": [
    {
     "name": "stderr",
     "output_type": "stream",
     "text": [
      "/Users/sean00002/anaconda3/envs/tensorflow/lib/python3.8/site-packages/tensorflow_probability/python/internal/vectorization_util.py:91: UserWarning: Saw Tensor seed Tensor(\"monte_carlo_variational_loss/expectation/JointDistributionCoroutineAutoBatched/unnormalized_log_prob/Const:0\", shape=(2,), dtype=int32), implying stateless sampling. Autovectorized functions that use stateless sampling may be quite slow because the current implementation falls back to an explicit loop. This will be fixed in the future. For now, you will likely see better performance from stateful sampling, which you can invoke by passing a Python `int` seed.\n",
      "  warnings.warn(\n",
      "/Users/sean00002/anaconda3/envs/tensorflow/lib/python3.8/site-packages/tensorflow_probability/python/internal/vectorization_util.py:91: UserWarning: Saw Tensor seed Tensor(\"monte_carlo_variational_loss/expectation/JointDistributionCoroutineAutoBatched/unnormalized_log_prob/Const:0\", shape=(2,), dtype=int32), implying stateless sampling. Autovectorized functions that use stateless sampling may be quite slow because the current implementation falls back to an explicit loop. This will be fixed in the future. For now, you will likely see better performance from stateful sampling, which you can invoke by passing a Python `int` seed.\n",
      "  warnings.warn(\n",
      "/Users/sean00002/anaconda3/envs/tensorflow/lib/python3.8/site-packages/tensorflow_probability/python/internal/vectorization_util.py:91: UserWarning: Saw Tensor seed [0 0], implying stateless sampling. Autovectorized functions that use stateless sampling may be quite slow because the current implementation falls back to an explicit loop. This will be fixed in the future. For now, you will likely see better performance from stateful sampling, which you can invoke by passing a Python `int` seed.\n",
      "  warnings.warn(\n"
     ]
    },
    {
     "ename": "ValueError",
     "evalue": "Incompatible shapes for broadcasting: (1000,) and (10,)",
     "output_type": "error",
     "traceback": [
      "\u001b[0;31m---------------------------------------------------------------------------\u001b[0m",
      "\u001b[0;31mValueError\u001b[0m                                Traceback (most recent call last)",
      "\u001b[0;32m<ipython-input-365-d91c5354a222>\u001b[0m in \u001b[0;36m<module>\u001b[0;34m\u001b[0m\n\u001b[1;32m     13\u001b[0m \u001b[0miaf_samples\u001b[0m \u001b[0;34m=\u001b[0m \u001b[0miaf_surrogate_posterior\u001b[0m\u001b[0;34m.\u001b[0m\u001b[0msample\u001b[0m\u001b[0;34m(\u001b[0m\u001b[0;36m1000\u001b[0m\u001b[0;34m)\u001b[0m\u001b[0;34m\u001b[0m\u001b[0;34m\u001b[0m\u001b[0m\n\u001b[1;32m     14\u001b[0m iaf_final_elbo = tf.reduce_mean(\n\u001b[0;32m---> 15\u001b[0;31m     \u001b[0mtarget_model\u001b[0m\u001b[0;34m.\u001b[0m\u001b[0munnormalized_log_prob\u001b[0m\u001b[0;34m(\u001b[0m\u001b[0;34m*\u001b[0m\u001b[0miaf_samples\u001b[0m\u001b[0;34m)\u001b[0m\u001b[0;34m\u001b[0m\u001b[0;34m\u001b[0m\u001b[0m\n\u001b[0m\u001b[1;32m     16\u001b[0m \u001b[0;34m\u001b[0m\u001b[0m\n\u001b[1;32m     17\u001b[0m     - iaf_surrogate_posterior.log_prob(iaf_samples))\n",
      "\u001b[0;32m~/anaconda3/envs/tensorflow/lib/python3.8/site-packages/tensorflow_probability/python/experimental/distributions/joint_distribution_pinned.py\u001b[0m in \u001b[0;36munnormalized_log_prob\u001b[0;34m(self, *args, **kwargs)\u001b[0m\n\u001b[1;32m    575\u001b[0m     \"\"\"\n\u001b[1;32m    576\u001b[0m     \u001b[0mxs\u001b[0m \u001b[0;34m=\u001b[0m \u001b[0m_to_pins\u001b[0m\u001b[0;34m(\u001b[0m\u001b[0mself\u001b[0m\u001b[0;34m,\u001b[0m \u001b[0;34m*\u001b[0m\u001b[0margs\u001b[0m\u001b[0;34m,\u001b[0m \u001b[0;34m**\u001b[0m\u001b[0mkwargs\u001b[0m\u001b[0;34m)\u001b[0m\u001b[0;34m\u001b[0m\u001b[0;34m\u001b[0m\u001b[0m\n\u001b[0;32m--> 577\u001b[0;31m     \u001b[0;32mreturn\u001b[0m \u001b[0mself\u001b[0m\u001b[0;34m.\u001b[0m\u001b[0mdistribution\u001b[0m\u001b[0;34m.\u001b[0m\u001b[0munnormalized_log_prob\u001b[0m\u001b[0;34m(\u001b[0m\u001b[0mself\u001b[0m\u001b[0;34m.\u001b[0m\u001b[0m_add_pins\u001b[0m\u001b[0;34m(\u001b[0m\u001b[0;34m**\u001b[0m\u001b[0mxs\u001b[0m\u001b[0;34m)\u001b[0m\u001b[0;34m)\u001b[0m\u001b[0;34m\u001b[0m\u001b[0;34m\u001b[0m\u001b[0m\n\u001b[0m\u001b[1;32m    578\u001b[0m \u001b[0;34m\u001b[0m\u001b[0m\n\u001b[1;32m    579\u001b[0m   @docstring_util.expand_docstring(\n",
      "\u001b[0;32m~/anaconda3/envs/tensorflow/lib/python3.8/site-packages/tensorflow_probability/python/distributions/joint_distribution.py\u001b[0m in \u001b[0;36munnormalized_log_prob\u001b[0;34m(self, *args, **kwargs)\u001b[0m\n\u001b[1;32m    665\u001b[0m     \"\"\"\n\u001b[1;32m    666\u001b[0m     \u001b[0mname\u001b[0m \u001b[0;34m=\u001b[0m \u001b[0mkwargs\u001b[0m\u001b[0;34m.\u001b[0m\u001b[0mpop\u001b[0m\u001b[0;34m(\u001b[0m\u001b[0;34m'name'\u001b[0m\u001b[0;34m,\u001b[0m \u001b[0;34m'unnormalized_log_prob'\u001b[0m\u001b[0;34m)\u001b[0m\u001b[0;34m\u001b[0m\u001b[0;34m\u001b[0m\u001b[0m\n\u001b[0;32m--> 667\u001b[0;31m     return self._call_unnormalized_log_prob(\n\u001b[0m\u001b[1;32m    668\u001b[0m         self._resolve_value(*args, **kwargs), name=name)\n\u001b[1;32m    669\u001b[0m \u001b[0;34m\u001b[0m\u001b[0m\n",
      "\u001b[0;32m~/anaconda3/envs/tensorflow/lib/python3.8/site-packages/tensorflow_probability/python/distributions/distribution.py\u001b[0m in \u001b[0;36m_call_unnormalized_log_prob\u001b[0;34m(self, value, name, **kwargs)\u001b[0m\n\u001b[1;32m   1331\u001b[0m     \u001b[0;32mwith\u001b[0m \u001b[0mself\u001b[0m\u001b[0;34m.\u001b[0m\u001b[0m_name_and_control_scope\u001b[0m\u001b[0;34m(\u001b[0m\u001b[0mname\u001b[0m\u001b[0;34m,\u001b[0m \u001b[0mvalue\u001b[0m\u001b[0;34m,\u001b[0m \u001b[0mkwargs\u001b[0m\u001b[0;34m)\u001b[0m\u001b[0;34m:\u001b[0m\u001b[0;34m\u001b[0m\u001b[0;34m\u001b[0m\u001b[0m\n\u001b[1;32m   1332\u001b[0m       \u001b[0;32mif\u001b[0m \u001b[0mhasattr\u001b[0m\u001b[0;34m(\u001b[0m\u001b[0mself\u001b[0m\u001b[0;34m,\u001b[0m \u001b[0;34m'_unnormalized_log_prob'\u001b[0m\u001b[0;34m)\u001b[0m\u001b[0;34m:\u001b[0m\u001b[0;34m\u001b[0m\u001b[0;34m\u001b[0m\u001b[0m\n\u001b[0;32m-> 1333\u001b[0;31m         \u001b[0;32mreturn\u001b[0m \u001b[0mself\u001b[0m\u001b[0;34m.\u001b[0m\u001b[0m_unnormalized_log_prob\u001b[0m\u001b[0;34m(\u001b[0m\u001b[0mvalue\u001b[0m\u001b[0;34m,\u001b[0m \u001b[0;34m**\u001b[0m\u001b[0mkwargs\u001b[0m\u001b[0;34m)\u001b[0m\u001b[0;34m\u001b[0m\u001b[0;34m\u001b[0m\u001b[0m\n\u001b[0m\u001b[1;32m   1334\u001b[0m       \u001b[0;32mif\u001b[0m \u001b[0mhasattr\u001b[0m\u001b[0;34m(\u001b[0m\u001b[0mself\u001b[0m\u001b[0;34m,\u001b[0m \u001b[0;34m'_unnormalized_prob'\u001b[0m\u001b[0;34m)\u001b[0m\u001b[0;34m:\u001b[0m\u001b[0;34m\u001b[0m\u001b[0;34m\u001b[0m\u001b[0m\n\u001b[1;32m   1335\u001b[0m         \u001b[0;32mreturn\u001b[0m \u001b[0mtf\u001b[0m\u001b[0;34m.\u001b[0m\u001b[0mmath\u001b[0m\u001b[0;34m.\u001b[0m\u001b[0mlog\u001b[0m\u001b[0;34m(\u001b[0m\u001b[0mself\u001b[0m\u001b[0;34m.\u001b[0m\u001b[0m_unnormalized_prob\u001b[0m\u001b[0;34m(\u001b[0m\u001b[0mvalue\u001b[0m\u001b[0;34m,\u001b[0m \u001b[0;34m**\u001b[0m\u001b[0mkwargs\u001b[0m\u001b[0;34m)\u001b[0m\u001b[0;34m)\u001b[0m\u001b[0;34m\u001b[0m\u001b[0;34m\u001b[0m\u001b[0m\n",
      "\u001b[0;32m~/anaconda3/envs/tensorflow/lib/python3.8/site-packages/tensorflow_probability/python/distributions/joint_distribution_sample_path_mixin.py\u001b[0m in \u001b[0;36m_unnormalized_log_prob\u001b[0;34m(self, value)\u001b[0m\n\u001b[1;32m    182\u001b[0m           'unnormalized_log_prob', tfp_math.reduce_kahan_sum, value)\n\u001b[1;32m    183\u001b[0m       \u001b[0;32mreturn\u001b[0m \u001b[0msum\u001b[0m\u001b[0;34m(\u001b[0m\u001b[0mxs\u001b[0m\u001b[0;34m)\u001b[0m\u001b[0;34m.\u001b[0m\u001b[0mtotal\u001b[0m\u001b[0;34m\u001b[0m\u001b[0;34m\u001b[0m\u001b[0m\n\u001b[0;32m--> 184\u001b[0;31m     xs = self._map_and_reduce_measure_over_dists(\n\u001b[0m\u001b[1;32m    185\u001b[0m         'unnormalized_log_prob', tf.reduce_sum, value)\n\u001b[1;32m    186\u001b[0m     \u001b[0;32mreturn\u001b[0m \u001b[0msum\u001b[0m\u001b[0;34m(\u001b[0m\u001b[0mxs\u001b[0m\u001b[0;34m)\u001b[0m\u001b[0;34m\u001b[0m\u001b[0;34m\u001b[0m\u001b[0m\n",
      "\u001b[0;32m~/anaconda3/envs/tensorflow/lib/python3.8/site-packages/tensorflow_probability/python/distributions/joint_distribution_sample_path_mixin.py\u001b[0m in \u001b[0;36m_map_and_reduce_measure_over_dists\u001b[0;34m(self, attr, reduce_fn, value)\u001b[0m\n\u001b[1;32m    126\u001b[0m   \u001b[0;32mdef\u001b[0m \u001b[0m_map_and_reduce_measure_over_dists\u001b[0m\u001b[0;34m(\u001b[0m\u001b[0mself\u001b[0m\u001b[0;34m,\u001b[0m \u001b[0mattr\u001b[0m\u001b[0;34m,\u001b[0m \u001b[0mreduce_fn\u001b[0m\u001b[0;34m,\u001b[0m \u001b[0mvalue\u001b[0m\u001b[0;34m)\u001b[0m\u001b[0;34m:\u001b[0m\u001b[0;34m\u001b[0m\u001b[0;34m\u001b[0m\u001b[0m\n\u001b[1;32m    127\u001b[0m     \u001b[0;34m\"\"\"Reduces all non-batch dimensions of the provided measure.\"\"\"\u001b[0m\u001b[0;34m\u001b[0m\u001b[0;34m\u001b[0m\u001b[0m\n\u001b[0;32m--> 128\u001b[0;31m     \u001b[0mxs\u001b[0m \u001b[0;34m=\u001b[0m \u001b[0mlist\u001b[0m\u001b[0;34m(\u001b[0m\u001b[0mself\u001b[0m\u001b[0;34m.\u001b[0m\u001b[0m_map_measure_over_dists\u001b[0m\u001b[0;34m(\u001b[0m\u001b[0mattr\u001b[0m\u001b[0;34m,\u001b[0m \u001b[0mvalue\u001b[0m\u001b[0;34m)\u001b[0m\u001b[0;34m)\u001b[0m\u001b[0;34m\u001b[0m\u001b[0;34m\u001b[0m\u001b[0m\n\u001b[0m\u001b[1;32m    129\u001b[0m     num_trailing_batch_dims_treated_as_event = [\n\u001b[1;32m    130\u001b[0m         prefer_static.rank_from_shape(\n",
      "\u001b[0;32m~/anaconda3/envs/tensorflow/lib/python3.8/site-packages/tensorflow_probability/python/distributions/joint_distribution.py\u001b[0m in \u001b[0;36m_map_measure_over_dists\u001b[0;34m(self, attr, value)\u001b[0m\n\u001b[1;32m    538\u001b[0m       \u001b[0mattr\u001b[0m \u001b[0;34m=\u001b[0m \u001b[0;32mlambda\u001b[0m \u001b[0md\u001b[0m\u001b[0;34m,\u001b[0m \u001b[0mx\u001b[0m\u001b[0;34m:\u001b[0m \u001b[0mgetattr\u001b[0m\u001b[0;34m(\u001b[0m\u001b[0md\u001b[0m\u001b[0;34m,\u001b[0m \u001b[0mattr_name\u001b[0m\u001b[0;34m)\u001b[0m\u001b[0;34m(\u001b[0m\u001b[0mx\u001b[0m\u001b[0;34m)\u001b[0m\u001b[0;34m\u001b[0m\u001b[0;34m\u001b[0m\u001b[0m\n\u001b[1;32m    539\u001b[0m \u001b[0;34m\u001b[0m\u001b[0m\n\u001b[0;32m--> 540\u001b[0;31m     return self._call_execute_model(\n\u001b[0m\u001b[1;32m    541\u001b[0m         \u001b[0msample_shape\u001b[0m\u001b[0;34m=\u001b[0m\u001b[0;34m(\u001b[0m\u001b[0;34m)\u001b[0m\u001b[0;34m,\u001b[0m\u001b[0;34m\u001b[0m\u001b[0;34m\u001b[0m\u001b[0m\n\u001b[1;32m    542\u001b[0m         \u001b[0mvalue\u001b[0m\u001b[0;34m=\u001b[0m\u001b[0mvalue\u001b[0m\u001b[0;34m,\u001b[0m\u001b[0;34m\u001b[0m\u001b[0;34m\u001b[0m\u001b[0m\n",
      "\u001b[0;32m~/anaconda3/envs/tensorflow/lib/python3.8/site-packages/tensorflow_probability/python/distributions/joint_distribution_vmap_mixin.py\u001b[0m in \u001b[0;36m_call_execute_model\u001b[0;34m(self, sample_shape, seed, value, sample_and_trace_fn)\u001b[0m\n\u001b[1;32m    151\u001b[0m         \u001b[0;31m# not currently supporting keyword args.\u001b[0m\u001b[0;34m\u001b[0m\u001b[0;34m\u001b[0m\u001b[0;34m\u001b[0m\u001b[0m\n\u001b[1;32m    152\u001b[0m         lambda v, seed: batch_execute_model(v, seed), sample_shape)  # pylint: disable=unnecessary-lambda\n\u001b[0;32m--> 153\u001b[0;31m     \u001b[0;32mreturn\u001b[0m \u001b[0mvectorized_execute_model\u001b[0m\u001b[0;34m(\u001b[0m\u001b[0mvalue\u001b[0m\u001b[0;34m,\u001b[0m \u001b[0mseed\u001b[0m\u001b[0;34m=\u001b[0m\u001b[0mseed\u001b[0m\u001b[0;34m)\u001b[0m\u001b[0;34m\u001b[0m\u001b[0;34m\u001b[0m\u001b[0m\n\u001b[0m\u001b[1;32m    154\u001b[0m \u001b[0;34m\u001b[0m\u001b[0m\n\u001b[1;32m    155\u001b[0m   \u001b[0;32mdef\u001b[0m \u001b[0m_default_event_space_bijector\u001b[0m\u001b[0;34m(\u001b[0m\u001b[0mself\u001b[0m\u001b[0;34m,\u001b[0m \u001b[0;34m*\u001b[0m\u001b[0margs\u001b[0m\u001b[0;34m,\u001b[0m \u001b[0;34m**\u001b[0m\u001b[0mkwargs\u001b[0m\u001b[0;34m)\u001b[0m\u001b[0;34m:\u001b[0m\u001b[0;34m\u001b[0m\u001b[0;34m\u001b[0m\u001b[0m\n",
      "\u001b[0;32m~/anaconda3/envs/tensorflow/lib/python3.8/site-packages/tensorflow_probability/python/internal/vectorization_util.py\u001b[0m in \u001b[0;36miid_sample_fn\u001b[0;34m(*args, **kwargs)\u001b[0m\n\u001b[1;32m    102\u001b[0m \u001b[0;34m\u001b[0m\u001b[0m\n\u001b[1;32m    103\u001b[0m       \u001b[0;32mif\u001b[0m \u001b[0mstatic_n\u001b[0m \u001b[0;34m==\u001b[0m \u001b[0;36m1\u001b[0m\u001b[0;34m:\u001b[0m\u001b[0;34m\u001b[0m\u001b[0;34m\u001b[0m\u001b[0m\n\u001b[0;32m--> 104\u001b[0;31m         \u001b[0mdraws\u001b[0m \u001b[0;34m=\u001b[0m \u001b[0mpfor_loop_body\u001b[0m\u001b[0;34m(\u001b[0m\u001b[0;36m0\u001b[0m\u001b[0;34m)\u001b[0m\u001b[0;34m\u001b[0m\u001b[0;34m\u001b[0m\u001b[0m\n\u001b[0m\u001b[1;32m    105\u001b[0m       \u001b[0;32melse\u001b[0m\u001b[0;34m:\u001b[0m\u001b[0;34m\u001b[0m\u001b[0;34m\u001b[0m\u001b[0m\n\u001b[1;32m    106\u001b[0m         \u001b[0mdraws\u001b[0m \u001b[0;34m=\u001b[0m \u001b[0mparallel_for\u001b[0m\u001b[0;34m.\u001b[0m\u001b[0mpfor\u001b[0m\u001b[0;34m(\u001b[0m\u001b[0mpfor_loop_body\u001b[0m\u001b[0;34m,\u001b[0m \u001b[0mn\u001b[0m\u001b[0;34m)\u001b[0m\u001b[0;34m\u001b[0m\u001b[0;34m\u001b[0m\u001b[0m\n",
      "\u001b[0;32m~/anaconda3/envs/tensorflow/lib/python3.8/site-packages/tensorflow_probability/python/internal/vectorization_util.py\u001b[0m in \u001b[0;36mpfor_loop_body\u001b[0;34m(i)\u001b[0m\n\u001b[1;32m     99\u001b[0m         \u001b[0;32mdef\u001b[0m \u001b[0mpfor_loop_body\u001b[0m\u001b[0;34m(\u001b[0m\u001b[0mi\u001b[0m\u001b[0;34m)\u001b[0m\u001b[0;34m:\u001b[0m\u001b[0;34m\u001b[0m\u001b[0;34m\u001b[0m\u001b[0m\n\u001b[1;32m    100\u001b[0m           \u001b[0;32mwith\u001b[0m \u001b[0mtf\u001b[0m\u001b[0;34m.\u001b[0m\u001b[0mname_scope\u001b[0m\u001b[0;34m(\u001b[0m\u001b[0;34m'iid_sample_fn_stateless_body'\u001b[0m\u001b[0;34m)\u001b[0m\u001b[0;34m:\u001b[0m\u001b[0;34m\u001b[0m\u001b[0;34m\u001b[0m\u001b[0m\n\u001b[0;32m--> 101\u001b[0;31m             \u001b[0;32mreturn\u001b[0m \u001b[0msample_fn\u001b[0m\u001b[0;34m(\u001b[0m\u001b[0;34m*\u001b[0m\u001b[0margs\u001b[0m\u001b[0;34m,\u001b[0m \u001b[0mseed\u001b[0m\u001b[0;34m=\u001b[0m\u001b[0mtf\u001b[0m\u001b[0;34m.\u001b[0m\u001b[0mgather\u001b[0m\u001b[0;34m(\u001b[0m\u001b[0mseed\u001b[0m\u001b[0;34m,\u001b[0m \u001b[0mi\u001b[0m\u001b[0;34m)\u001b[0m\u001b[0;34m,\u001b[0m \u001b[0;34m**\u001b[0m\u001b[0mkwargs\u001b[0m\u001b[0;34m)\u001b[0m\u001b[0;34m\u001b[0m\u001b[0;34m\u001b[0m\u001b[0m\n\u001b[0m\u001b[1;32m    102\u001b[0m \u001b[0;34m\u001b[0m\u001b[0m\n\u001b[1;32m    103\u001b[0m       \u001b[0;32mif\u001b[0m \u001b[0mstatic_n\u001b[0m \u001b[0;34m==\u001b[0m \u001b[0;36m1\u001b[0m\u001b[0;34m:\u001b[0m\u001b[0;34m\u001b[0m\u001b[0;34m\u001b[0m\u001b[0m\n",
      "\u001b[0;32m~/anaconda3/envs/tensorflow/lib/python3.8/site-packages/tensorflow_probability/python/distributions/joint_distribution_vmap_mixin.py\u001b[0m in \u001b[0;36m<lambda>\u001b[0;34m(v, seed)\u001b[0m\n\u001b[1;32m    150\u001b[0m         \u001b[0;31m# Redefine the polymorphic fn to hack around `make_rank_polymorphic`\u001b[0m\u001b[0;34m\u001b[0m\u001b[0;34m\u001b[0m\u001b[0;34m\u001b[0m\u001b[0m\n\u001b[1;32m    151\u001b[0m         \u001b[0;31m# not currently supporting keyword args.\u001b[0m\u001b[0;34m\u001b[0m\u001b[0;34m\u001b[0m\u001b[0;34m\u001b[0m\u001b[0m\n\u001b[0;32m--> 152\u001b[0;31m         lambda v, seed: batch_execute_model(v, seed), sample_shape)  # pylint: disable=unnecessary-lambda\n\u001b[0m\u001b[1;32m    153\u001b[0m     \u001b[0;32mreturn\u001b[0m \u001b[0mvectorized_execute_model\u001b[0m\u001b[0;34m(\u001b[0m\u001b[0mvalue\u001b[0m\u001b[0;34m,\u001b[0m \u001b[0mseed\u001b[0m\u001b[0;34m=\u001b[0m\u001b[0mseed\u001b[0m\u001b[0;34m)\u001b[0m\u001b[0;34m\u001b[0m\u001b[0;34m\u001b[0m\u001b[0m\n\u001b[1;32m    154\u001b[0m \u001b[0;34m\u001b[0m\u001b[0m\n",
      "\u001b[0;32m~/anaconda3/envs/tensorflow/lib/python3.8/site-packages/tensorflow_probability/python/internal/vectorization_util.py\u001b[0m in \u001b[0;36mvectorized_fn\u001b[0;34m(*args)\u001b[0m\n\u001b[1;32m    303\u001b[0m               for (arg_shape, nd) in zip(vectorized_arg_shapes, batch_ndims)])\n\u001b[1;32m    304\u001b[0m         broadcast_batch_shape = (\n\u001b[0;32m--> 305\u001b[0;31m             functools.reduce(ps.broadcast_shape, batch_shapes, []))\n\u001b[0m\u001b[1;32m    306\u001b[0m \u001b[0;34m\u001b[0m\u001b[0m\n\u001b[1;32m    307\u001b[0m       \u001b[0;31m# Flatten all of the batch dimensions into one.\u001b[0m\u001b[0;34m\u001b[0m\u001b[0;34m\u001b[0m\u001b[0;34m\u001b[0m\u001b[0m\n",
      "\u001b[0;32m~/anaconda3/envs/tensorflow/lib/python3.8/site-packages/tensorflow_probability/python/internal/prefer_static.py\u001b[0m in \u001b[0;36mbroadcast_shape\u001b[0;34m(x_shape, y_shape)\u001b[0m\n\u001b[1;32m    222\u001b[0m     \u001b[0;32mreturn\u001b[0m \u001b[0mtf\u001b[0m\u001b[0;34m.\u001b[0m\u001b[0mbroadcast_dynamic_shape\u001b[0m\u001b[0;34m(\u001b[0m\u001b[0mx_shape\u001b[0m\u001b[0;34m,\u001b[0m \u001b[0my_shape\u001b[0m\u001b[0;34m)\u001b[0m\u001b[0;34m\u001b[0m\u001b[0;34m\u001b[0m\u001b[0m\n\u001b[1;32m    223\u001b[0m \u001b[0;34m\u001b[0m\u001b[0m\n\u001b[0;32m--> 224\u001b[0;31m   return tf.broadcast_static_shape(\n\u001b[0m\u001b[1;32m    225\u001b[0m       tf.TensorShape(x_shape_static), tf.TensorShape(y_shape_static))\n\u001b[1;32m    226\u001b[0m \u001b[0;34m\u001b[0m\u001b[0m\n",
      "\u001b[0;32m~/anaconda3/envs/tensorflow/lib/python3.8/site-packages/tensorflow/python/util/dispatch.py\u001b[0m in \u001b[0;36mwrapper\u001b[0;34m(*args, **kwargs)\u001b[0m\n\u001b[1;32m    204\u001b[0m     \u001b[0;34m\"\"\"Call target, and fall back on dispatchers if there is a TypeError.\"\"\"\u001b[0m\u001b[0;34m\u001b[0m\u001b[0;34m\u001b[0m\u001b[0m\n\u001b[1;32m    205\u001b[0m     \u001b[0;32mtry\u001b[0m\u001b[0;34m:\u001b[0m\u001b[0;34m\u001b[0m\u001b[0;34m\u001b[0m\u001b[0m\n\u001b[0;32m--> 206\u001b[0;31m       \u001b[0;32mreturn\u001b[0m \u001b[0mtarget\u001b[0m\u001b[0;34m(\u001b[0m\u001b[0;34m*\u001b[0m\u001b[0margs\u001b[0m\u001b[0;34m,\u001b[0m \u001b[0;34m**\u001b[0m\u001b[0mkwargs\u001b[0m\u001b[0;34m)\u001b[0m\u001b[0;34m\u001b[0m\u001b[0;34m\u001b[0m\u001b[0m\n\u001b[0m\u001b[1;32m    207\u001b[0m     \u001b[0;32mexcept\u001b[0m \u001b[0;34m(\u001b[0m\u001b[0mTypeError\u001b[0m\u001b[0;34m,\u001b[0m \u001b[0mValueError\u001b[0m\u001b[0;34m)\u001b[0m\u001b[0;34m:\u001b[0m\u001b[0;34m\u001b[0m\u001b[0;34m\u001b[0m\u001b[0m\n\u001b[1;32m    208\u001b[0m       \u001b[0;31m# Note: convert_to_eager_tensor currently raises a ValueError, not a\u001b[0m\u001b[0;34m\u001b[0m\u001b[0;34m\u001b[0m\u001b[0;34m\u001b[0m\u001b[0m\n",
      "\u001b[0;32m~/anaconda3/envs/tensorflow/lib/python3.8/site-packages/tensorflow/python/ops/array_ops.py\u001b[0m in \u001b[0;36mbroadcast_static_shape\u001b[0;34m(shape_x, shape_y)\u001b[0m\n\u001b[1;32m    570\u001b[0m     \u001b[0mValueError\u001b[0m\u001b[0;34m:\u001b[0m \u001b[0mIf\u001b[0m \u001b[0mthe\u001b[0m \u001b[0mtwo\u001b[0m \u001b[0mshapes\u001b[0m \u001b[0mcan\u001b[0m \u001b[0;32mnot\u001b[0m \u001b[0mbe\u001b[0m \u001b[0mbroadcasted\u001b[0m\u001b[0;34m.\u001b[0m\u001b[0;34m\u001b[0m\u001b[0;34m\u001b[0m\u001b[0m\n\u001b[1;32m    571\u001b[0m   \"\"\"\n\u001b[0;32m--> 572\u001b[0;31m   \u001b[0;32mreturn\u001b[0m \u001b[0mcommon_shapes\u001b[0m\u001b[0;34m.\u001b[0m\u001b[0mbroadcast_shape\u001b[0m\u001b[0;34m(\u001b[0m\u001b[0mshape_x\u001b[0m\u001b[0;34m,\u001b[0m \u001b[0mshape_y\u001b[0m\u001b[0;34m)\u001b[0m\u001b[0;34m\u001b[0m\u001b[0;34m\u001b[0m\u001b[0m\n\u001b[0m\u001b[1;32m    573\u001b[0m \u001b[0;34m\u001b[0m\u001b[0m\n\u001b[1;32m    574\u001b[0m \u001b[0;34m\u001b[0m\u001b[0m\n",
      "\u001b[0;32m~/anaconda3/envs/tensorflow/lib/python3.8/site-packages/tensorflow/python/framework/common_shapes.py\u001b[0m in \u001b[0;36mbroadcast_shape\u001b[0;34m(shape_x, shape_y)\u001b[0m\n\u001b[1;32m    104\u001b[0m   \u001b[0mreturn_dims\u001b[0m \u001b[0;34m=\u001b[0m \u001b[0m_broadcast_shape_helper\u001b[0m\u001b[0;34m(\u001b[0m\u001b[0mshape_x\u001b[0m\u001b[0;34m,\u001b[0m \u001b[0mshape_y\u001b[0m\u001b[0;34m)\u001b[0m\u001b[0;34m\u001b[0m\u001b[0;34m\u001b[0m\u001b[0m\n\u001b[1;32m    105\u001b[0m   \u001b[0;32mif\u001b[0m \u001b[0mreturn_dims\u001b[0m \u001b[0;32mis\u001b[0m \u001b[0;32mNone\u001b[0m\u001b[0;34m:\u001b[0m\u001b[0;34m\u001b[0m\u001b[0;34m\u001b[0m\u001b[0m\n\u001b[0;32m--> 106\u001b[0;31m     raise ValueError(\"Incompatible shapes for broadcasting: %s and %s\"\n\u001b[0m\u001b[1;32m    107\u001b[0m                      % (shape_x, shape_y))\n\u001b[1;32m    108\u001b[0m   \u001b[0;32mreturn\u001b[0m \u001b[0mtensor_shape\u001b[0m\u001b[0;34m.\u001b[0m\u001b[0mTensorShape\u001b[0m\u001b[0;34m(\u001b[0m\u001b[0mreturn_dims\u001b[0m\u001b[0;34m)\u001b[0m\u001b[0;34m\u001b[0m\u001b[0;34m\u001b[0m\u001b[0m\n",
      "\u001b[0;31mValueError\u001b[0m: Incompatible shapes for broadcasting: (1000,) and (10,)"
     ]
    }
   ],
   "source": [
    "optimizer=tf.optimizers.Adam(learning_rate=1e-2)\n",
    "@tf.function(jit_compile=True)\n",
    "def fit_vi():\n",
    "  return tfp.vi.fit_surrogate_posterior(\n",
    "    target_model.unnormalized_log_prob,\n",
    "    iaf_surrogate_posterior,\n",
    "    optimizer=optimizer,\n",
    "    num_steps=5000,\n",
    "    sample_size=1\n",
    "    )\n",
    "iaf_loss = fit_vi()\n",
    "\n",
    "iaf_samples = iaf_surrogate_posterior.sample(1000)\n",
    "iaf_final_elbo = tf.reduce_mean(\n",
    "    target_model.unnormalized_log_prob(*iaf_samples)\n",
    "\n",
    "    - iaf_surrogate_posterior.log_prob(iaf_samples))\n",
    "print('IAF surrogate posterior ELBO: {}'.format(iaf_final_elbo))\n",
    "\n",
    "plt.plot(iaf_loss)\n",
    "plt.xlabel('Training step')\n",
    "_ = plt.ylabel('Loss value')"
   ]
  },
  {
   "cell_type": "code",
   "execution_count": 329,
   "metadata": {
    "ExecuteTime": {
     "end_time": "2021-06-24T06:10:05.722744Z",
     "start_time": "2021-06-24T06:10:05.660662Z"
    },
    "scrolled": true
   },
   "outputs": [
    {
     "data": {
      "text/plain": [
       "StructTuple(\n",
       "  c1=<tf.Tensor: shape=(1000,), dtype=float32, numpy=\n",
       "    array([nan, nan, nan, nan, nan, nan, nan, nan, nan, nan, nan, nan, nan,\n",
       "           nan, nan, nan, nan, nan, nan, nan, nan, nan, nan, nan, nan, nan,\n",
       "           nan, nan, nan, nan, nan, nan, nan, nan, nan, nan, nan, nan, nan,\n",
       "           nan, nan, nan, nan, nan, nan, nan, nan, nan, nan, nan, nan, nan,\n",
       "           nan, nan, nan, nan, nan, nan, nan, nan, nan, nan, nan, nan, nan,\n",
       "           nan, nan, nan, nan, nan, nan, nan, nan, nan, nan, nan, nan, nan,\n",
       "           nan, nan, nan, nan, nan, nan, nan, nan, nan, nan, nan, nan, nan,\n",
       "           nan, nan, nan, nan, nan, nan, nan, nan, nan, nan, nan, nan, nan,\n",
       "           nan, nan, nan, nan, nan, nan, nan, nan, nan, nan, nan, nan, nan,\n",
       "           nan, nan, nan, nan, nan, nan, nan, nan, nan, nan, nan, nan, nan,\n",
       "           nan, nan, nan, nan, nan, nan, nan, nan, nan, nan, nan, nan, nan,\n",
       "           nan, nan, nan, nan, nan, nan, nan, nan, nan, nan, nan, nan, nan,\n",
       "           nan, nan, nan, nan, nan, nan, nan, nan, nan, nan, nan, nan, nan,\n",
       "           nan, nan, nan, nan, nan, nan, nan, nan, nan, nan, nan, nan, nan,\n",
       "           nan, nan, nan, nan, nan, nan, nan, nan, nan, nan, nan, nan, nan,\n",
       "           nan, nan, nan, nan, nan, nan, nan, nan, nan, nan, nan, nan, nan,\n",
       "           nan, nan, nan, nan, nan, nan, nan, nan, nan, nan, nan, nan, nan,\n",
       "           nan, nan, nan, nan, nan, nan, nan, nan, nan, nan, nan, nan, nan,\n",
       "           nan, nan, nan, nan, nan, nan, nan, nan, nan, nan, nan, nan, nan,\n",
       "           nan, nan, nan, nan, nan, nan, nan, nan, nan, nan, nan, nan, nan,\n",
       "           nan, nan, nan, nan, nan, nan, nan, nan, nan, nan, nan, nan, nan,\n",
       "           nan, nan, nan, nan, nan, nan, nan, nan, nan, nan, nan, nan, nan,\n",
       "           nan, nan, nan, nan, nan, nan, nan, nan, nan, nan, nan, nan, nan,\n",
       "           nan, nan, nan, nan, nan, nan, nan, nan, nan, nan, nan, nan, nan,\n",
       "           nan, nan, nan, nan, nan, nan, nan, nan, nan, nan, nan, nan, nan,\n",
       "           nan, nan, nan, nan, nan, nan, nan, nan, nan, nan, nan, nan, nan,\n",
       "           nan, nan, nan, nan, nan, nan, nan, nan, nan, nan, nan, nan, nan,\n",
       "           nan, nan, nan, nan, nan, nan, nan, nan, nan, nan, nan, nan, nan,\n",
       "           nan, nan, nan, nan, nan, nan, nan, nan, nan, nan, nan, nan, nan,\n",
       "           nan, nan, nan, nan, nan, nan, nan, nan, nan, nan, nan, nan, nan,\n",
       "           nan, nan, nan, nan, nan, nan, nan, nan, nan, nan, nan, nan, nan,\n",
       "           nan, nan, nan, nan, nan, nan, nan, nan, nan, nan, nan, nan, nan,\n",
       "           nan, nan, nan, nan, nan, nan, nan, nan, nan, nan, nan, nan, nan,\n",
       "           nan, nan, nan, nan, nan, nan, nan, nan, nan, nan, nan, nan, nan,\n",
       "           nan, nan, nan, nan, nan, nan, nan, nan, nan, nan, nan, nan, nan,\n",
       "           nan, nan, nan, nan, nan, nan, nan, nan, nan, nan, nan, nan, nan,\n",
       "           nan, nan, nan, nan, nan, nan, nan, nan, nan, nan, nan, nan, nan,\n",
       "           nan, nan, nan, nan, nan, nan, nan, nan, nan, nan, nan, nan, nan,\n",
       "           nan, nan, nan, nan, nan, nan, nan, nan, nan, nan, nan, nan, nan,\n",
       "           nan, nan, nan, nan, nan, nan, nan, nan, nan, nan, nan, nan, nan,\n",
       "           nan, nan, nan, nan, nan, nan, nan, nan, nan, nan, nan, nan, nan,\n",
       "           nan, nan, nan, nan, nan, nan, nan, nan, nan, nan, nan, nan, nan,\n",
       "           nan, nan, nan, nan, nan, nan, nan, nan, nan, nan, nan, nan, nan,\n",
       "           nan, nan, nan, nan, nan, nan, nan, nan, nan, nan, nan, nan, nan,\n",
       "           nan, nan, nan, nan, nan, nan, nan, nan, nan, nan, nan, nan, nan,\n",
       "           nan, nan, nan, nan, nan, nan, nan, nan, nan, nan, nan, nan, nan,\n",
       "           nan, nan, nan, nan, nan, nan, nan, nan, nan, nan, nan, nan, nan,\n",
       "           nan, nan, nan, nan, nan, nan, nan, nan, nan, nan, nan, nan, nan,\n",
       "           nan, nan, nan, nan, nan, nan, nan, nan, nan, nan, nan, nan, nan,\n",
       "           nan, nan, nan, nan, nan, nan, nan, nan, nan, nan, nan, nan, nan,\n",
       "           nan, nan, nan, nan, nan, nan, nan, nan, nan, nan, nan, nan, nan,\n",
       "           nan, nan, nan, nan, nan, nan, nan, nan, nan, nan, nan, nan, nan,\n",
       "           nan, nan, nan, nan, nan, nan, nan, nan, nan, nan, nan, nan, nan,\n",
       "           nan, nan, nan, nan, nan, nan, nan, nan, nan, nan, nan, nan, nan,\n",
       "           nan, nan, nan, nan, nan, nan, nan, nan, nan, nan, nan, nan, nan,\n",
       "           nan, nan, nan, nan, nan, nan, nan, nan, nan, nan, nan, nan, nan,\n",
       "           nan, nan, nan, nan, nan, nan, nan, nan, nan, nan, nan, nan, nan,\n",
       "           nan, nan, nan, nan, nan, nan, nan, nan, nan, nan, nan, nan, nan,\n",
       "           nan, nan, nan, nan, nan, nan, nan, nan, nan, nan, nan, nan, nan,\n",
       "           nan, nan, nan, nan, nan, nan, nan, nan, nan, nan, nan, nan, nan,\n",
       "           nan, nan, nan, nan, nan, nan, nan, nan, nan, nan, nan, nan, nan,\n",
       "           nan, nan, nan, nan, nan, nan, nan, nan, nan, nan, nan, nan, nan,\n",
       "           nan, nan, nan, nan, nan, nan, nan, nan, nan, nan, nan, nan, nan,\n",
       "           nan, nan, nan, nan, nan, nan, nan, nan, nan, nan, nan, nan, nan,\n",
       "           nan, nan, nan, nan, nan, nan, nan, nan, nan, nan, nan, nan, nan,\n",
       "           nan, nan, nan, nan, nan, nan, nan, nan, nan, nan, nan, nan, nan,\n",
       "           nan, nan, nan, nan, nan, nan, nan, nan, nan, nan, nan, nan, nan,\n",
       "           nan, nan, nan, nan, nan, nan, nan, nan, nan, nan, nan, nan, nan,\n",
       "           nan, nan, nan, nan, nan, nan, nan, nan, nan, nan, nan, nan, nan,\n",
       "           nan, nan, nan, nan, nan, nan, nan, nan, nan, nan, nan, nan, nan,\n",
       "           nan, nan, nan, nan, nan, nan, nan, nan, nan, nan, nan, nan, nan,\n",
       "           nan, nan, nan, nan, nan, nan, nan, nan, nan, nan, nan, nan, nan,\n",
       "           nan, nan, nan, nan, nan, nan, nan, nan, nan, nan, nan, nan, nan,\n",
       "           nan, nan, nan, nan, nan, nan, nan, nan, nan, nan, nan, nan, nan,\n",
       "           nan, nan, nan, nan, nan, nan, nan, nan, nan, nan, nan, nan, nan,\n",
       "           nan, nan, nan, nan, nan, nan, nan, nan, nan, nan, nan, nan, nan,\n",
       "           nan, nan, nan, nan, nan, nan, nan, nan, nan, nan, nan, nan],\n",
       "          dtype=float32)>,\n",
       "  c2=<tf.Tensor: shape=(1000,), dtype=float32, numpy=\n",
       "    array([nan, nan, nan, nan, nan, nan, nan, nan, nan, nan, nan, nan, nan,\n",
       "           nan, nan, nan, nan, nan, nan, nan, nan, nan, nan, nan, nan, nan,\n",
       "           nan, nan, nan, nan, nan, nan, nan, nan, nan, nan, nan, nan, nan,\n",
       "           nan, nan, nan, nan, nan, nan, nan, nan, nan, nan, nan, nan, nan,\n",
       "           nan, nan, nan, nan, nan, nan, nan, nan, nan, nan, nan, nan, nan,\n",
       "           nan, nan, nan, nan, nan, nan, nan, nan, nan, nan, nan, nan, nan,\n",
       "           nan, nan, nan, nan, nan, nan, nan, nan, nan, nan, nan, nan, nan,\n",
       "           nan, nan, nan, nan, nan, nan, nan, nan, nan, nan, nan, nan, nan,\n",
       "           nan, nan, nan, nan, nan, nan, nan, nan, nan, nan, nan, nan, nan,\n",
       "           nan, nan, nan, nan, nan, nan, nan, nan, nan, nan, nan, nan, nan,\n",
       "           nan, nan, nan, nan, nan, nan, nan, nan, nan, nan, nan, nan, nan,\n",
       "           nan, nan, nan, nan, nan, nan, nan, nan, nan, nan, nan, nan, nan,\n",
       "           nan, nan, nan, nan, nan, nan, nan, nan, nan, nan, nan, nan, nan,\n",
       "           nan, nan, nan, nan, nan, nan, nan, nan, nan, nan, nan, nan, nan,\n",
       "           nan, nan, nan, nan, nan, nan, nan, nan, nan, nan, nan, nan, nan,\n",
       "           nan, nan, nan, nan, nan, nan, nan, nan, nan, nan, nan, nan, nan,\n",
       "           nan, nan, nan, nan, nan, nan, nan, nan, nan, nan, nan, nan, nan,\n",
       "           nan, nan, nan, nan, nan, nan, nan, nan, nan, nan, nan, nan, nan,\n",
       "           nan, nan, nan, nan, nan, nan, nan, nan, nan, nan, nan, nan, nan,\n",
       "           nan, nan, nan, nan, nan, nan, nan, nan, nan, nan, nan, nan, nan,\n",
       "           nan, nan, nan, nan, nan, nan, nan, nan, nan, nan, nan, nan, nan,\n",
       "           nan, nan, nan, nan, nan, nan, nan, nan, nan, nan, nan, nan, nan,\n",
       "           nan, nan, nan, nan, nan, nan, nan, nan, nan, nan, nan, nan, nan,\n",
       "           nan, nan, nan, nan, nan, nan, nan, nan, nan, nan, nan, nan, nan,\n",
       "           nan, nan, nan, nan, nan, nan, nan, nan, nan, nan, nan, nan, nan,\n",
       "           nan, nan, nan, nan, nan, nan, nan, nan, nan, nan, nan, nan, nan,\n",
       "           nan, nan, nan, nan, nan, nan, nan, nan, nan, nan, nan, nan, nan,\n",
       "           nan, nan, nan, nan, nan, nan, nan, nan, nan, nan, nan, nan, nan,\n",
       "           nan, nan, nan, nan, nan, nan, nan, nan, nan, nan, nan, nan, nan,\n",
       "           nan, nan, nan, nan, nan, nan, nan, nan, nan, nan, nan, nan, nan,\n",
       "           nan, nan, nan, nan, nan, nan, nan, nan, nan, nan, nan, nan, nan,\n",
       "           nan, nan, nan, nan, nan, nan, nan, nan, nan, nan, nan, nan, nan,\n",
       "           nan, nan, nan, nan, nan, nan, nan, nan, nan, nan, nan, nan, nan,\n",
       "           nan, nan, nan, nan, nan, nan, nan, nan, nan, nan, nan, nan, nan,\n",
       "           nan, nan, nan, nan, nan, nan, nan, nan, nan, nan, nan, nan, nan,\n",
       "           nan, nan, nan, nan, nan, nan, nan, nan, nan, nan, nan, nan, nan,\n",
       "           nan, nan, nan, nan, nan, nan, nan, nan, nan, nan, nan, nan, nan,\n",
       "           nan, nan, nan, nan, nan, nan, nan, nan, nan, nan, nan, nan, nan,\n",
       "           nan, nan, nan, nan, nan, nan, nan, nan, nan, nan, nan, nan, nan,\n",
       "           nan, nan, nan, nan, nan, nan, nan, nan, nan, nan, nan, nan, nan,\n",
       "           nan, nan, nan, nan, nan, nan, nan, nan, nan, nan, nan, nan, nan,\n",
       "           nan, nan, nan, nan, nan, nan, nan, nan, nan, nan, nan, nan, nan,\n",
       "           nan, nan, nan, nan, nan, nan, nan, nan, nan, nan, nan, nan, nan,\n",
       "           nan, nan, nan, nan, nan, nan, nan, nan, nan, nan, nan, nan, nan,\n",
       "           nan, nan, nan, nan, nan, nan, nan, nan, nan, nan, nan, nan, nan,\n",
       "           nan, nan, nan, nan, nan, nan, nan, nan, nan, nan, nan, nan, nan,\n",
       "           nan, nan, nan, nan, nan, nan, nan, nan, nan, nan, nan, nan, nan,\n",
       "           nan, nan, nan, nan, nan, nan, nan, nan, nan, nan, nan, nan, nan,\n",
       "           nan, nan, nan, nan, nan, nan, nan, nan, nan, nan, nan, nan, nan,\n",
       "           nan, nan, nan, nan, nan, nan, nan, nan, nan, nan, nan, nan, nan,\n",
       "           nan, nan, nan, nan, nan, nan, nan, nan, nan, nan, nan, nan, nan,\n",
       "           nan, nan, nan, nan, nan, nan, nan, nan, nan, nan, nan, nan, nan,\n",
       "           nan, nan, nan, nan, nan, nan, nan, nan, nan, nan, nan, nan, nan,\n",
       "           nan, nan, nan, nan, nan, nan, nan, nan, nan, nan, nan, nan, nan,\n",
       "           nan, nan, nan, nan, nan, nan, nan, nan, nan, nan, nan, nan, nan,\n",
       "           nan, nan, nan, nan, nan, nan, nan, nan, nan, nan, nan, nan, nan,\n",
       "           nan, nan, nan, nan, nan, nan, nan, nan, nan, nan, nan, nan, nan,\n",
       "           nan, nan, nan, nan, nan, nan, nan, nan, nan, nan, nan, nan, nan,\n",
       "           nan, nan, nan, nan, nan, nan, nan, nan, nan, nan, nan, nan, nan,\n",
       "           nan, nan, nan, nan, nan, nan, nan, nan, nan, nan, nan, nan, nan,\n",
       "           nan, nan, nan, nan, nan, nan, nan, nan, nan, nan, nan, nan, nan,\n",
       "           nan, nan, nan, nan, nan, nan, nan, nan, nan, nan, nan, nan, nan,\n",
       "           nan, nan, nan, nan, nan, nan, nan, nan, nan, nan, nan, nan, nan,\n",
       "           nan, nan, nan, nan, nan, nan, nan, nan, nan, nan, nan, nan, nan,\n",
       "           nan, nan, nan, nan, nan, nan, nan, nan, nan, nan, nan, nan, nan,\n",
       "           nan, nan, nan, nan, nan, nan, nan, nan, nan, nan, nan, nan, nan,\n",
       "           nan, nan, nan, nan, nan, nan, nan, nan, nan, nan, nan, nan, nan,\n",
       "           nan, nan, nan, nan, nan, nan, nan, nan, nan, nan, nan, nan, nan,\n",
       "           nan, nan, nan, nan, nan, nan, nan, nan, nan, nan, nan, nan, nan,\n",
       "           nan, nan, nan, nan, nan, nan, nan, nan, nan, nan, nan, nan, nan,\n",
       "           nan, nan, nan, nan, nan, nan, nan, nan, nan, nan, nan, nan, nan,\n",
       "           nan, nan, nan, nan, nan, nan, nan, nan, nan, nan, nan, nan, nan,\n",
       "           nan, nan, nan, nan, nan, nan, nan, nan, nan, nan, nan, nan, nan,\n",
       "           nan, nan, nan, nan, nan, nan, nan, nan, nan, nan, nan, nan, nan,\n",
       "           nan, nan, nan, nan, nan, nan, nan, nan, nan, nan, nan, nan, nan,\n",
       "           nan, nan, nan, nan, nan, nan, nan, nan, nan, nan, nan, nan, nan,\n",
       "           nan, nan, nan, nan, nan, nan, nan, nan, nan, nan, nan, nan],\n",
       "          dtype=float32)>,\n",
       "  s=<tf.Tensor: shape=(1000,), dtype=float32, numpy=\n",
       "    array([nan, nan, nan, nan, nan, nan, nan, nan, nan, nan, nan, nan, nan,\n",
       "           nan, nan, nan, nan, nan, nan, nan, nan, nan, nan, nan, nan, nan,\n",
       "           nan, nan, nan, nan, nan, nan, nan, nan, nan, nan, nan, nan, nan,\n",
       "           nan, nan, nan, nan, nan, nan, nan, nan, nan, nan, nan, nan, nan,\n",
       "           nan, nan, nan, nan, nan, nan, nan, nan, nan, nan, nan, nan, nan,\n",
       "           nan, nan, nan, nan, nan, nan, nan, nan, nan, nan, nan, nan, nan,\n",
       "           nan, nan, nan, nan, nan, nan, nan, nan, nan, nan, nan, nan, nan,\n",
       "           nan, nan, nan, nan, nan, nan, nan, nan, nan, nan, nan, nan, nan,\n",
       "           nan, nan, nan, nan, nan, nan, nan, nan, nan, nan, nan, nan, nan,\n",
       "           nan, nan, nan, nan, nan, nan, nan, nan, nan, nan, nan, nan, nan,\n",
       "           nan, nan, nan, nan, nan, nan, nan, nan, nan, nan, nan, nan, nan,\n",
       "           nan, nan, nan, nan, nan, nan, nan, nan, nan, nan, nan, nan, nan,\n",
       "           nan, nan, nan, nan, nan, nan, nan, nan, nan, nan, nan, nan, nan,\n",
       "           nan, nan, nan, nan, nan, nan, nan, nan, nan, nan, nan, nan, nan,\n",
       "           nan, nan, nan, nan, nan, nan, nan, nan, nan, nan, nan, nan, nan,\n",
       "           nan, nan, nan, nan, nan, nan, nan, nan, nan, nan, nan, nan, nan,\n",
       "           nan, nan, nan, nan, nan, nan, nan, nan, nan, nan, nan, nan, nan,\n",
       "           nan, nan, nan, nan, nan, nan, nan, nan, nan, nan, nan, nan, nan,\n",
       "           nan, nan, nan, nan, nan, nan, nan, nan, nan, nan, nan, nan, nan,\n",
       "           nan, nan, nan, nan, nan, nan, nan, nan, nan, nan, nan, nan, nan,\n",
       "           nan, nan, nan, nan, nan, nan, nan, nan, nan, nan, nan, nan, nan,\n",
       "           nan, nan, nan, nan, nan, nan, nan, nan, nan, nan, nan, nan, nan,\n",
       "           nan, nan, nan, nan, nan, nan, nan, nan, nan, nan, nan, nan, nan,\n",
       "           nan, nan, nan, nan, nan, nan, nan, nan, nan, nan, nan, nan, nan,\n",
       "           nan, nan, nan, nan, nan, nan, nan, nan, nan, nan, nan, nan, nan,\n",
       "           nan, nan, nan, nan, nan, nan, nan, nan, nan, nan, nan, nan, nan,\n",
       "           nan, nan, nan, nan, nan, nan, nan, nan, nan, nan, nan, nan, nan,\n",
       "           nan, nan, nan, nan, nan, nan, nan, nan, nan, nan, nan, nan, nan,\n",
       "           nan, nan, nan, nan, nan, nan, nan, nan, nan, nan, nan, nan, nan,\n",
       "           nan, nan, nan, nan, nan, nan, nan, nan, nan, nan, nan, nan, nan,\n",
       "           nan, nan, nan, nan, nan, nan, nan, nan, nan, nan, nan, nan, nan,\n",
       "           nan, nan, nan, nan, nan, nan, nan, nan, nan, nan, nan, nan, nan,\n",
       "           nan, nan, nan, nan, nan, nan, nan, nan, nan, nan, nan, nan, nan,\n",
       "           nan, nan, nan, nan, nan, nan, nan, nan, nan, nan, nan, nan, nan,\n",
       "           nan, nan, nan, nan, nan, nan, nan, nan, nan, nan, nan, nan, nan,\n",
       "           nan, nan, nan, nan, nan, nan, nan, nan, nan, nan, nan, nan, nan,\n",
       "           nan, nan, nan, nan, nan, nan, nan, nan, nan, nan, nan, nan, nan,\n",
       "           nan, nan, nan, nan, nan, nan, nan, nan, nan, nan, nan, nan, nan,\n",
       "           nan, nan, nan, nan, nan, nan, nan, nan, nan, nan, nan, nan, nan,\n",
       "           nan, nan, nan, nan, nan, nan, nan, nan, nan, nan, nan, nan, nan,\n",
       "           nan, nan, nan, nan, nan, nan, nan, nan, nan, nan, nan, nan, nan,\n",
       "           nan, nan, nan, nan, nan, nan, nan, nan, nan, nan, nan, nan, nan,\n",
       "           nan, nan, nan, nan, nan, nan, nan, nan, nan, nan, nan, nan, nan,\n",
       "           nan, nan, nan, nan, nan, nan, nan, nan, nan, nan, nan, nan, nan,\n",
       "           nan, nan, nan, nan, nan, nan, nan, nan, nan, nan, nan, nan, nan,\n",
       "           nan, nan, nan, nan, nan, nan, nan, nan, nan, nan, nan, nan, nan,\n",
       "           nan, nan, nan, nan, nan, nan, nan, nan, nan, nan, nan, nan, nan,\n",
       "           nan, nan, nan, nan, nan, nan, nan, nan, nan, nan, nan, nan, nan,\n",
       "           nan, nan, nan, nan, nan, nan, nan, nan, nan, nan, nan, nan, nan,\n",
       "           nan, nan, nan, nan, nan, nan, nan, nan, nan, nan, nan, nan, nan,\n",
       "           nan, nan, nan, nan, nan, nan, nan, nan, nan, nan, nan, nan, nan,\n",
       "           nan, nan, nan, nan, nan, nan, nan, nan, nan, nan, nan, nan, nan,\n",
       "           nan, nan, nan, nan, nan, nan, nan, nan, nan, nan, nan, nan, nan,\n",
       "           nan, nan, nan, nan, nan, nan, nan, nan, nan, nan, nan, nan, nan,\n",
       "           nan, nan, nan, nan, nan, nan, nan, nan, nan, nan, nan, nan, nan,\n",
       "           nan, nan, nan, nan, nan, nan, nan, nan, nan, nan, nan, nan, nan,\n",
       "           nan, nan, nan, nan, nan, nan, nan, nan, nan, nan, nan, nan, nan,\n",
       "           nan, nan, nan, nan, nan, nan, nan, nan, nan, nan, nan, nan, nan,\n",
       "           nan, nan, nan, nan, nan, nan, nan, nan, nan, nan, nan, nan, nan,\n",
       "           nan, nan, nan, nan, nan, nan, nan, nan, nan, nan, nan, nan, nan,\n",
       "           nan, nan, nan, nan, nan, nan, nan, nan, nan, nan, nan, nan, nan,\n",
       "           nan, nan, nan, nan, nan, nan, nan, nan, nan, nan, nan, nan, nan,\n",
       "           nan, nan, nan, nan, nan, nan, nan, nan, nan, nan, nan, nan, nan,\n",
       "           nan, nan, nan, nan, nan, nan, nan, nan, nan, nan, nan, nan, nan,\n",
       "           nan, nan, nan, nan, nan, nan, nan, nan, nan, nan, nan, nan, nan,\n",
       "           nan, nan, nan, nan, nan, nan, nan, nan, nan, nan, nan, nan, nan,\n",
       "           nan, nan, nan, nan, nan, nan, nan, nan, nan, nan, nan, nan, nan,\n",
       "           nan, nan, nan, nan, nan, nan, nan, nan, nan, nan, nan, nan, nan,\n",
       "           nan, nan, nan, nan, nan, nan, nan, nan, nan, nan, nan, nan, nan,\n",
       "           nan, nan, nan, nan, nan, nan, nan, nan, nan, nan, nan, nan, nan,\n",
       "           nan, nan, nan, nan, nan, nan, nan, nan, nan, nan, nan, nan, nan,\n",
       "           nan, nan, nan, nan, nan, nan, nan, nan, nan, nan, nan, nan, nan,\n",
       "           nan, nan, nan, nan, nan, nan, nan, nan, nan, nan, nan, nan, nan,\n",
       "           nan, nan, nan, nan, nan, nan, nan, nan, nan, nan, nan, nan, nan,\n",
       "           nan, nan, nan, nan, nan, nan, nan, nan, nan, nan, nan, nan, nan,\n",
       "           nan, nan, nan, nan, nan, nan, nan, nan, nan, nan, nan, nan, nan,\n",
       "           nan, nan, nan, nan, nan, nan, nan, nan, nan, nan, nan, nan],\n",
       "          dtype=float32)>,\n",
       "  theta=<tf.Tensor: shape=(1000,), dtype=float32, numpy=\n",
       "    array([nan, nan, nan, nan, nan, nan, nan, nan, nan, nan, nan, nan, nan,\n",
       "           nan, nan, nan, nan, nan, nan, nan, nan, nan, nan, nan, nan, nan,\n",
       "           nan, nan, nan, nan, nan, nan, nan, nan, nan, nan, nan, nan, nan,\n",
       "           nan, nan, nan, nan, nan, nan, nan, nan, nan, nan, nan, nan, nan,\n",
       "           nan, nan, nan, nan, nan, nan, nan, nan, nan, nan, nan, nan, nan,\n",
       "           nan, nan, nan, nan, nan, nan, nan, nan, nan, nan, nan, nan, nan,\n",
       "           nan, nan, nan, nan, nan, nan, nan, nan, nan, nan, nan, nan, nan,\n",
       "           nan, nan, nan, nan, nan, nan, nan, nan, nan, nan, nan, nan, nan,\n",
       "           nan, nan, nan, nan, nan, nan, nan, nan, nan, nan, nan, nan, nan,\n",
       "           nan, nan, nan, nan, nan, nan, nan, nan, nan, nan, nan, nan, nan,\n",
       "           nan, nan, nan, nan, nan, nan, nan, nan, nan, nan, nan, nan, nan,\n",
       "           nan, nan, nan, nan, nan, nan, nan, nan, nan, nan, nan, nan, nan,\n",
       "           nan, nan, nan, nan, nan, nan, nan, nan, nan, nan, nan, nan, nan,\n",
       "           nan, nan, nan, nan, nan, nan, nan, nan, nan, nan, nan, nan, nan,\n",
       "           nan, nan, nan, nan, nan, nan, nan, nan, nan, nan, nan, nan, nan,\n",
       "           nan, nan, nan, nan, nan, nan, nan, nan, nan, nan, nan, nan, nan,\n",
       "           nan, nan, nan, nan, nan, nan, nan, nan, nan, nan, nan, nan, nan,\n",
       "           nan, nan, nan, nan, nan, nan, nan, nan, nan, nan, nan, nan, nan,\n",
       "           nan, nan, nan, nan, nan, nan, nan, nan, nan, nan, nan, nan, nan,\n",
       "           nan, nan, nan, nan, nan, nan, nan, nan, nan, nan, nan, nan, nan,\n",
       "           nan, nan, nan, nan, nan, nan, nan, nan, nan, nan, nan, nan, nan,\n",
       "           nan, nan, nan, nan, nan, nan, nan, nan, nan, nan, nan, nan, nan,\n",
       "           nan, nan, nan, nan, nan, nan, nan, nan, nan, nan, nan, nan, nan,\n",
       "           nan, nan, nan, nan, nan, nan, nan, nan, nan, nan, nan, nan, nan,\n",
       "           nan, nan, nan, nan, nan, nan, nan, nan, nan, nan, nan, nan, nan,\n",
       "           nan, nan, nan, nan, nan, nan, nan, nan, nan, nan, nan, nan, nan,\n",
       "           nan, nan, nan, nan, nan, nan, nan, nan, nan, nan, nan, nan, nan,\n",
       "           nan, nan, nan, nan, nan, nan, nan, nan, nan, nan, nan, nan, nan,\n",
       "           nan, nan, nan, nan, nan, nan, nan, nan, nan, nan, nan, nan, nan,\n",
       "           nan, nan, nan, nan, nan, nan, nan, nan, nan, nan, nan, nan, nan,\n",
       "           nan, nan, nan, nan, nan, nan, nan, nan, nan, nan, nan, nan, nan,\n",
       "           nan, nan, nan, nan, nan, nan, nan, nan, nan, nan, nan, nan, nan,\n",
       "           nan, nan, nan, nan, nan, nan, nan, nan, nan, nan, nan, nan, nan,\n",
       "           nan, nan, nan, nan, nan, nan, nan, nan, nan, nan, nan, nan, nan,\n",
       "           nan, nan, nan, nan, nan, nan, nan, nan, nan, nan, nan, nan, nan,\n",
       "           nan, nan, nan, nan, nan, nan, nan, nan, nan, nan, nan, nan, nan,\n",
       "           nan, nan, nan, nan, nan, nan, nan, nan, nan, nan, nan, nan, nan,\n",
       "           nan, nan, nan, nan, nan, nan, nan, nan, nan, nan, nan, nan, nan,\n",
       "           nan, nan, nan, nan, nan, nan, nan, nan, nan, nan, nan, nan, nan,\n",
       "           nan, nan, nan, nan, nan, nan, nan, nan, nan, nan, nan, nan, nan,\n",
       "           nan, nan, nan, nan, nan, nan, nan, nan, nan, nan, nan, nan, nan,\n",
       "           nan, nan, nan, nan, nan, nan, nan, nan, nan, nan, nan, nan, nan,\n",
       "           nan, nan, nan, nan, nan, nan, nan, nan, nan, nan, nan, nan, nan,\n",
       "           nan, nan, nan, nan, nan, nan, nan, nan, nan, nan, nan, nan, nan,\n",
       "           nan, nan, nan, nan, nan, nan, nan, nan, nan, nan, nan, nan, nan,\n",
       "           nan, nan, nan, nan, nan, nan, nan, nan, nan, nan, nan, nan, nan,\n",
       "           nan, nan, nan, nan, nan, nan, nan, nan, nan, nan, nan, nan, nan,\n",
       "           nan, nan, nan, nan, nan, nan, nan, nan, nan, nan, nan, nan, nan,\n",
       "           nan, nan, nan, nan, nan, nan, nan, nan, nan, nan, nan, nan, nan,\n",
       "           nan, nan, nan, nan, nan, nan, nan, nan, nan, nan, nan, nan, nan,\n",
       "           nan, nan, nan, nan, nan, nan, nan, nan, nan, nan, nan, nan, nan,\n",
       "           nan, nan, nan, nan, nan, nan, nan, nan, nan, nan, nan, nan, nan,\n",
       "           nan, nan, nan, nan, nan, nan, nan, nan, nan, nan, nan, nan, nan,\n",
       "           nan, nan, nan, nan, nan, nan, nan, nan, nan, nan, nan, nan, nan,\n",
       "           nan, nan, nan, nan, nan, nan, nan, nan, nan, nan, nan, nan, nan,\n",
       "           nan, nan, nan, nan, nan, nan, nan, nan, nan, nan, nan, nan, nan,\n",
       "           nan, nan, nan, nan, nan, nan, nan, nan, nan, nan, nan, nan, nan,\n",
       "           nan, nan, nan, nan, nan, nan, nan, nan, nan, nan, nan, nan, nan,\n",
       "           nan, nan, nan, nan, nan, nan, nan, nan, nan, nan, nan, nan, nan,\n",
       "           nan, nan, nan, nan, nan, nan, nan, nan, nan, nan, nan, nan, nan,\n",
       "           nan, nan, nan, nan, nan, nan, nan, nan, nan, nan, nan, nan, nan,\n",
       "           nan, nan, nan, nan, nan, nan, nan, nan, nan, nan, nan, nan, nan,\n",
       "           nan, nan, nan, nan, nan, nan, nan, nan, nan, nan, nan, nan, nan,\n",
       "           nan, nan, nan, nan, nan, nan, nan, nan, nan, nan, nan, nan, nan,\n",
       "           nan, nan, nan, nan, nan, nan, nan, nan, nan, nan, nan, nan, nan,\n",
       "           nan, nan, nan, nan, nan, nan, nan, nan, nan, nan, nan, nan, nan,\n",
       "           nan, nan, nan, nan, nan, nan, nan, nan, nan, nan, nan, nan, nan,\n",
       "           nan, nan, nan, nan, nan, nan, nan, nan, nan, nan, nan, nan, nan,\n",
       "           nan, nan, nan, nan, nan, nan, nan, nan, nan, nan, nan, nan, nan,\n",
       "           nan, nan, nan, nan, nan, nan, nan, nan, nan, nan, nan, nan, nan,\n",
       "           nan, nan, nan, nan, nan, nan, nan, nan, nan, nan, nan, nan, nan,\n",
       "           nan, nan, nan, nan, nan, nan, nan, nan, nan, nan, nan, nan, nan,\n",
       "           nan, nan, nan, nan, nan, nan, nan, nan, nan, nan, nan, nan, nan,\n",
       "           nan, nan, nan, nan, nan, nan, nan, nan, nan, nan, nan, nan, nan,\n",
       "           nan, nan, nan, nan, nan, nan, nan, nan, nan, nan, nan, nan, nan,\n",
       "           nan, nan, nan, nan, nan, nan, nan, nan, nan, nan, nan, nan, nan,\n",
       "           nan, nan, nan, nan, nan, nan, nan, nan, nan, nan, nan, nan],\n",
       "          dtype=float32)>,\n",
       "  p=<tf.Tensor: shape=(1000,), dtype=float32, numpy=\n",
       "    array([nan, nan, nan, nan, nan, nan, nan, nan, nan, nan, nan, nan, nan,\n",
       "           nan, nan, nan, nan, nan, nan, nan, nan, nan, nan, nan, nan, nan,\n",
       "           nan, nan, nan, nan, nan, nan, nan, nan, nan, nan, nan, nan, nan,\n",
       "           nan, nan, nan, nan, nan, nan, nan, nan, nan, nan, nan, nan, nan,\n",
       "           nan, nan, nan, nan, nan, nan, nan, nan, nan, nan, nan, nan, nan,\n",
       "           nan, nan, nan, nan, nan, nan, nan, nan, nan, nan, nan, nan, nan,\n",
       "           nan, nan, nan, nan, nan, nan, nan, nan, nan, nan, nan, nan, nan,\n",
       "           nan, nan, nan, nan, nan, nan, nan, nan, nan, nan, nan, nan, nan,\n",
       "           nan, nan, nan, nan, nan, nan, nan, nan, nan, nan, nan, nan, nan,\n",
       "           nan, nan, nan, nan, nan, nan, nan, nan, nan, nan, nan, nan, nan,\n",
       "           nan, nan, nan, nan, nan, nan, nan, nan, nan, nan, nan, nan, nan,\n",
       "           nan, nan, nan, nan, nan, nan, nan, nan, nan, nan, nan, nan, nan,\n",
       "           nan, nan, nan, nan, nan, nan, nan, nan, nan, nan, nan, nan, nan,\n",
       "           nan, nan, nan, nan, nan, nan, nan, nan, nan, nan, nan, nan, nan,\n",
       "           nan, nan, nan, nan, nan, nan, nan, nan, nan, nan, nan, nan, nan,\n",
       "           nan, nan, nan, nan, nan, nan, nan, nan, nan, nan, nan, nan, nan,\n",
       "           nan, nan, nan, nan, nan, nan, nan, nan, nan, nan, nan, nan, nan,\n",
       "           nan, nan, nan, nan, nan, nan, nan, nan, nan, nan, nan, nan, nan,\n",
       "           nan, nan, nan, nan, nan, nan, nan, nan, nan, nan, nan, nan, nan,\n",
       "           nan, nan, nan, nan, nan, nan, nan, nan, nan, nan, nan, nan, nan,\n",
       "           nan, nan, nan, nan, nan, nan, nan, nan, nan, nan, nan, nan, nan,\n",
       "           nan, nan, nan, nan, nan, nan, nan, nan, nan, nan, nan, nan, nan,\n",
       "           nan, nan, nan, nan, nan, nan, nan, nan, nan, nan, nan, nan, nan,\n",
       "           nan, nan, nan, nan, nan, nan, nan, nan, nan, nan, nan, nan, nan,\n",
       "           nan, nan, nan, nan, nan, nan, nan, nan, nan, nan, nan, nan, nan,\n",
       "           nan, nan, nan, nan, nan, nan, nan, nan, nan, nan, nan, nan, nan,\n",
       "           nan, nan, nan, nan, nan, nan, nan, nan, nan, nan, nan, nan, nan,\n",
       "           nan, nan, nan, nan, nan, nan, nan, nan, nan, nan, nan, nan, nan,\n",
       "           nan, nan, nan, nan, nan, nan, nan, nan, nan, nan, nan, nan, nan,\n",
       "           nan, nan, nan, nan, nan, nan, nan, nan, nan, nan, nan, nan, nan,\n",
       "           nan, nan, nan, nan, nan, nan, nan, nan, nan, nan, nan, nan, nan,\n",
       "           nan, nan, nan, nan, nan, nan, nan, nan, nan, nan, nan, nan, nan,\n",
       "           nan, nan, nan, nan, nan, nan, nan, nan, nan, nan, nan, nan, nan,\n",
       "           nan, nan, nan, nan, nan, nan, nan, nan, nan, nan, nan, nan, nan,\n",
       "           nan, nan, nan, nan, nan, nan, nan, nan, nan, nan, nan, nan, nan,\n",
       "           nan, nan, nan, nan, nan, nan, nan, nan, nan, nan, nan, nan, nan,\n",
       "           nan, nan, nan, nan, nan, nan, nan, nan, nan, nan, nan, nan, nan,\n",
       "           nan, nan, nan, nan, nan, nan, nan, nan, nan, nan, nan, nan, nan,\n",
       "           nan, nan, nan, nan, nan, nan, nan, nan, nan, nan, nan, nan, nan,\n",
       "           nan, nan, nan, nan, nan, nan, nan, nan, nan, nan, nan, nan, nan,\n",
       "           nan, nan, nan, nan, nan, nan, nan, nan, nan, nan, nan, nan, nan,\n",
       "           nan, nan, nan, nan, nan, nan, nan, nan, nan, nan, nan, nan, nan,\n",
       "           nan, nan, nan, nan, nan, nan, nan, nan, nan, nan, nan, nan, nan,\n",
       "           nan, nan, nan, nan, nan, nan, nan, nan, nan, nan, nan, nan, nan,\n",
       "           nan, nan, nan, nan, nan, nan, nan, nan, nan, nan, nan, nan, nan,\n",
       "           nan, nan, nan, nan, nan, nan, nan, nan, nan, nan, nan, nan, nan,\n",
       "           nan, nan, nan, nan, nan, nan, nan, nan, nan, nan, nan, nan, nan,\n",
       "           nan, nan, nan, nan, nan, nan, nan, nan, nan, nan, nan, nan, nan,\n",
       "           nan, nan, nan, nan, nan, nan, nan, nan, nan, nan, nan, nan, nan,\n",
       "           nan, nan, nan, nan, nan, nan, nan, nan, nan, nan, nan, nan, nan,\n",
       "           nan, nan, nan, nan, nan, nan, nan, nan, nan, nan, nan, nan, nan,\n",
       "           nan, nan, nan, nan, nan, nan, nan, nan, nan, nan, nan, nan, nan,\n",
       "           nan, nan, nan, nan, nan, nan, nan, nan, nan, nan, nan, nan, nan,\n",
       "           nan, nan, nan, nan, nan, nan, nan, nan, nan, nan, nan, nan, nan,\n",
       "           nan, nan, nan, nan, nan, nan, nan, nan, nan, nan, nan, nan, nan,\n",
       "           nan, nan, nan, nan, nan, nan, nan, nan, nan, nan, nan, nan, nan,\n",
       "           nan, nan, nan, nan, nan, nan, nan, nan, nan, nan, nan, nan, nan,\n",
       "           nan, nan, nan, nan, nan, nan, nan, nan, nan, nan, nan, nan, nan,\n",
       "           nan, nan, nan, nan, nan, nan, nan, nan, nan, nan, nan, nan, nan,\n",
       "           nan, nan, nan, nan, nan, nan, nan, nan, nan, nan, nan, nan, nan,\n",
       "           nan, nan, nan, nan, nan, nan, nan, nan, nan, nan, nan, nan, nan,\n",
       "           nan, nan, nan, nan, nan, nan, nan, nan, nan, nan, nan, nan, nan,\n",
       "           nan, nan, nan, nan, nan, nan, nan, nan, nan, nan, nan, nan, nan,\n",
       "           nan, nan, nan, nan, nan, nan, nan, nan, nan, nan, nan, nan, nan,\n",
       "           nan, nan, nan, nan, nan, nan, nan, nan, nan, nan, nan, nan, nan,\n",
       "           nan, nan, nan, nan, nan, nan, nan, nan, nan, nan, nan, nan, nan,\n",
       "           nan, nan, nan, nan, nan, nan, nan, nan, nan, nan, nan, nan, nan,\n",
       "           nan, nan, nan, nan, nan, nan, nan, nan, nan, nan, nan, nan, nan,\n",
       "           nan, nan, nan, nan, nan, nan, nan, nan, nan, nan, nan, nan, nan,\n",
       "           nan, nan, nan, nan, nan, nan, nan, nan, nan, nan, nan, nan, nan,\n",
       "           nan, nan, nan, nan, nan, nan, nan, nan, nan, nan, nan, nan, nan,\n",
       "           nan, nan, nan, nan, nan, nan, nan, nan, nan, nan, nan, nan, nan,\n",
       "           nan, nan, nan, nan, nan, nan, nan, nan, nan, nan, nan, nan, nan,\n",
       "           nan, nan, nan, nan, nan, nan, nan, nan, nan, nan, nan, nan, nan,\n",
       "           nan, nan, nan, nan, nan, nan, nan, nan, nan, nan, nan, nan, nan,\n",
       "           nan, nan, nan, nan, nan, nan, nan, nan, nan, nan, nan, nan, nan,\n",
       "           nan, nan, nan, nan, nan, nan, nan, nan, nan, nan, nan, nan],\n",
       "          dtype=float32)>,\n",
       "  qi=<tf.Tensor: shape=(1000, 10), dtype=float32, numpy=\n",
       "    array([[nan, nan, nan, ..., nan, nan, nan],\n",
       "           [nan, nan, nan, ..., nan, nan, nan],\n",
       "           [nan, nan, nan, ..., nan, nan, nan],\n",
       "           ...,\n",
       "           [nan, nan, nan, ..., nan, nan, nan],\n",
       "           [nan, nan, nan, ..., nan, nan, nan],\n",
       "           [nan, nan, nan, ..., nan, nan, nan]], dtype=float32)>\n",
       ")"
      ]
     },
     "execution_count": 329,
     "metadata": {},
     "output_type": "execute_result"
    }
   ],
   "source": [
    "iaf_samples"
   ]
  },
  {
   "cell_type": "code",
   "execution_count": null,
   "metadata": {
    "ExecuteTime": {
     "end_time": "2021-06-24T05:33:41.780634Z",
     "start_time": "2021-06-24T05:33:37.901632Z"
    },
    "scrolled": false
   },
   "outputs": [],
   "source": []
  },
  {
   "cell_type": "code",
   "execution_count": null,
   "metadata": {
    "ExecuteTime": {
     "end_time": "2021-06-24T05:33:41.796483Z",
     "start_time": "2021-06-24T05:33:41.782344Z"
    }
   },
   "outputs": [],
   "source": []
  },
  {
   "cell_type": "code",
   "execution_count": null,
   "metadata": {
    "ExecuteTime": {
     "end_time": "2021-06-24T03:35:24.862220Z",
     "start_time": "2021-06-24T03:35:24.853414Z"
    },
    "scrolled": true
   },
   "outputs": [],
   "source": []
  },
  {
   "cell_type": "code",
   "execution_count": null,
   "metadata": {
    "ExecuteTime": {
     "end_time": "2021-06-24T03:50:41.550413Z",
     "start_time": "2021-06-24T03:50:41.512852Z"
    },
    "scrolled": true
   },
   "outputs": [],
   "source": []
  },
  {
   "cell_type": "code",
   "execution_count": null,
   "metadata": {
    "ExecuteTime": {
     "end_time": "2021-06-24T03:50:45.808742Z",
     "start_time": "2021-06-24T03:50:45.504605Z"
    }
   },
   "outputs": [],
   "source": []
  },
  {
   "cell_type": "code",
   "execution_count": null,
   "metadata": {
    "ExecuteTime": {
     "end_time": "2021-06-24T03:51:02.590289Z",
     "start_time": "2021-06-24T03:51:02.384328Z"
    }
   },
   "outputs": [],
   "source": []
  },
  {
   "cell_type": "code",
   "execution_count": 74,
   "metadata": {
    "ExecuteTime": {
     "end_time": "2021-06-24T03:48:27.266787Z",
     "start_time": "2021-06-24T03:48:26.934541Z"
    },
    "scrolled": true
   },
   "outputs": [
    {
     "ename": "ValueError",
     "evalue": "Joint distribution expected values for 8 components ['c1', 'c2', 's', 'theta', 'p', 'qi', 'k', 'a']; saw 9 (from args (<tf.Tensor 'monte_carlo_variational_loss/expectation/exp/forward/Exp:0' shape=(1000,) dtype=float32>, <tf.Tensor 'monte_carlo_variational_loss/expectation/Identity_1:0' shape=(1000,) dtype=float32>, <tf.Tensor 'monte_carlo_variational_loss/expectation/Identity_2:0' shape=(1000,) dtype=float32>, <tf.Tensor 'monte_carlo_variational_loss/expectation/Identity_3:0' shape=(1000,) dtype=float32>, <tf.Tensor 'monte_carlo_variational_loss/expectation/Identity_4:0' shape=(1000,) dtype=float32>, <tf.Tensor 'monte_carlo_variational_loss/expectation/Identity_5:0' shape=(1000, 10) dtype=float32>, <tf.Tensor 'monte_carlo_variational_loss/expectation/exp_1/forward/Exp:0' shape=(1000, 10) dtype=float32>) and kwargs {'a': [150], 'k': [15, 15, 15, 15, 15, 15, 15, 15, 15, 15]}).",
     "output_type": "error",
     "traceback": [
      "\u001b[0;31m---------------------------------------------------------------------------\u001b[0m",
      "\u001b[0;31mValueError\u001b[0m                                Traceback (most recent call last)",
      "\u001b[0;32m<ipython-input-74-966fa60272e2>\u001b[0m in \u001b[0;36m<module>\u001b[0;34m\u001b[0m\n\u001b[1;32m     56\u001b[0m     \u001b[0;32mreturn\u001b[0m \u001b[0melbo_loss\u001b[0m\u001b[0;34m\u001b[0m\u001b[0;34m\u001b[0m\u001b[0m\n\u001b[1;32m     57\u001b[0m \u001b[0;34m\u001b[0m\u001b[0m\n\u001b[0;32m---> 58\u001b[0;31m \u001b[0melbo_loss\u001b[0m \u001b[0;34m=\u001b[0m \u001b[0mrun_approximation\u001b[0m\u001b[0;34m(\u001b[0m\u001b[0;34m)\u001b[0m\u001b[0;34m\u001b[0m\u001b[0;34m\u001b[0m\u001b[0m\n\u001b[0m\u001b[1;32m     59\u001b[0m \u001b[0;34m\u001b[0m\u001b[0m\n",
      "\u001b[0;32m~/anaconda3/envs/tensorflow/lib/python3.8/site-packages/tensorflow/python/eager/def_function.py\u001b[0m in \u001b[0;36m__call__\u001b[0;34m(self, *args, **kwds)\u001b[0m\n\u001b[1;32m    883\u001b[0m \u001b[0;34m\u001b[0m\u001b[0m\n\u001b[1;32m    884\u001b[0m       \u001b[0;32mwith\u001b[0m \u001b[0mOptionalXlaContext\u001b[0m\u001b[0;34m(\u001b[0m\u001b[0mself\u001b[0m\u001b[0;34m.\u001b[0m\u001b[0m_jit_compile\u001b[0m\u001b[0;34m)\u001b[0m\u001b[0;34m:\u001b[0m\u001b[0;34m\u001b[0m\u001b[0;34m\u001b[0m\u001b[0m\n\u001b[0;32m--> 885\u001b[0;31m         \u001b[0mresult\u001b[0m \u001b[0;34m=\u001b[0m \u001b[0mself\u001b[0m\u001b[0;34m.\u001b[0m\u001b[0m_call\u001b[0m\u001b[0;34m(\u001b[0m\u001b[0;34m*\u001b[0m\u001b[0margs\u001b[0m\u001b[0;34m,\u001b[0m \u001b[0;34m**\u001b[0m\u001b[0mkwds\u001b[0m\u001b[0;34m)\u001b[0m\u001b[0;34m\u001b[0m\u001b[0;34m\u001b[0m\u001b[0m\n\u001b[0m\u001b[1;32m    886\u001b[0m \u001b[0;34m\u001b[0m\u001b[0m\n\u001b[1;32m    887\u001b[0m       \u001b[0mnew_tracing_count\u001b[0m \u001b[0;34m=\u001b[0m \u001b[0mself\u001b[0m\u001b[0;34m.\u001b[0m\u001b[0mexperimental_get_tracing_count\u001b[0m\u001b[0;34m(\u001b[0m\u001b[0;34m)\u001b[0m\u001b[0;34m\u001b[0m\u001b[0;34m\u001b[0m\u001b[0m\n",
      "\u001b[0;32m~/anaconda3/envs/tensorflow/lib/python3.8/site-packages/tensorflow/python/eager/def_function.py\u001b[0m in \u001b[0;36m_call\u001b[0;34m(self, *args, **kwds)\u001b[0m\n\u001b[1;32m    931\u001b[0m       \u001b[0;31m# This is the first call of __call__, so we have to initialize.\u001b[0m\u001b[0;34m\u001b[0m\u001b[0;34m\u001b[0m\u001b[0;34m\u001b[0m\u001b[0m\n\u001b[1;32m    932\u001b[0m       \u001b[0minitializers\u001b[0m \u001b[0;34m=\u001b[0m \u001b[0;34m[\u001b[0m\u001b[0;34m]\u001b[0m\u001b[0;34m\u001b[0m\u001b[0;34m\u001b[0m\u001b[0m\n\u001b[0;32m--> 933\u001b[0;31m       \u001b[0mself\u001b[0m\u001b[0;34m.\u001b[0m\u001b[0m_initialize\u001b[0m\u001b[0;34m(\u001b[0m\u001b[0margs\u001b[0m\u001b[0;34m,\u001b[0m \u001b[0mkwds\u001b[0m\u001b[0;34m,\u001b[0m \u001b[0madd_initializers_to\u001b[0m\u001b[0;34m=\u001b[0m\u001b[0minitializers\u001b[0m\u001b[0;34m)\u001b[0m\u001b[0;34m\u001b[0m\u001b[0;34m\u001b[0m\u001b[0m\n\u001b[0m\u001b[1;32m    934\u001b[0m     \u001b[0;32mfinally\u001b[0m\u001b[0;34m:\u001b[0m\u001b[0;34m\u001b[0m\u001b[0;34m\u001b[0m\u001b[0m\n\u001b[1;32m    935\u001b[0m       \u001b[0;31m# At this point we know that the initialization is complete (or less\u001b[0m\u001b[0;34m\u001b[0m\u001b[0;34m\u001b[0m\u001b[0;34m\u001b[0m\u001b[0m\n",
      "\u001b[0;32m~/anaconda3/envs/tensorflow/lib/python3.8/site-packages/tensorflow/python/eager/def_function.py\u001b[0m in \u001b[0;36m_initialize\u001b[0;34m(self, args, kwds, add_initializers_to)\u001b[0m\n\u001b[1;32m    757\u001b[0m     \u001b[0mself\u001b[0m\u001b[0;34m.\u001b[0m\u001b[0m_graph_deleter\u001b[0m \u001b[0;34m=\u001b[0m \u001b[0mFunctionDeleter\u001b[0m\u001b[0;34m(\u001b[0m\u001b[0mself\u001b[0m\u001b[0;34m.\u001b[0m\u001b[0m_lifted_initializer_graph\u001b[0m\u001b[0;34m)\u001b[0m\u001b[0;34m\u001b[0m\u001b[0;34m\u001b[0m\u001b[0m\n\u001b[1;32m    758\u001b[0m     self._concrete_stateful_fn = (\n\u001b[0;32m--> 759\u001b[0;31m         self._stateful_fn._get_concrete_function_internal_garbage_collected(  # pylint: disable=protected-access\n\u001b[0m\u001b[1;32m    760\u001b[0m             *args, **kwds))\n\u001b[1;32m    761\u001b[0m \u001b[0;34m\u001b[0m\u001b[0m\n",
      "\u001b[0;32m~/anaconda3/envs/tensorflow/lib/python3.8/site-packages/tensorflow/python/eager/function.py\u001b[0m in \u001b[0;36m_get_concrete_function_internal_garbage_collected\u001b[0;34m(self, *args, **kwargs)\u001b[0m\n\u001b[1;32m   3057\u001b[0m       \u001b[0margs\u001b[0m\u001b[0;34m,\u001b[0m \u001b[0mkwargs\u001b[0m \u001b[0;34m=\u001b[0m \u001b[0;32mNone\u001b[0m\u001b[0;34m,\u001b[0m \u001b[0;32mNone\u001b[0m\u001b[0;34m\u001b[0m\u001b[0;34m\u001b[0m\u001b[0m\n\u001b[1;32m   3058\u001b[0m     \u001b[0;32mwith\u001b[0m \u001b[0mself\u001b[0m\u001b[0;34m.\u001b[0m\u001b[0m_lock\u001b[0m\u001b[0;34m:\u001b[0m\u001b[0;34m\u001b[0m\u001b[0;34m\u001b[0m\u001b[0m\n\u001b[0;32m-> 3059\u001b[0;31m       \u001b[0mgraph_function\u001b[0m\u001b[0;34m,\u001b[0m \u001b[0m_\u001b[0m \u001b[0;34m=\u001b[0m \u001b[0mself\u001b[0m\u001b[0;34m.\u001b[0m\u001b[0m_maybe_define_function\u001b[0m\u001b[0;34m(\u001b[0m\u001b[0margs\u001b[0m\u001b[0;34m,\u001b[0m \u001b[0mkwargs\u001b[0m\u001b[0;34m)\u001b[0m\u001b[0;34m\u001b[0m\u001b[0;34m\u001b[0m\u001b[0m\n\u001b[0m\u001b[1;32m   3060\u001b[0m     \u001b[0;32mreturn\u001b[0m \u001b[0mgraph_function\u001b[0m\u001b[0;34m\u001b[0m\u001b[0;34m\u001b[0m\u001b[0m\n\u001b[1;32m   3061\u001b[0m \u001b[0;34m\u001b[0m\u001b[0m\n",
      "\u001b[0;32m~/anaconda3/envs/tensorflow/lib/python3.8/site-packages/tensorflow/python/eager/function.py\u001b[0m in \u001b[0;36m_maybe_define_function\u001b[0;34m(self, args, kwargs)\u001b[0m\n\u001b[1;32m   3454\u001b[0m \u001b[0;34m\u001b[0m\u001b[0m\n\u001b[1;32m   3455\u001b[0m           \u001b[0mself\u001b[0m\u001b[0;34m.\u001b[0m\u001b[0m_function_cache\u001b[0m\u001b[0;34m.\u001b[0m\u001b[0mmissed\u001b[0m\u001b[0;34m.\u001b[0m\u001b[0madd\u001b[0m\u001b[0;34m(\u001b[0m\u001b[0mcall_context_key\u001b[0m\u001b[0;34m)\u001b[0m\u001b[0;34m\u001b[0m\u001b[0;34m\u001b[0m\u001b[0m\n\u001b[0;32m-> 3456\u001b[0;31m           \u001b[0mgraph_function\u001b[0m \u001b[0;34m=\u001b[0m \u001b[0mself\u001b[0m\u001b[0;34m.\u001b[0m\u001b[0m_create_graph_function\u001b[0m\u001b[0;34m(\u001b[0m\u001b[0margs\u001b[0m\u001b[0;34m,\u001b[0m \u001b[0mkwargs\u001b[0m\u001b[0;34m)\u001b[0m\u001b[0;34m\u001b[0m\u001b[0;34m\u001b[0m\u001b[0m\n\u001b[0m\u001b[1;32m   3457\u001b[0m           \u001b[0mself\u001b[0m\u001b[0;34m.\u001b[0m\u001b[0m_function_cache\u001b[0m\u001b[0;34m.\u001b[0m\u001b[0mprimary\u001b[0m\u001b[0;34m[\u001b[0m\u001b[0mcache_key\u001b[0m\u001b[0;34m]\u001b[0m \u001b[0;34m=\u001b[0m \u001b[0mgraph_function\u001b[0m\u001b[0;34m\u001b[0m\u001b[0;34m\u001b[0m\u001b[0m\n\u001b[1;32m   3458\u001b[0m \u001b[0;34m\u001b[0m\u001b[0m\n",
      "\u001b[0;32m~/anaconda3/envs/tensorflow/lib/python3.8/site-packages/tensorflow/python/eager/function.py\u001b[0m in \u001b[0;36m_create_graph_function\u001b[0;34m(self, args, kwargs, override_flat_arg_shapes)\u001b[0m\n\u001b[1;32m   3289\u001b[0m     \u001b[0marg_names\u001b[0m \u001b[0;34m=\u001b[0m \u001b[0mbase_arg_names\u001b[0m \u001b[0;34m+\u001b[0m \u001b[0mmissing_arg_names\u001b[0m\u001b[0;34m\u001b[0m\u001b[0;34m\u001b[0m\u001b[0m\n\u001b[1;32m   3290\u001b[0m     graph_function = ConcreteFunction(\n\u001b[0;32m-> 3291\u001b[0;31m         func_graph_module.func_graph_from_py_func(\n\u001b[0m\u001b[1;32m   3292\u001b[0m             \u001b[0mself\u001b[0m\u001b[0;34m.\u001b[0m\u001b[0m_name\u001b[0m\u001b[0;34m,\u001b[0m\u001b[0;34m\u001b[0m\u001b[0;34m\u001b[0m\u001b[0m\n\u001b[1;32m   3293\u001b[0m             \u001b[0mself\u001b[0m\u001b[0;34m.\u001b[0m\u001b[0m_python_function\u001b[0m\u001b[0;34m,\u001b[0m\u001b[0;34m\u001b[0m\u001b[0;34m\u001b[0m\u001b[0m\n",
      "\u001b[0;32m~/anaconda3/envs/tensorflow/lib/python3.8/site-packages/tensorflow/python/framework/func_graph.py\u001b[0m in \u001b[0;36mfunc_graph_from_py_func\u001b[0;34m(name, python_func, args, kwargs, signature, func_graph, autograph, autograph_options, add_control_dependencies, arg_names, op_return_value, collections, capture_by_value, override_flat_arg_shapes, acd_record_initial_resource_uses)\u001b[0m\n\u001b[1;32m   1005\u001b[0m         \u001b[0m_\u001b[0m\u001b[0;34m,\u001b[0m \u001b[0moriginal_func\u001b[0m \u001b[0;34m=\u001b[0m \u001b[0mtf_decorator\u001b[0m\u001b[0;34m.\u001b[0m\u001b[0munwrap\u001b[0m\u001b[0;34m(\u001b[0m\u001b[0mpython_func\u001b[0m\u001b[0;34m)\u001b[0m\u001b[0;34m\u001b[0m\u001b[0;34m\u001b[0m\u001b[0m\n\u001b[1;32m   1006\u001b[0m \u001b[0;34m\u001b[0m\u001b[0m\n\u001b[0;32m-> 1007\u001b[0;31m       \u001b[0mfunc_outputs\u001b[0m \u001b[0;34m=\u001b[0m \u001b[0mpython_func\u001b[0m\u001b[0;34m(\u001b[0m\u001b[0;34m*\u001b[0m\u001b[0mfunc_args\u001b[0m\u001b[0;34m,\u001b[0m \u001b[0;34m**\u001b[0m\u001b[0mfunc_kwargs\u001b[0m\u001b[0;34m)\u001b[0m\u001b[0;34m\u001b[0m\u001b[0;34m\u001b[0m\u001b[0m\n\u001b[0m\u001b[1;32m   1008\u001b[0m \u001b[0;34m\u001b[0m\u001b[0m\n\u001b[1;32m   1009\u001b[0m       \u001b[0;31m# invariant: `func_outputs` contains only Tensors, CompositeTensors,\u001b[0m\u001b[0;34m\u001b[0m\u001b[0;34m\u001b[0m\u001b[0;34m\u001b[0m\u001b[0m\n",
      "\u001b[0;32m~/anaconda3/envs/tensorflow/lib/python3.8/site-packages/tensorflow/python/eager/def_function.py\u001b[0m in \u001b[0;36mwrapped_fn\u001b[0;34m(*args, **kwds)\u001b[0m\n\u001b[1;32m    666\u001b[0m         \u001b[0;31m# the function a weak reference to itself to avoid a reference cycle.\u001b[0m\u001b[0;34m\u001b[0m\u001b[0;34m\u001b[0m\u001b[0;34m\u001b[0m\u001b[0m\n\u001b[1;32m    667\u001b[0m         \u001b[0;32mwith\u001b[0m \u001b[0mOptionalXlaContext\u001b[0m\u001b[0;34m(\u001b[0m\u001b[0mcompile_with_xla\u001b[0m\u001b[0;34m)\u001b[0m\u001b[0;34m:\u001b[0m\u001b[0;34m\u001b[0m\u001b[0;34m\u001b[0m\u001b[0m\n\u001b[0;32m--> 668\u001b[0;31m           \u001b[0mout\u001b[0m \u001b[0;34m=\u001b[0m \u001b[0mweak_wrapped_fn\u001b[0m\u001b[0;34m(\u001b[0m\u001b[0;34m)\u001b[0m\u001b[0;34m.\u001b[0m\u001b[0m__wrapped__\u001b[0m\u001b[0;34m(\u001b[0m\u001b[0;34m*\u001b[0m\u001b[0margs\u001b[0m\u001b[0;34m,\u001b[0m \u001b[0;34m**\u001b[0m\u001b[0mkwds\u001b[0m\u001b[0;34m)\u001b[0m\u001b[0;34m\u001b[0m\u001b[0;34m\u001b[0m\u001b[0m\n\u001b[0m\u001b[1;32m    669\u001b[0m         \u001b[0;32mreturn\u001b[0m \u001b[0mout\u001b[0m\u001b[0;34m\u001b[0m\u001b[0;34m\u001b[0m\u001b[0m\n\u001b[1;32m    670\u001b[0m \u001b[0;34m\u001b[0m\u001b[0m\n",
      "\u001b[0;32m<ipython-input-74-966fa60272e2>\u001b[0m in \u001b[0;36mrun_approximation\u001b[0;34m()\u001b[0m\n\u001b[1;32m     48\u001b[0m \u001b[0;34m@\u001b[0m\u001b[0mtf\u001b[0m\u001b[0;34m.\u001b[0m\u001b[0mfunction\u001b[0m\u001b[0;34m(\u001b[0m\u001b[0mautograph\u001b[0m\u001b[0;34m=\u001b[0m\u001b[0;32mFalse\u001b[0m\u001b[0;34m)\u001b[0m\u001b[0;34m\u001b[0m\u001b[0;34m\u001b[0m\u001b[0m\n\u001b[1;32m     49\u001b[0m \u001b[0;32mdef\u001b[0m \u001b[0mrun_approximation\u001b[0m\u001b[0;34m(\u001b[0m\u001b[0;34m)\u001b[0m\u001b[0;34m:\u001b[0m\u001b[0;34m\u001b[0m\u001b[0;34m\u001b[0m\u001b[0m\n\u001b[0;32m---> 50\u001b[0;31m     elbo_loss = tfp.vi.fit_surrogate_posterior(\n\u001b[0m\u001b[1;32m     51\u001b[0m         \u001b[0mposterior\u001b[0m\u001b[0;34m,\u001b[0m\u001b[0;34m\u001b[0m\u001b[0;34m\u001b[0m\u001b[0m\n\u001b[1;32m     52\u001b[0m         \u001b[0msurrogate_posterior\u001b[0m\u001b[0;34m=\u001b[0m\u001b[0mmeanfield_advi\u001b[0m\u001b[0;34m,\u001b[0m\u001b[0;34m\u001b[0m\u001b[0;34m\u001b[0m\u001b[0m\n",
      "\u001b[0;32m~/anaconda3/envs/tensorflow/lib/python3.8/site-packages/tensorflow_probability/python/vi/optimization.py\u001b[0m in \u001b[0;36mfit_surrogate_posterior\u001b[0;34m(target_log_prob_fn, surrogate_posterior, optimizer, num_steps, convergence_criterion, trace_fn, variational_loss_fn, sample_size, trainable_variables, jit_compile, seed, name)\u001b[0m\n\u001b[1;32m    299\u001b[0m         seed=seed)\n\u001b[1;32m    300\u001b[0m \u001b[0;34m\u001b[0m\u001b[0m\n\u001b[0;32m--> 301\u001b[0;31m   return tfp_math.minimize(complete_variational_loss_fn,\n\u001b[0m\u001b[1;32m    302\u001b[0m                            \u001b[0mnum_steps\u001b[0m\u001b[0;34m=\u001b[0m\u001b[0mnum_steps\u001b[0m\u001b[0;34m,\u001b[0m\u001b[0;34m\u001b[0m\u001b[0;34m\u001b[0m\u001b[0m\n\u001b[1;32m    303\u001b[0m                            \u001b[0moptimizer\u001b[0m\u001b[0;34m=\u001b[0m\u001b[0moptimizer\u001b[0m\u001b[0;34m,\u001b[0m\u001b[0;34m\u001b[0m\u001b[0;34m\u001b[0m\u001b[0m\n",
      "\u001b[0;32m~/anaconda3/envs/tensorflow/lib/python3.8/site-packages/tensorflow_probability/python/math/minimize.py\u001b[0m in \u001b[0;36mminimize\u001b[0;34m(loss_fn, num_steps, optimizer, convergence_criterion, batch_convergence_reduce_fn, trainable_variables, trace_fn, return_full_length_trace, jit_compile, name)\u001b[0m\n\u001b[1;32m    329\u001b[0m         \u001b[0mloss_fn\u001b[0m\u001b[0;34m=\u001b[0m\u001b[0mloss_fn\u001b[0m\u001b[0;34m,\u001b[0m \u001b[0moptimizer\u001b[0m\u001b[0;34m=\u001b[0m\u001b[0moptimizer\u001b[0m\u001b[0;34m,\u001b[0m\u001b[0;34m\u001b[0m\u001b[0;34m\u001b[0m\u001b[0m\n\u001b[1;32m    330\u001b[0m         trainable_variables=trainable_variables)\n\u001b[0;32m--> 331\u001b[0;31m     \u001b[0minitial_loss\u001b[0m\u001b[0;34m,\u001b[0m \u001b[0minitial_grads\u001b[0m\u001b[0;34m,\u001b[0m \u001b[0minitial_parameters\u001b[0m \u001b[0;34m=\u001b[0m \u001b[0moptimizer_step_fn\u001b[0m\u001b[0;34m(\u001b[0m\u001b[0;34m)\u001b[0m\u001b[0;34m\u001b[0m\u001b[0;34m\u001b[0m\u001b[0m\n\u001b[0m\u001b[1;32m    332\u001b[0m     \u001b[0mhas_converged\u001b[0m \u001b[0;34m=\u001b[0m \u001b[0;32mNone\u001b[0m\u001b[0;34m\u001b[0m\u001b[0;34m\u001b[0m\u001b[0m\n\u001b[1;32m    333\u001b[0m     \u001b[0minitial_convergence_criterion_state\u001b[0m \u001b[0;34m=\u001b[0m \u001b[0;32mNone\u001b[0m\u001b[0;34m\u001b[0m\u001b[0;34m\u001b[0m\u001b[0m\n",
      "\u001b[0;32m~/anaconda3/envs/tensorflow/lib/python3.8/site-packages/tensorflow/python/eager/def_function.py\u001b[0m in \u001b[0;36m__call__\u001b[0;34m(self, *args, **kwds)\u001b[0m\n\u001b[1;32m    883\u001b[0m \u001b[0;34m\u001b[0m\u001b[0m\n\u001b[1;32m    884\u001b[0m       \u001b[0;32mwith\u001b[0m \u001b[0mOptionalXlaContext\u001b[0m\u001b[0;34m(\u001b[0m\u001b[0mself\u001b[0m\u001b[0;34m.\u001b[0m\u001b[0m_jit_compile\u001b[0m\u001b[0;34m)\u001b[0m\u001b[0;34m:\u001b[0m\u001b[0;34m\u001b[0m\u001b[0;34m\u001b[0m\u001b[0m\n\u001b[0;32m--> 885\u001b[0;31m         \u001b[0mresult\u001b[0m \u001b[0;34m=\u001b[0m \u001b[0mself\u001b[0m\u001b[0;34m.\u001b[0m\u001b[0m_call\u001b[0m\u001b[0;34m(\u001b[0m\u001b[0;34m*\u001b[0m\u001b[0margs\u001b[0m\u001b[0;34m,\u001b[0m \u001b[0;34m**\u001b[0m\u001b[0mkwds\u001b[0m\u001b[0;34m)\u001b[0m\u001b[0;34m\u001b[0m\u001b[0;34m\u001b[0m\u001b[0m\n\u001b[0m\u001b[1;32m    886\u001b[0m \u001b[0;34m\u001b[0m\u001b[0m\n\u001b[1;32m    887\u001b[0m       \u001b[0mnew_tracing_count\u001b[0m \u001b[0;34m=\u001b[0m \u001b[0mself\u001b[0m\u001b[0;34m.\u001b[0m\u001b[0mexperimental_get_tracing_count\u001b[0m\u001b[0;34m(\u001b[0m\u001b[0;34m)\u001b[0m\u001b[0;34m\u001b[0m\u001b[0;34m\u001b[0m\u001b[0m\n",
      "\u001b[0;32m~/anaconda3/envs/tensorflow/lib/python3.8/site-packages/tensorflow/python/eager/def_function.py\u001b[0m in \u001b[0;36m_call\u001b[0;34m(self, *args, **kwds)\u001b[0m\n\u001b[1;32m    931\u001b[0m       \u001b[0;31m# This is the first call of __call__, so we have to initialize.\u001b[0m\u001b[0;34m\u001b[0m\u001b[0;34m\u001b[0m\u001b[0;34m\u001b[0m\u001b[0m\n\u001b[1;32m    932\u001b[0m       \u001b[0minitializers\u001b[0m \u001b[0;34m=\u001b[0m \u001b[0;34m[\u001b[0m\u001b[0;34m]\u001b[0m\u001b[0;34m\u001b[0m\u001b[0;34m\u001b[0m\u001b[0m\n\u001b[0;32m--> 933\u001b[0;31m       \u001b[0mself\u001b[0m\u001b[0;34m.\u001b[0m\u001b[0m_initialize\u001b[0m\u001b[0;34m(\u001b[0m\u001b[0margs\u001b[0m\u001b[0;34m,\u001b[0m \u001b[0mkwds\u001b[0m\u001b[0;34m,\u001b[0m \u001b[0madd_initializers_to\u001b[0m\u001b[0;34m=\u001b[0m\u001b[0minitializers\u001b[0m\u001b[0;34m)\u001b[0m\u001b[0;34m\u001b[0m\u001b[0;34m\u001b[0m\u001b[0m\n\u001b[0m\u001b[1;32m    934\u001b[0m     \u001b[0;32mfinally\u001b[0m\u001b[0;34m:\u001b[0m\u001b[0;34m\u001b[0m\u001b[0;34m\u001b[0m\u001b[0m\n\u001b[1;32m    935\u001b[0m       \u001b[0;31m# At this point we know that the initialization is complete (or less\u001b[0m\u001b[0;34m\u001b[0m\u001b[0;34m\u001b[0m\u001b[0;34m\u001b[0m\u001b[0m\n",
      "\u001b[0;32m~/anaconda3/envs/tensorflow/lib/python3.8/site-packages/tensorflow/python/eager/def_function.py\u001b[0m in \u001b[0;36m_initialize\u001b[0;34m(self, args, kwds, add_initializers_to)\u001b[0m\n\u001b[1;32m    757\u001b[0m     \u001b[0mself\u001b[0m\u001b[0;34m.\u001b[0m\u001b[0m_graph_deleter\u001b[0m \u001b[0;34m=\u001b[0m \u001b[0mFunctionDeleter\u001b[0m\u001b[0;34m(\u001b[0m\u001b[0mself\u001b[0m\u001b[0;34m.\u001b[0m\u001b[0m_lifted_initializer_graph\u001b[0m\u001b[0;34m)\u001b[0m\u001b[0;34m\u001b[0m\u001b[0;34m\u001b[0m\u001b[0m\n\u001b[1;32m    758\u001b[0m     self._concrete_stateful_fn = (\n\u001b[0;32m--> 759\u001b[0;31m         self._stateful_fn._get_concrete_function_internal_garbage_collected(  # pylint: disable=protected-access\n\u001b[0m\u001b[1;32m    760\u001b[0m             *args, **kwds))\n\u001b[1;32m    761\u001b[0m \u001b[0;34m\u001b[0m\u001b[0m\n",
      "\u001b[0;32m~/anaconda3/envs/tensorflow/lib/python3.8/site-packages/tensorflow/python/eager/function.py\u001b[0m in \u001b[0;36m_get_concrete_function_internal_garbage_collected\u001b[0;34m(self, *args, **kwargs)\u001b[0m\n\u001b[1;32m   3057\u001b[0m       \u001b[0margs\u001b[0m\u001b[0;34m,\u001b[0m \u001b[0mkwargs\u001b[0m \u001b[0;34m=\u001b[0m \u001b[0;32mNone\u001b[0m\u001b[0;34m,\u001b[0m \u001b[0;32mNone\u001b[0m\u001b[0;34m\u001b[0m\u001b[0;34m\u001b[0m\u001b[0m\n\u001b[1;32m   3058\u001b[0m     \u001b[0;32mwith\u001b[0m \u001b[0mself\u001b[0m\u001b[0;34m.\u001b[0m\u001b[0m_lock\u001b[0m\u001b[0;34m:\u001b[0m\u001b[0;34m\u001b[0m\u001b[0;34m\u001b[0m\u001b[0m\n\u001b[0;32m-> 3059\u001b[0;31m       \u001b[0mgraph_function\u001b[0m\u001b[0;34m,\u001b[0m \u001b[0m_\u001b[0m \u001b[0;34m=\u001b[0m \u001b[0mself\u001b[0m\u001b[0;34m.\u001b[0m\u001b[0m_maybe_define_function\u001b[0m\u001b[0;34m(\u001b[0m\u001b[0margs\u001b[0m\u001b[0;34m,\u001b[0m \u001b[0mkwargs\u001b[0m\u001b[0;34m)\u001b[0m\u001b[0;34m\u001b[0m\u001b[0;34m\u001b[0m\u001b[0m\n\u001b[0m\u001b[1;32m   3060\u001b[0m     \u001b[0;32mreturn\u001b[0m \u001b[0mgraph_function\u001b[0m\u001b[0;34m\u001b[0m\u001b[0;34m\u001b[0m\u001b[0m\n\u001b[1;32m   3061\u001b[0m \u001b[0;34m\u001b[0m\u001b[0m\n",
      "\u001b[0;32m~/anaconda3/envs/tensorflow/lib/python3.8/site-packages/tensorflow/python/eager/function.py\u001b[0m in \u001b[0;36m_maybe_define_function\u001b[0;34m(self, args, kwargs)\u001b[0m\n\u001b[1;32m   3454\u001b[0m \u001b[0;34m\u001b[0m\u001b[0m\n\u001b[1;32m   3455\u001b[0m           \u001b[0mself\u001b[0m\u001b[0;34m.\u001b[0m\u001b[0m_function_cache\u001b[0m\u001b[0;34m.\u001b[0m\u001b[0mmissed\u001b[0m\u001b[0;34m.\u001b[0m\u001b[0madd\u001b[0m\u001b[0;34m(\u001b[0m\u001b[0mcall_context_key\u001b[0m\u001b[0;34m)\u001b[0m\u001b[0;34m\u001b[0m\u001b[0;34m\u001b[0m\u001b[0m\n\u001b[0;32m-> 3456\u001b[0;31m           \u001b[0mgraph_function\u001b[0m \u001b[0;34m=\u001b[0m \u001b[0mself\u001b[0m\u001b[0;34m.\u001b[0m\u001b[0m_create_graph_function\u001b[0m\u001b[0;34m(\u001b[0m\u001b[0margs\u001b[0m\u001b[0;34m,\u001b[0m \u001b[0mkwargs\u001b[0m\u001b[0;34m)\u001b[0m\u001b[0;34m\u001b[0m\u001b[0;34m\u001b[0m\u001b[0m\n\u001b[0m\u001b[1;32m   3457\u001b[0m           \u001b[0mself\u001b[0m\u001b[0;34m.\u001b[0m\u001b[0m_function_cache\u001b[0m\u001b[0;34m.\u001b[0m\u001b[0mprimary\u001b[0m\u001b[0;34m[\u001b[0m\u001b[0mcache_key\u001b[0m\u001b[0;34m]\u001b[0m \u001b[0;34m=\u001b[0m \u001b[0mgraph_function\u001b[0m\u001b[0;34m\u001b[0m\u001b[0;34m\u001b[0m\u001b[0m\n\u001b[1;32m   3458\u001b[0m \u001b[0;34m\u001b[0m\u001b[0m\n",
      "\u001b[0;32m~/anaconda3/envs/tensorflow/lib/python3.8/site-packages/tensorflow/python/eager/function.py\u001b[0m in \u001b[0;36m_create_graph_function\u001b[0;34m(self, args, kwargs, override_flat_arg_shapes)\u001b[0m\n\u001b[1;32m   3289\u001b[0m     \u001b[0marg_names\u001b[0m \u001b[0;34m=\u001b[0m \u001b[0mbase_arg_names\u001b[0m \u001b[0;34m+\u001b[0m \u001b[0mmissing_arg_names\u001b[0m\u001b[0;34m\u001b[0m\u001b[0;34m\u001b[0m\u001b[0m\n\u001b[1;32m   3290\u001b[0m     graph_function = ConcreteFunction(\n\u001b[0;32m-> 3291\u001b[0;31m         func_graph_module.func_graph_from_py_func(\n\u001b[0m\u001b[1;32m   3292\u001b[0m             \u001b[0mself\u001b[0m\u001b[0;34m.\u001b[0m\u001b[0m_name\u001b[0m\u001b[0;34m,\u001b[0m\u001b[0;34m\u001b[0m\u001b[0;34m\u001b[0m\u001b[0m\n\u001b[1;32m   3293\u001b[0m             \u001b[0mself\u001b[0m\u001b[0;34m.\u001b[0m\u001b[0m_python_function\u001b[0m\u001b[0;34m,\u001b[0m\u001b[0;34m\u001b[0m\u001b[0;34m\u001b[0m\u001b[0m\n",
      "\u001b[0;32m~/anaconda3/envs/tensorflow/lib/python3.8/site-packages/tensorflow/python/framework/func_graph.py\u001b[0m in \u001b[0;36mfunc_graph_from_py_func\u001b[0;34m(name, python_func, args, kwargs, signature, func_graph, autograph, autograph_options, add_control_dependencies, arg_names, op_return_value, collections, capture_by_value, override_flat_arg_shapes, acd_record_initial_resource_uses)\u001b[0m\n\u001b[1;32m   1005\u001b[0m         \u001b[0m_\u001b[0m\u001b[0;34m,\u001b[0m \u001b[0moriginal_func\u001b[0m \u001b[0;34m=\u001b[0m \u001b[0mtf_decorator\u001b[0m\u001b[0;34m.\u001b[0m\u001b[0munwrap\u001b[0m\u001b[0;34m(\u001b[0m\u001b[0mpython_func\u001b[0m\u001b[0;34m)\u001b[0m\u001b[0;34m\u001b[0m\u001b[0;34m\u001b[0m\u001b[0m\n\u001b[1;32m   1006\u001b[0m \u001b[0;34m\u001b[0m\u001b[0m\n\u001b[0;32m-> 1007\u001b[0;31m       \u001b[0mfunc_outputs\u001b[0m \u001b[0;34m=\u001b[0m \u001b[0mpython_func\u001b[0m\u001b[0;34m(\u001b[0m\u001b[0;34m*\u001b[0m\u001b[0mfunc_args\u001b[0m\u001b[0;34m,\u001b[0m \u001b[0;34m**\u001b[0m\u001b[0mfunc_kwargs\u001b[0m\u001b[0;34m)\u001b[0m\u001b[0;34m\u001b[0m\u001b[0;34m\u001b[0m\u001b[0m\n\u001b[0m\u001b[1;32m   1008\u001b[0m \u001b[0;34m\u001b[0m\u001b[0m\n\u001b[1;32m   1009\u001b[0m       \u001b[0;31m# invariant: `func_outputs` contains only Tensors, CompositeTensors,\u001b[0m\u001b[0;34m\u001b[0m\u001b[0;34m\u001b[0m\u001b[0;34m\u001b[0m\u001b[0m\n",
      "\u001b[0;32m~/anaconda3/envs/tensorflow/lib/python3.8/site-packages/tensorflow/python/eager/def_function.py\u001b[0m in \u001b[0;36mwrapped_fn\u001b[0;34m(*args, **kwds)\u001b[0m\n\u001b[1;32m    666\u001b[0m         \u001b[0;31m# the function a weak reference to itself to avoid a reference cycle.\u001b[0m\u001b[0;34m\u001b[0m\u001b[0;34m\u001b[0m\u001b[0;34m\u001b[0m\u001b[0m\n\u001b[1;32m    667\u001b[0m         \u001b[0;32mwith\u001b[0m \u001b[0mOptionalXlaContext\u001b[0m\u001b[0;34m(\u001b[0m\u001b[0mcompile_with_xla\u001b[0m\u001b[0;34m)\u001b[0m\u001b[0;34m:\u001b[0m\u001b[0;34m\u001b[0m\u001b[0;34m\u001b[0m\u001b[0m\n\u001b[0;32m--> 668\u001b[0;31m           \u001b[0mout\u001b[0m \u001b[0;34m=\u001b[0m \u001b[0mweak_wrapped_fn\u001b[0m\u001b[0;34m(\u001b[0m\u001b[0;34m)\u001b[0m\u001b[0;34m.\u001b[0m\u001b[0m__wrapped__\u001b[0m\u001b[0;34m(\u001b[0m\u001b[0;34m*\u001b[0m\u001b[0margs\u001b[0m\u001b[0;34m,\u001b[0m \u001b[0;34m**\u001b[0m\u001b[0mkwds\u001b[0m\u001b[0;34m)\u001b[0m\u001b[0;34m\u001b[0m\u001b[0;34m\u001b[0m\u001b[0m\n\u001b[0m\u001b[1;32m    669\u001b[0m         \u001b[0;32mreturn\u001b[0m \u001b[0mout\u001b[0m\u001b[0;34m\u001b[0m\u001b[0;34m\u001b[0m\u001b[0m\n\u001b[1;32m    670\u001b[0m \u001b[0;34m\u001b[0m\u001b[0m\n",
      "\u001b[0;32m~/anaconda3/envs/tensorflow/lib/python3.8/site-packages/tensorflow_probability/python/math/minimize.py\u001b[0m in \u001b[0;36moptimizer_step\u001b[0;34m()\u001b[0m\n\u001b[1;32m     79\u001b[0m       \u001b[0;32mfor\u001b[0m \u001b[0mv\u001b[0m \u001b[0;32min\u001b[0m \u001b[0mtrainable_variables\u001b[0m \u001b[0;32mor\u001b[0m \u001b[0;34m[\u001b[0m\u001b[0;34m]\u001b[0m\u001b[0;34m:\u001b[0m\u001b[0;34m\u001b[0m\u001b[0;34m\u001b[0m\u001b[0m\n\u001b[1;32m     80\u001b[0m         \u001b[0mtape\u001b[0m\u001b[0;34m.\u001b[0m\u001b[0mwatch\u001b[0m\u001b[0;34m(\u001b[0m\u001b[0mv\u001b[0m\u001b[0;34m)\u001b[0m\u001b[0;34m\u001b[0m\u001b[0;34m\u001b[0m\u001b[0m\n\u001b[0;32m---> 81\u001b[0;31m       \u001b[0mloss\u001b[0m \u001b[0;34m=\u001b[0m \u001b[0mloss_fn\u001b[0m\u001b[0;34m(\u001b[0m\u001b[0;34m)\u001b[0m\u001b[0;34m\u001b[0m\u001b[0;34m\u001b[0m\u001b[0m\n\u001b[0m\u001b[1;32m     82\u001b[0m     \u001b[0mwatched_variables\u001b[0m \u001b[0;34m=\u001b[0m \u001b[0mtape\u001b[0m\u001b[0;34m.\u001b[0m\u001b[0mwatched_variables\u001b[0m\u001b[0;34m(\u001b[0m\u001b[0;34m)\u001b[0m\u001b[0;34m\u001b[0m\u001b[0;34m\u001b[0m\u001b[0m\n\u001b[1;32m     83\u001b[0m     \u001b[0mgrads\u001b[0m \u001b[0;34m=\u001b[0m \u001b[0mtape\u001b[0m\u001b[0;34m.\u001b[0m\u001b[0mgradient\u001b[0m\u001b[0;34m(\u001b[0m\u001b[0mloss\u001b[0m\u001b[0;34m,\u001b[0m \u001b[0mwatched_variables\u001b[0m\u001b[0;34m)\u001b[0m\u001b[0;34m\u001b[0m\u001b[0;34m\u001b[0m\u001b[0m\n",
      "\u001b[0;32m~/anaconda3/envs/tensorflow/lib/python3.8/site-packages/tensorflow_probability/python/vi/optimization.py\u001b[0m in \u001b[0;36mcomplete_variational_loss_fn\u001b[0;34m()\u001b[0m\n\u001b[1;32m    293\u001b[0m \u001b[0;34m\u001b[0m\u001b[0m\n\u001b[1;32m    294\u001b[0m   \u001b[0;32mdef\u001b[0m \u001b[0mcomplete_variational_loss_fn\u001b[0m\u001b[0;34m(\u001b[0m\u001b[0;34m)\u001b[0m\u001b[0;34m:\u001b[0m\u001b[0;34m\u001b[0m\u001b[0;34m\u001b[0m\u001b[0m\n\u001b[0;32m--> 295\u001b[0;31m     return variational_loss_fn(\n\u001b[0m\u001b[1;32m    296\u001b[0m         \u001b[0mtarget_log_prob_fn\u001b[0m\u001b[0;34m,\u001b[0m\u001b[0;34m\u001b[0m\u001b[0;34m\u001b[0m\u001b[0m\n\u001b[1;32m    297\u001b[0m         \u001b[0msurrogate_posterior\u001b[0m\u001b[0;34m,\u001b[0m\u001b[0;34m\u001b[0m\u001b[0;34m\u001b[0m\u001b[0m\n",
      "\u001b[0;32m~/anaconda3/envs/tensorflow/lib/python3.8/site-packages/tensorflow_probability/python/vi/csiszar_divergence.py\u001b[0m in \u001b[0;36mmonte_carlo_variational_loss\u001b[0;34m(target_log_prob_fn, surrogate_posterior, sample_size, discrepancy_fn, use_reparameterization, seed, name)\u001b[0m\n\u001b[1;32m    960\u001b[0m                       'function.')\n\u001b[1;32m    961\u001b[0m \u001b[0;34m\u001b[0m\u001b[0m\n\u001b[0;32m--> 962\u001b[0;31m     return monte_carlo.expectation(\n\u001b[0m\u001b[1;32m    963\u001b[0m         \u001b[0mf\u001b[0m\u001b[0;34m=\u001b[0m\u001b[0mdivergence_fn\u001b[0m\u001b[0;34m,\u001b[0m\u001b[0;34m\u001b[0m\u001b[0;34m\u001b[0m\u001b[0m\n\u001b[1;32m    964\u001b[0m         \u001b[0msamples\u001b[0m\u001b[0;34m=\u001b[0m\u001b[0mq_samples\u001b[0m\u001b[0;34m,\u001b[0m\u001b[0;34m\u001b[0m\u001b[0;34m\u001b[0m\u001b[0m\n",
      "\u001b[0;32m~/anaconda3/envs/tensorflow/lib/python3.8/site-packages/tensorflow_probability/python/monte_carlo/expectation.py\u001b[0m in \u001b[0;36mexpectation\u001b[0;34m(f, samples, log_prob, use_reparameterization, axis, keepdims, name)\u001b[0m\n\u001b[1;32m    164\u001b[0m       \u001b[0;32mraise\u001b[0m \u001b[0mValueError\u001b[0m\u001b[0;34m(\u001b[0m\u001b[0;34m'`f` must be a callable function.'\u001b[0m\u001b[0;34m)\u001b[0m\u001b[0;34m\u001b[0m\u001b[0;34m\u001b[0m\u001b[0m\n\u001b[1;32m    165\u001b[0m     \u001b[0;32mif\u001b[0m \u001b[0muse_reparameterization\u001b[0m\u001b[0;34m:\u001b[0m\u001b[0;34m\u001b[0m\u001b[0;34m\u001b[0m\u001b[0m\n\u001b[0;32m--> 166\u001b[0;31m       \u001b[0;32mreturn\u001b[0m \u001b[0mtf\u001b[0m\u001b[0;34m.\u001b[0m\u001b[0mreduce_mean\u001b[0m\u001b[0;34m(\u001b[0m\u001b[0mf\u001b[0m\u001b[0;34m(\u001b[0m\u001b[0msamples\u001b[0m\u001b[0;34m)\u001b[0m\u001b[0;34m,\u001b[0m \u001b[0maxis\u001b[0m\u001b[0;34m=\u001b[0m\u001b[0maxis\u001b[0m\u001b[0;34m,\u001b[0m \u001b[0mkeepdims\u001b[0m\u001b[0;34m=\u001b[0m\u001b[0mkeepdims\u001b[0m\u001b[0;34m)\u001b[0m\u001b[0;34m\u001b[0m\u001b[0;34m\u001b[0m\u001b[0m\n\u001b[0m\u001b[1;32m    167\u001b[0m     \u001b[0;32melse\u001b[0m\u001b[0;34m:\u001b[0m\u001b[0;34m\u001b[0m\u001b[0;34m\u001b[0m\u001b[0m\n\u001b[1;32m    168\u001b[0m       \u001b[0;32mif\u001b[0m \u001b[0;32mnot\u001b[0m \u001b[0mcallable\u001b[0m\u001b[0;34m(\u001b[0m\u001b[0mlog_prob\u001b[0m\u001b[0;34m)\u001b[0m\u001b[0;34m:\u001b[0m\u001b[0;34m\u001b[0m\u001b[0;34m\u001b[0m\u001b[0m\n",
      "\u001b[0;32m~/anaconda3/envs/tensorflow/lib/python3.8/site-packages/tensorflow_probability/python/vi/csiszar_divergence.py\u001b[0m in \u001b[0;36mdivergence_fn\u001b[0;34m(q_samples)\u001b[0m\n\u001b[1;32m    932\u001b[0m \u001b[0;34m\u001b[0m\u001b[0m\n\u001b[1;32m    933\u001b[0m     \u001b[0;32mdef\u001b[0m \u001b[0mdivergence_fn\u001b[0m\u001b[0;34m(\u001b[0m\u001b[0mq_samples\u001b[0m\u001b[0;34m)\u001b[0m\u001b[0;34m:\u001b[0m\u001b[0;34m\u001b[0m\u001b[0;34m\u001b[0m\u001b[0m\n\u001b[0;32m--> 934\u001b[0;31m       \u001b[0mtarget_log_prob\u001b[0m \u001b[0;34m=\u001b[0m \u001b[0mnest_util\u001b[0m\u001b[0;34m.\u001b[0m\u001b[0mcall_fn\u001b[0m\u001b[0;34m(\u001b[0m\u001b[0mtarget_log_prob_fn\u001b[0m\u001b[0;34m,\u001b[0m \u001b[0mq_samples\u001b[0m\u001b[0;34m)\u001b[0m\u001b[0;34m\u001b[0m\u001b[0;34m\u001b[0m\u001b[0m\n\u001b[0m\u001b[1;32m    935\u001b[0m       return discrepancy_fn(\n\u001b[1;32m    936\u001b[0m           target_log_prob - surrogate_posterior.log_prob(\n",
      "\u001b[0;32m~/anaconda3/envs/tensorflow/lib/python3.8/site-packages/tensorflow_probability/python/internal/nest_util.py\u001b[0m in \u001b[0;36mcall_fn\u001b[0;34m(fn, args)\u001b[0m\n\u001b[1;32m    221\u001b[0m \u001b[0;34m\u001b[0m\u001b[0m\n\u001b[1;32m    222\u001b[0m   \u001b[0;32mif\u001b[0m \u001b[0mexpand_as_args\u001b[0m\u001b[0;34m(\u001b[0m\u001b[0margs\u001b[0m\u001b[0;34m)\u001b[0m\u001b[0;34m:\u001b[0m\u001b[0;34m\u001b[0m\u001b[0;34m\u001b[0m\u001b[0m\n\u001b[0;32m--> 223\u001b[0;31m     \u001b[0;32mreturn\u001b[0m \u001b[0mfn\u001b[0m\u001b[0;34m(\u001b[0m\u001b[0;34m*\u001b[0m\u001b[0margs\u001b[0m\u001b[0;34m)\u001b[0m\u001b[0;34m\u001b[0m\u001b[0;34m\u001b[0m\u001b[0m\n\u001b[0m\u001b[1;32m    224\u001b[0m   \u001b[0;32melif\u001b[0m \u001b[0m_expand_as_kwargs\u001b[0m\u001b[0;34m(\u001b[0m\u001b[0margs\u001b[0m\u001b[0;34m)\u001b[0m\u001b[0;34m:\u001b[0m\u001b[0;34m\u001b[0m\u001b[0;34m\u001b[0m\u001b[0m\n\u001b[1;32m    225\u001b[0m     \u001b[0;32mreturn\u001b[0m \u001b[0mfn\u001b[0m\u001b[0;34m(\u001b[0m\u001b[0;34m**\u001b[0m\u001b[0margs\u001b[0m\u001b[0;34m)\u001b[0m\u001b[0;34m\u001b[0m\u001b[0;34m\u001b[0m\u001b[0m\n",
      "\u001b[0;32m~/anaconda3/envs/tensorflow/lib/python3.8/site-packages/tensorflow_probability/python/mcmc/transformed_kernel.py\u001b[0m in \u001b[0;36mtransformed_log_prob_fn\u001b[0;34m(*state_parts)\u001b[0m\n\u001b[1;32m    125\u001b[0m     \u001b[0;32mif\u001b[0m \u001b[0;32mnot\u001b[0m \u001b[0menable_bijector_caching\u001b[0m\u001b[0;34m:\u001b[0m\u001b[0;34m\u001b[0m\u001b[0;34m\u001b[0m\u001b[0m\n\u001b[1;32m    126\u001b[0m       \u001b[0mstate_parts\u001b[0m \u001b[0;34m=\u001b[0m \u001b[0;34m[\u001b[0m\u001b[0mtf\u001b[0m\u001b[0;34m.\u001b[0m\u001b[0midentity\u001b[0m\u001b[0;34m(\u001b[0m\u001b[0msp\u001b[0m\u001b[0;34m)\u001b[0m \u001b[0;32mfor\u001b[0m \u001b[0msp\u001b[0m \u001b[0;32min\u001b[0m \u001b[0mstate_parts\u001b[0m\u001b[0;34m]\u001b[0m\u001b[0;34m\u001b[0m\u001b[0;34m\u001b[0m\u001b[0m\n\u001b[0;32m--> 127\u001b[0;31m     \u001b[0mtlp\u001b[0m \u001b[0;34m=\u001b[0m \u001b[0mlog_prob_fn\u001b[0m\u001b[0;34m(\u001b[0m\u001b[0;34m*\u001b[0m\u001b[0mfn\u001b[0m\u001b[0;34m(\u001b[0m\u001b[0mstate_parts\u001b[0m\u001b[0;34m)\u001b[0m\u001b[0;34m)\u001b[0m\u001b[0;34m\u001b[0m\u001b[0;34m\u001b[0m\u001b[0m\n\u001b[0m\u001b[1;32m    128\u001b[0m     \u001b[0mtlp_rank\u001b[0m \u001b[0;34m=\u001b[0m \u001b[0mprefer_static\u001b[0m\u001b[0;34m.\u001b[0m\u001b[0mrank\u001b[0m\u001b[0;34m(\u001b[0m\u001b[0mtlp\u001b[0m\u001b[0;34m)\u001b[0m\u001b[0;34m\u001b[0m\u001b[0;34m\u001b[0m\u001b[0m\n\u001b[1;32m    129\u001b[0m     \u001b[0mevent_ndims\u001b[0m \u001b[0;34m=\u001b[0m \u001b[0;34m[\u001b[0m\u001b[0;34m(\u001b[0m\u001b[0mprefer_static\u001b[0m\u001b[0;34m.\u001b[0m\u001b[0mrank\u001b[0m\u001b[0;34m(\u001b[0m\u001b[0msp\u001b[0m\u001b[0;34m)\u001b[0m \u001b[0;34m-\u001b[0m \u001b[0mtlp_rank\u001b[0m\u001b[0;34m)\u001b[0m \u001b[0;32mfor\u001b[0m \u001b[0msp\u001b[0m \u001b[0;32min\u001b[0m \u001b[0mstate_parts\u001b[0m\u001b[0;34m]\u001b[0m\u001b[0;34m\u001b[0m\u001b[0;34m\u001b[0m\u001b[0m\n",
      "\u001b[0;32m<ipython-input-70-fc9d4aa6e6b8>\u001b[0m in \u001b[0;36mtarget_log_prob_fn\u001b[0;34m(*args)\u001b[0m\n\u001b[1;32m     37\u001b[0m \u001b[0;34m\u001b[0m\u001b[0m\n\u001b[1;32m     38\u001b[0m \u001b[0;32mdef\u001b[0m \u001b[0mtarget_log_prob_fn\u001b[0m\u001b[0;34m(\u001b[0m\u001b[0;34m*\u001b[0m\u001b[0margs\u001b[0m\u001b[0;34m)\u001b[0m\u001b[0;34m:\u001b[0m\u001b[0;34m\u001b[0m\u001b[0;34m\u001b[0m\u001b[0m\n\u001b[0;32m---> 39\u001b[0;31m     \u001b[0;32mreturn\u001b[0m \u001b[0mmodel\u001b[0m\u001b[0;34m.\u001b[0m\u001b[0mlog_prob\u001b[0m\u001b[0;34m(\u001b[0m\u001b[0;34m*\u001b[0m\u001b[0margs\u001b[0m\u001b[0;34m,\u001b[0m\u001b[0ma\u001b[0m \u001b[0;34m=\u001b[0m \u001b[0mDNA\u001b[0m\u001b[0;34m,\u001b[0m \u001b[0mk\u001b[0m \u001b[0;34m=\u001b[0m \u001b[0mRNA\u001b[0m \u001b[0;34m)\u001b[0m\u001b[0;34m\u001b[0m\u001b[0;34m\u001b[0m\u001b[0m\n\u001b[0m\u001b[1;32m     40\u001b[0m \u001b[0;34m\u001b[0m\u001b[0m\n\u001b[1;32m     41\u001b[0m '''\n",
      "\u001b[0;32m~/anaconda3/envs/tensorflow/lib/python3.8/site-packages/tensorflow_probability/python/distributions/joint_distribution.py\u001b[0m in \u001b[0;36mlog_prob\u001b[0;34m(self, *args, **kwargs)\u001b[0m\n\u001b[1;32m    631\u001b[0m     \"\"\"\n\u001b[1;32m    632\u001b[0m     \u001b[0mname\u001b[0m \u001b[0;34m=\u001b[0m \u001b[0mkwargs\u001b[0m\u001b[0;34m.\u001b[0m\u001b[0mpop\u001b[0m\u001b[0;34m(\u001b[0m\u001b[0;34m'name'\u001b[0m\u001b[0;34m,\u001b[0m \u001b[0;34m'log_prob'\u001b[0m\u001b[0;34m)\u001b[0m\u001b[0;34m\u001b[0m\u001b[0;34m\u001b[0m\u001b[0m\n\u001b[0;32m--> 633\u001b[0;31m     \u001b[0;32mreturn\u001b[0m \u001b[0mself\u001b[0m\u001b[0;34m.\u001b[0m\u001b[0m_call_log_prob\u001b[0m\u001b[0;34m(\u001b[0m\u001b[0mself\u001b[0m\u001b[0;34m.\u001b[0m\u001b[0m_resolve_value\u001b[0m\u001b[0;34m(\u001b[0m\u001b[0;34m*\u001b[0m\u001b[0margs\u001b[0m\u001b[0;34m,\u001b[0m \u001b[0;34m**\u001b[0m\u001b[0mkwargs\u001b[0m\u001b[0;34m)\u001b[0m\u001b[0;34m,\u001b[0m \u001b[0mname\u001b[0m\u001b[0;34m=\u001b[0m\u001b[0mname\u001b[0m\u001b[0;34m)\u001b[0m\u001b[0;34m\u001b[0m\u001b[0;34m\u001b[0m\u001b[0m\n\u001b[0m\u001b[1;32m    634\u001b[0m \u001b[0;34m\u001b[0m\u001b[0m\n\u001b[1;32m    635\u001b[0m   \u001b[0;31m# Override the base method to capture *args and **kwargs, so we can\u001b[0m\u001b[0;34m\u001b[0m\u001b[0;34m\u001b[0m\u001b[0;34m\u001b[0m\u001b[0m\n",
      "\u001b[0;32m~/anaconda3/envs/tensorflow/lib/python3.8/site-packages/tensorflow_probability/python/distributions/joint_distribution.py\u001b[0m in \u001b[0;36m_resolve_value\u001b[0;34m(self, allow_partially_specified, *args, **kwargs)\u001b[0m\n\u001b[1;32m    587\u001b[0m     \u001b[0;32mif\u001b[0m \u001b[0mallow_partially_specified\u001b[0m\u001b[0;34m:\u001b[0m\u001b[0;34m\u001b[0m\u001b[0;34m\u001b[0m\u001b[0m\n\u001b[1;32m    588\u001b[0m       \u001b[0mkwargs\u001b[0m\u001b[0;34m.\u001b[0m\u001b[0mupdate\u001b[0m\u001b[0;34m(\u001b[0m\u001b[0;34m{\u001b[0m\u001b[0mk\u001b[0m\u001b[0;34m:\u001b[0m \u001b[0mkwargs\u001b[0m\u001b[0;34m.\u001b[0m\u001b[0mget\u001b[0m\u001b[0;34m(\u001b[0m\u001b[0mk\u001b[0m\u001b[0;34m,\u001b[0m \u001b[0;32mNone\u001b[0m\u001b[0;34m)\u001b[0m \u001b[0;32mfor\u001b[0m \u001b[0mk\u001b[0m \u001b[0;32min\u001b[0m \u001b[0mnames\u001b[0m\u001b[0;34m}\u001b[0m\u001b[0;34m)\u001b[0m  \u001b[0;31m# In place update.\u001b[0m\u001b[0;34m\u001b[0m\u001b[0;34m\u001b[0m\u001b[0m\n\u001b[0;32m--> 589\u001b[0;31m     value, unmatched_kwargs = _resolve_value_from_args(\n\u001b[0m\u001b[1;32m    590\u001b[0m         \u001b[0margs\u001b[0m\u001b[0;34m,\u001b[0m\u001b[0;34m\u001b[0m\u001b[0;34m\u001b[0m\u001b[0m\n\u001b[1;32m    591\u001b[0m         \u001b[0mkwargs\u001b[0m\u001b[0;34m,\u001b[0m\u001b[0;34m\u001b[0m\u001b[0;34m\u001b[0m\u001b[0m\n",
      "\u001b[0;32m~/anaconda3/envs/tensorflow/lib/python3.8/site-packages/tensorflow_probability/python/distributions/joint_distribution.py\u001b[0m in \u001b[0;36m_resolve_value_from_args\u001b[0;34m(args, kwargs, dtype, flat_names, model_flatten_fn, model_unflatten_fn)\u001b[0m\n\u001b[1;32m    993\u001b[0m   \u001b[0mnum_components_specified\u001b[0m \u001b[0;34m=\u001b[0m \u001b[0mlen\u001b[0m\u001b[0;34m(\u001b[0m\u001b[0margs\u001b[0m\u001b[0;34m)\u001b[0m \u001b[0;34m+\u001b[0m \u001b[0mlen\u001b[0m\u001b[0;34m(\u001b[0m\u001b[0mkwargs\u001b[0m\u001b[0;34m)\u001b[0m \u001b[0;34m-\u001b[0m \u001b[0mlen\u001b[0m\u001b[0;34m(\u001b[0m\u001b[0munmatched_kwargs\u001b[0m\u001b[0;34m)\u001b[0m\u001b[0;34m\u001b[0m\u001b[0;34m\u001b[0m\u001b[0m\n\u001b[1;32m    994\u001b[0m   \u001b[0;32mif\u001b[0m \u001b[0mnum_components_specified\u001b[0m \u001b[0;34m!=\u001b[0m \u001b[0mlen\u001b[0m\u001b[0;34m(\u001b[0m\u001b[0mflat_names\u001b[0m\u001b[0;34m)\u001b[0m\u001b[0;34m:\u001b[0m\u001b[0;34m\u001b[0m\u001b[0;34m\u001b[0m\u001b[0m\n\u001b[0;32m--> 995\u001b[0;31m     raise ValueError('Joint distribution expected values for {} components {}; '\n\u001b[0m\u001b[1;32m    996\u001b[0m                      'saw {} (from args {} and kwargs {}).'.format(\n\u001b[1;32m    997\u001b[0m                          \u001b[0mlen\u001b[0m\u001b[0;34m(\u001b[0m\u001b[0mflat_names\u001b[0m\u001b[0;34m)\u001b[0m\u001b[0;34m,\u001b[0m\u001b[0;34m\u001b[0m\u001b[0;34m\u001b[0m\u001b[0m\n",
      "\u001b[0;31mValueError\u001b[0m: Joint distribution expected values for 8 components ['c1', 'c2', 's', 'theta', 'p', 'qi', 'k', 'a']; saw 9 (from args (<tf.Tensor 'monte_carlo_variational_loss/expectation/exp/forward/Exp:0' shape=(1000,) dtype=float32>, <tf.Tensor 'monte_carlo_variational_loss/expectation/Identity_1:0' shape=(1000,) dtype=float32>, <tf.Tensor 'monte_carlo_variational_loss/expectation/Identity_2:0' shape=(1000,) dtype=float32>, <tf.Tensor 'monte_carlo_variational_loss/expectation/Identity_3:0' shape=(1000,) dtype=float32>, <tf.Tensor 'monte_carlo_variational_loss/expectation/Identity_4:0' shape=(1000,) dtype=float32>, <tf.Tensor 'monte_carlo_variational_loss/expectation/Identity_5:0' shape=(1000, 10) dtype=float32>, <tf.Tensor 'monte_carlo_variational_loss/expectation/exp_1/forward/Exp:0' shape=(1000, 10) dtype=float32>) and kwargs {'a': [150], 'k': [15, 15, 15, 15, 15, 15, 15, 15, 15, 15]})."
     ]
    }
   ],
   "source": [
    "N = 1\n",
    "\n",
    "\n",
    "# Build Mean Field ADVI\n",
    "def build_mf_advi():\n",
    "    parameters = list(model.sample(1))\n",
    "    parameters.pop()\n",
    "    dists = []\n",
    "    for i, parameter in enumerate(parameters):\n",
    "        shape = parameter[0].shape\n",
    "        loc = tf.Variable(\n",
    "            tf.random.normal(shape, dtype=dtype),\n",
    "            name=f'meanfield_{i}_loc',\n",
    "            dtype=dtype\n",
    "        )\n",
    "        scale = tfp.util.TransformedVariable(\n",
    "            tf.fill(shape, value=tf.constant(0.02, dtype=dtype)),\n",
    "            tfb.Softplus(), # For positive values of scale\n",
    "            name=f'meanfield_{i}_scale'\n",
    "        )\n",
    "\n",
    "        approx_parameter = tfd.Normal(loc=loc, scale=scale)\n",
    "        dists.append(approx_parameter)\n",
    "    return tfd.JointDistributionSequential(dists)\n",
    "\n",
    "meanfield_advi = build_mf_advi()\n",
    "\n",
    "\n",
    "unconstraining_bijectors = [\n",
    "    tfb.Exp(),\n",
    "    tfb.Identity(),\n",
    "    tfb.Identity(),\n",
    "    tfb.Identity(),\n",
    "    tfb.Identity(),\n",
    "    tfb.Identity(),\n",
    "    tfb.Exp()\n",
    "]\n",
    "\n",
    "posterior = make_transformed_log_prob(\n",
    "    target_log_prob_fn,\n",
    "    unconstraining_bijectors,\n",
    "    direction='forward',\n",
    "    enable_bijector_caching=False\n",
    ")\n",
    "\n",
    "opt = tf.optimizers.Adam(learning_rate=.1)\n",
    "\n",
    "@tf.function(autograph=False)\n",
    "def run_approximation():\n",
    "    elbo_loss = tfp.vi.fit_surrogate_posterior(\n",
    "        posterior,\n",
    "        surrogate_posterior=meanfield_advi,\n",
    "        optimizer=opt,\n",
    "        sample_size=1000,\n",
    "        num_steps=10000)\n",
    "    return elbo_loss\n",
    "\n",
    "elbo_loss = run_approximation()\n",
    "\n"
   ]
  },
  {
   "cell_type": "code",
   "execution_count": 34,
   "metadata": {},
   "outputs": [
    {
     "data": {
      "image/png": "[encoded data removed]",
      "text/plain": [
       "<Figure size 432x288 with 1 Axes>"
      ]
     },
     "metadata": {
      "needs_background": "light"
     },
     "output_type": "display_data"
    }
   ],
   "source": [
    "#### Show ELBO curve through iteration\n",
    "# decrease the num_step according to the maximized ELBO plot\n",
    "plt.plot(elbo_loss, color='blue')\n",
    "plt.yscale(\"log\")\n",
    "plt.xlabel(\"No of iterations\")\n",
    "plt.ylabel(\"Negative ELBO\")\n",
    "plt.show()"
   ]
  },
  {
   "cell_type": "code",
   "execution_count": 35,
   "metadata": {},
   "outputs": [
    {
     "name": "stdout",
     "output_type": "stream",
     "text": [
      "{'sigma': {'mu': 0.80642253, 'sd': -0.7141728}, 'mu': {'mu': 11.482767, 'sd': 1.7579931}}\n"
     ]
    }
   ],
   "source": [
    "graph_info = model.resolve_graph()\n",
    "approx_param = dict()\n",
    "free_param = meanfield_advi.trainable_variables\n",
    "for i, (rvname, param) in enumerate(graph_info[:-1]):\n",
    "    approx_param[rvname] = {\"mu\": free_param[i*2].numpy(),\n",
    "                            \"sd\": free_param[i*2+1].numpy()}\n",
    "    \n",
    "    \n",
    "#### approximate distribution parameter\n",
    "print(approx_param)"
   ]
  },
  {
   "cell_type": "code",
   "execution_count": 10,
   "metadata": {},
   "outputs": [
    {
     "ename": "KeyError",
     "evalue": "'log2_theta'",
     "output_type": "error",
     "traceback": [
      "\u001b[0;31m---------------------------------------------------------------------------\u001b[0m",
      "\u001b[0;31mKeyError\u001b[0m                                  Traceback (most recent call last)",
      "\u001b[0;32m<ipython-input-10-2507588e749c>\u001b[0m in \u001b[0;36m<module>\u001b[0;34m\u001b[0m\n\u001b[1;32m      1\u001b[0m \u001b[0;31m#### Recover theta & p\u001b[0m\u001b[0;34m\u001b[0m\u001b[0;34m\u001b[0m\u001b[0;34m\u001b[0m\u001b[0m\n\u001b[0;32m----> 2\u001b[0;31m \u001b[0mtheta\u001b[0m \u001b[0;34m=\u001b[0m \u001b[0mpow\u001b[0m\u001b[0;34m(\u001b[0m\u001b[0;36m2\u001b[0m\u001b[0;34m,\u001b[0m\u001b[0mnp\u001b[0m\u001b[0;34m.\u001b[0m\u001b[0mexp\u001b[0m\u001b[0;34m(\u001b[0m\u001b[0mapprox_param\u001b[0m\u001b[0;34m[\u001b[0m\u001b[0;34m'log2_theta'\u001b[0m\u001b[0;34m]\u001b[0m\u001b[0;34m[\u001b[0m\u001b[0;34m'mu'\u001b[0m\u001b[0;34m]\u001b[0m\u001b[0;34m)\u001b[0m\u001b[0;34m)\u001b[0m\u001b[0;34m\u001b[0m\u001b[0;34m\u001b[0m\u001b[0m\n\u001b[0m\u001b[1;32m      3\u001b[0m \u001b[0mprint\u001b[0m\u001b[0;34m(\u001b[0m\u001b[0mtheta\u001b[0m\u001b[0;34m)\u001b[0m\u001b[0;34m\u001b[0m\u001b[0;34m\u001b[0m\u001b[0m\n",
      "\u001b[0;31mKeyError\u001b[0m: 'log2_theta'"
     ]
    }
   ],
   "source": [
    "#### Recover theta & p\n",
    "theta = pow(2,np.exp(approx_param['log2_theta']['mu']))\n",
    "print(theta)"
   ]
  },
  {
   "cell_type": "code",
   "execution_count": null,
   "metadata": {},
   "outputs": [],
   "source": []
  },
  {
   "cell_type": "code",
   "execution_count": null,
   "metadata": {},
   "outputs": [],
   "source": []
  },
  {
   "cell_type": "code",
   "execution_count": null,
   "metadata": {},
   "outputs": [],
   "source": []
  },
  {
   "cell_type": "code",
   "execution_count": null,
   "metadata": {},
   "outputs": [],
   "source": []
  },
  {
   "cell_type": "code",
   "execution_count": null,
   "metadata": {},
   "outputs": [],
   "source": []
  },
  {
   "cell_type": "code",
   "execution_count": null,
   "metadata": {},
   "outputs": [],
   "source": []
  },
  {
   "cell_type": "code",
   "execution_count": null,
   "metadata": {},
   "outputs": [],
   "source": []
  },
  {
   "cell_type": "code",
   "execution_count": null,
   "metadata": {},
   "outputs": [],
   "source": []
  },
  {
   "cell_type": "markdown",
   "metadata": {},
   "source": [
    "# VI Example\n",
    "https://www.tensorflow.org/probability/examples/Variational_Inference_and_Joint_Distributions"
   ]
  },
  {
   "cell_type": "code",
   "execution_count": 4,
   "metadata": {
    "ExecuteTime": {
     "end_time": "2021-06-24T02:47:12.385519Z",
     "start_time": "2021-06-24T02:47:11.403925Z"
    }
   },
   "outputs": [],
   "source": [
    "# Load the Radon dataset from `tensorflow_datasets` and filter to data from\n",
    "# Minnesota.\n",
    "dataset = tfds.as_numpy(\n",
    "    tfds.load('radon', split='train').filter(\n",
    "        lambda x: x['features']['state'] == 'MN').batch(10**9))\n",
    "\n",
    "# Dependent variable: Radon measurements by house.\n",
    "dataset = next(iter(dataset))\n",
    "radon_measurement = dataset['activity'].astype(np.float32)\n",
    "radon_measurement[radon_measurement <= 0.] = 0.1\n",
    "log_radon = np.log(radon_measurement)\n",
    "\n",
    "# Measured uranium concentrations in surrounding soil.\n",
    "uranium_measurement = dataset['features']['Uppm'].astype(np.float32)\n",
    "log_uranium = np.log(uranium_measurement)\n",
    "\n",
    "# County indicator.\n",
    "county_strings = dataset['features']['county'].astype('U13')\n",
    "unique_counties, county = np.unique(county_strings, return_inverse=True)\n",
    "county = county.astype(np.int32)\n",
    "num_counties = unique_counties.size\n",
    "\n",
    "# Floor on which the measurement was taken.\n",
    "floor_of_house = dataset['features']['floor'].astype(np.int32)\n",
    "\n",
    "# Average floor by county (contextual effect).\n",
    "county_mean_floor = []\n",
    "for i in range(num_counties):\n",
    "  county_mean_floor.append(floor_of_house[county == i].mean())\n",
    "county_mean_floor = np.array(county_mean_floor, dtype=log_radon.dtype)\n",
    "floor_by_county = county_mean_floor[county]\n"
   ]
  },
  {
   "cell_type": "code",
   "execution_count": 29,
   "metadata": {
    "ExecuteTime": {
     "end_time": "2021-06-24T03:19:57.644964Z",
     "start_time": "2021-06-24T03:19:57.575271Z"
    },
    "scrolled": true
   },
   "outputs": [
    {
     "data": {
      "text/plain": [
       "StructTuple(\n",
       "  uranium_weight=<tf.Tensor: shape=(), dtype=float32, numpy=0.96947145>,\n",
       "  county_floor_weight=<tf.Tensor: shape=(), dtype=float32, numpy=1.3516601>,\n",
       "  county_effect=<tf.Tensor: shape=(85,), dtype=float32, numpy=\n",
       "    array([-0.00891165,  0.51382756,  0.8887604 ,  1.0934656 ,  0.19063683,\n",
       "           -1.816842  ,  0.5573977 ,  0.43619174,  2.0679898 , -1.1282738 ,\n",
       "            1.2486008 , -1.2802231 , -0.16189353, -1.1235218 ,  1.7696934 ,\n",
       "            2.8856363 ,  0.05513172,  0.22909035,  1.543311  , -0.3902237 ,\n",
       "            1.3516245 ,  1.6085109 ,  0.43354324, -0.6679174 ,  0.14411198,\n",
       "            0.2123997 ,  0.41966498,  0.608672  ,  2.0688353 , -1.3939695 ,\n",
       "            1.1199465 ,  0.7059494 ,  0.33428255,  0.0595608 , -1.2506355 ,\n",
       "           -1.835246  ,  0.18616423,  1.6842955 , -0.17684548, -0.01327134,\n",
       "            0.52731216,  0.49517685, -0.12005948,  0.15049739,  0.43556112,\n",
       "            0.9437131 ,  0.3334335 ,  0.9390626 , -0.75552016,  1.1287478 ,\n",
       "            0.7798561 ,  0.1919702 ,  0.02494648,  1.234064  , -1.9833888 ,\n",
       "            0.15410747, -0.7495478 , -0.6573727 ,  0.23089726, -0.4834598 ,\n",
       "            0.32953617, -0.09370811,  0.30522493,  0.87971956, -0.00952477,\n",
       "           -0.25768077,  0.08262717,  0.02304848,  0.96394426, -2.1810536 ,\n",
       "           -1.0511245 , -0.13324268,  0.06132703, -0.2962708 ,  0.2734197 ,\n",
       "           -0.6023286 , -0.6357259 ,  0.7402906 , -0.5292223 , -1.4260477 ,\n",
       "            0.23416723, -1.249201  , -0.12897424,  0.3595788 ,  1.4858469 ],\n",
       "          dtype=float32)>,\n",
       "  log_radon=<tf.Tensor: shape=(919,), dtype=float32, numpy=\n",
       "    array([ 2.00680923e+00, -1.53015125e+00, -2.93183970e+00, -2.34576821e+00,\n",
       "           -2.96599793e+00,  2.49371469e-01,  1.50540078e+00,  4.82706845e-01,\n",
       "            1.08777797e+00,  1.38433790e+00,  8.31869125e-01,  2.82573605e+00,\n",
       "            2.49361217e-01,  2.27085114e+00, -1.62695587e+00, -4.60158157e+00,\n",
       "            1.24004841e-01, -1.19934344e+00,  1.89927638e-01,  4.63092655e-01,\n",
       "            5.41288733e-01,  9.57840383e-01,  1.95272923e-01, -1.32674158e-01,\n",
       "            3.92072231e-01, -2.01153576e-01, -2.31047535e+00, -4.18807358e-01,\n",
       "            2.81796193e+00,  3.39412951e+00,  1.70393717e+00, -7.05734372e-01,\n",
       "            3.56029868e-02, -1.07162285e+00, -2.85353708e+00,  1.43488705e+00,\n",
       "           -1.86319888e-01,  6.04159057e-01,  1.55769378e-01,  1.41853321e+00,\n",
       "            1.25117898e+00,  2.19343972e+00,  6.89863324e-01, -1.25290394e-01,\n",
       "            1.00656700e+00, -2.17384338e-01, -1.78043842e-02,  3.13958454e+00,\n",
       "            1.97396803e+00,  1.80891204e+00, -1.05278504e+00, -2.82061315e+00,\n",
       "           -1.06006956e+00,  2.37781763e+00, -2.14651632e+00,  2.77590573e-01,\n",
       "           -1.04600346e+00, -1.09174877e-01, -2.45839238e+00,  7.15075016e-01,\n",
       "           -2.05390501e+00,  3.43541086e-01, -1.02927852e+00,  6.28647655e-02,\n",
       "           -1.72917473e+00,  9.82934117e-01,  1.32698870e+00, -4.35266256e+00,\n",
       "           -3.58892083e+00,  6.39132977e-01, -8.89404774e-01,  6.75647855e-01,\n",
       "            4.17264581e-01, -9.59561467e-01,  1.62163842e+00,  1.22540402e+00,\n",
       "            2.04192638e+00,  1.39697301e+00,  2.17228031e+00, -6.68091416e-01,\n",
       "            2.35475361e-01, -2.85057724e-02,  9.45998609e-01, -1.86391020e+00,\n",
       "            8.57507139e-02,  8.03398430e-01, -2.57964444e+00, -1.96422637e-01,\n",
       "           -3.02833319e-01, -1.48297954e+00, -9.15291369e-01,  2.44181013e+00,\n",
       "           -9.05814409e-01, -1.43010378e+00,  1.49098301e+00,  2.58439183e-01,\n",
       "           -3.90263057e+00, -2.60682178e+00,  4.81323391e-01, -3.89363647e-01,\n",
       "           -2.11931229e+00,  1.60544187e-01, -3.92004752e+00,  2.06528139e+00,\n",
       "            1.58959937e+00, -1.69015574e+00, -1.69983888e+00, -2.30298591e+00,\n",
       "           -1.34931505e-03,  6.81413591e-01,  2.99513757e-01,  2.05487311e-01,\n",
       "            7.42149591e-01, -8.80099416e-01, -1.14896655e+00, -2.52445245e+00,\n",
       "            2.07495332e+00,  4.20337468e-02, -6.92671776e-01, -2.76497185e-01,\n",
       "           -5.69676280e-01,  7.79660702e-01,  1.16013527e+00, -3.60964108e+00,\n",
       "           -2.51509643e+00, -1.75060725e+00,  1.22595990e+00,  1.09805512e+00,\n",
       "           -2.90761590e-02,  3.01966071e-01,  2.88770604e+00, -1.40376282e+00,\n",
       "            1.43875301e+00, -1.64861655e+00, -4.03895235e+00, -1.26789021e+00,\n",
       "            8.10034394e-01,  3.21368754e-01, -7.67666399e-01,  2.24504066e+00,\n",
       "           -2.15170670e+00, -1.02542198e+00, -6.25372827e-01,  7.80708671e-01,\n",
       "            9.04997587e-01,  2.36072087e+00, -6.91660702e-01,  1.32886922e+00,\n",
       "           -1.80411625e+00,  3.00112545e-01,  8.05167794e-01,  1.37343109e-02,\n",
       "            1.13880050e+00, -3.31634092e+00,  2.53305006e+00, -6.87308550e-01,\n",
       "           -4.90755558e-01, -3.10880035e-01, -1.06071711e+00, -6.71991706e-01,\n",
       "            2.79743719e+00, -5.25991261e-01, -1.34265971e+00,  1.67254138e+00,\n",
       "           -1.43321872e-01, -6.39239430e-01,  2.05896258e+00,  1.43768644e+00,\n",
       "           -3.60183239e-01,  1.96514761e+00, -7.64903903e-01, -1.48515046e+00,\n",
       "            1.09818363e+00, -2.27432895e+00, -9.08621550e-02,  9.82287526e-01,\n",
       "            1.69061327e+00, -2.46560574e-02,  2.24757624e+00,  7.86755800e-01,\n",
       "           -1.82066846e+00, -4.08993292e+00,  2.71324682e+00, -2.04384375e+00,\n",
       "            1.59680033e+00,  1.06364512e+00, -9.57698941e-01, -5.25827169e-01,\n",
       "           -6.19405210e-01,  2.16225553e+00,  3.65808249e+00,  2.40306228e-01,\n",
       "           -1.92505431e+00,  1.49127972e+00,  3.43259573e+00,  3.09174418e-01,\n",
       "           -8.07914555e-01,  3.54116082e-01,  2.45465875e+00,  2.50201607e+00,\n",
       "           -1.11637771e+00, -1.90857542e+00,  9.07077789e-01,  7.46148348e-01,\n",
       "            1.66193938e+00,  9.67855453e-02,  3.97934079e+00, -1.48303342e+00,\n",
       "           -2.59691477e+00,  6.40033901e-01,  1.58759296e+00,  2.10012078e+00,\n",
       "            2.22138762e-01, -1.12873220e+00,  2.13449550e+00,  6.47669077e-01,\n",
       "           -1.32955098e+00, -1.50998116e-01,  2.23734784e+00, -2.44000292e+00,\n",
       "           -3.79151082e+00, -1.17208171e+00,  4.03725296e-01,  1.32693124e+00,\n",
       "           -4.82026637e-01, -2.05100250e+00,  3.78761959e+00,  1.71422505e+00,\n",
       "           -7.06542075e-01,  2.03961754e+00, -1.58751333e+00, -1.61633635e+00,\n",
       "            7.26569295e-02,  2.01145411e-02, -8.40826094e-01, -3.05762005e+00,\n",
       "            1.00050998e+00, -1.37952077e+00,  1.18187165e+00, -4.19928074e-01,\n",
       "           -2.48041868e+00, -1.34067631e+00, -4.73509669e-01,  2.04438806e+00,\n",
       "           -1.38984585e+00, -1.48101604e+00,  1.85760379e+00,  4.79972363e-03,\n",
       "            9.81588244e-01,  1.55908322e+00,  9.43287730e-01, -1.39598083e+00,\n",
       "           -3.96707028e-01, -1.96587229e+00,  4.68218505e-01,  2.00108528e+00,\n",
       "            2.48534298e+00, -1.95419979e+00,  1.34016144e+00, -2.66401076e+00,\n",
       "            2.69905925e-02,  7.31549203e-01,  2.42429304e+00,  5.40161967e-01,\n",
       "            1.15875220e+00, -1.71919465e+00,  2.86718845e+00, -1.37268758e+00,\n",
       "           -1.10002315e+00,  2.10360098e+00,  8.04060340e-01,  1.02275014e+00,\n",
       "            8.85273635e-01,  1.55927026e+00,  1.45232797e+00, -4.64780617e+00,\n",
       "            2.31906533e+00, -4.35068011e-01, -1.87101269e+00, -1.10751784e+00,\n",
       "           -1.95000148e+00,  1.11009383e+00,  1.60904932e+00,  1.42924154e+00,\n",
       "           -2.30419070e-01,  2.27667904e+00, -2.33257198e+00, -1.39084840e+00,\n",
       "            2.15796494e+00,  9.84542966e-01,  4.19915557e-01,  1.33309984e+00,\n",
       "            2.26373792e-01, -8.86207044e-01, -1.40026653e+00, -2.49914622e+00,\n",
       "           -4.27955568e-01,  2.13681746e+00, -9.63698149e-01, -2.66225815e+00,\n",
       "           -1.34337735e+00,  8.37101698e-01,  2.01619697e+00,  6.67994618e-01,\n",
       "           -4.07952428e-01, -4.32477427e+00,  7.83140063e-01,  7.74507642e-01,\n",
       "           -3.98592234e+00, -1.85176599e+00,  2.39225173e+00,  6.99412167e-01,\n",
       "            1.18787110e+00, -6.01399899e-01,  1.08280039e+00, -1.88658237e-02,\n",
       "            2.01970482e+00, -6.13220930e-01,  2.07117629e+00,  3.39645195e+00,\n",
       "            3.21667337e+00,  3.24494267e+00, -4.82658803e-01, -1.26552176e+00,\n",
       "           -1.42238200e-01, -1.06143653e-01, -2.89613724e+00,  3.76122952e+00,\n",
       "            9.34634566e-01,  5.73439121e-01,  2.57797241e+00, -9.41325426e-01,\n",
       "           -1.01356053e+00,  2.82711387e+00,  2.28702092e+00,  1.35191894e+00,\n",
       "           -1.40716028e+00,  8.69757593e-01, -1.89531446e+00,  1.26031721e+00,\n",
       "            1.79578567e+00,  1.78367987e-01,  1.52351427e+00,  1.36518979e+00,\n",
       "           -3.23042035e-01, -2.93744063e+00, -1.81980240e+00,  6.22891366e-01,\n",
       "            5.13983846e-01, -1.23216271e-01,  1.34428668e+00, -1.44053698e+00,\n",
       "           -1.27864265e+00, -5.65137565e-01,  1.02396220e-01, -2.60020757e+00,\n",
       "            2.26554489e+00, -1.04603922e+00, -1.33435202e+00, -5.24742842e-01,\n",
       "           -9.27870393e-01,  1.54868841e-01,  6.35969758e-01, -5.27833283e-01,\n",
       "           -4.52378464e+00,  6.74651980e-01, -1.90005529e+00, -2.40571886e-01,\n",
       "            8.01730216e-01, -2.06767917e+00,  6.25581563e-01,  9.23138261e-01,\n",
       "            2.38830256e+00, -9.19718325e-01, -3.24039966e-01, -2.92501450e-02,\n",
       "           -2.86686444e+00, -3.08843780e+00, -7.14715660e-01, -1.36424530e+00,\n",
       "            5.30362800e-02,  1.01053596e-01,  1.37612009e+00, -4.33881879e-01,\n",
       "            2.40958393e-01,  1.58604831e-01,  7.84433961e-01, -8.75646532e-01,\n",
       "            2.48788404e+00, -8.53986919e-01,  1.67949688e+00,  2.84164369e-01,\n",
       "           -2.35794216e-01, -9.77901459e-01, -4.15176570e-01,  3.90844107e-01,\n",
       "           -2.12987065e+00, -1.19861877e+00,  1.92945272e-01, -2.22094369e+00,\n",
       "            2.62242079e-01,  1.00479841e+00,  1.33107471e+00,  3.18499708e+00,\n",
       "           -3.32663774e-01, -9.24088657e-01,  2.35222244e+00,  1.60288525e+00,\n",
       "            8.07368338e-01, -1.16634154e+00, -1.89887285e+00,  1.69098592e+00,\n",
       "            1.15530300e+00,  1.05058581e-01,  1.01995754e+00, -5.33026397e-01,\n",
       "           -9.95013833e-01, -2.26444721e+00,  7.06429839e-01, -1.10904001e-01,\n",
       "           -1.43933821e+00, -2.82158709e+00, -1.66532469e+00,  1.59634721e+00,\n",
       "           -2.83058405e+00,  2.38457274e+00,  2.31104279e+00,  1.57969737e+00,\n",
       "            1.71988297e+00,  7.99143672e-01, -4.28779459e+00, -1.49072099e+00,\n",
       "           -2.54855919e+00,  2.17254162e+00, -1.59068197e-01, -8.80139589e-01,\n",
       "           -7.14827776e-02,  8.65632296e-03, -1.17861617e+00, -2.93506861e-01,\n",
       "           -3.59516144e-02,  4.93971407e-01, -5.06074369e-01, -1.44177508e+00,\n",
       "           -2.09385204e+00,  2.58792591e+00,  9.19998050e-01,  2.64681768e+00,\n",
       "            2.12276548e-01,  6.08056188e-02, -6.08088613e-01,  1.48125339e+00,\n",
       "            1.30256557e+00, -9.81124341e-01,  1.37281621e+00, -3.89680147e+00,\n",
       "            7.44511843e-01,  3.57167315e+00, -7.63249338e-01,  2.39719772e+00,\n",
       "            9.43527520e-01,  3.31630039e+00,  1.99633503e+00, -6.47061944e-01,\n",
       "            6.11509562e-01,  2.32620096e+00, -2.08588648e+00,  2.71734178e-01,\n",
       "           -7.13891447e-01,  8.54873657e-03,  9.51942325e-01,  1.96052149e-01,\n",
       "            3.27410269e+00,  5.28530359e-01, -1.69658470e+00,  9.22411978e-01,\n",
       "            1.54323733e+00, -3.89937067e+00, -1.33906591e+00,  3.63251209e-01,\n",
       "            2.30311108e+00, -1.14952707e+00, -2.21396232e+00,  1.62235349e-01,\n",
       "           -2.66377807e+00,  1.10911477e+00, -1.78280008e+00,  2.01982439e-01,\n",
       "            2.31819749e-01,  2.05077457e+00, -3.27165127e-02,  6.92593455e-01,\n",
       "           -3.78087312e-01, -1.01039028e+00,  1.61558008e+00, -2.23773837e+00,\n",
       "            1.28045774e+00,  8.60685110e-02, -1.90267110e+00, -1.67353487e+00,\n",
       "            2.80056143e+00,  1.37178075e+00,  8.71363878e-02,  2.43150973e+00,\n",
       "            5.35457373e-01, -4.76304150e+00, -2.06200063e-01,  1.20177433e-01,\n",
       "           -5.76713741e-01,  1.61954796e+00, -8.50207448e-01,  9.03954387e-01,\n",
       "            2.62910533e+00,  1.56147063e-01,  9.37670529e-01,  2.15377188e+00,\n",
       "            1.44607878e+00, -2.38779044e+00,  1.76358211e+00,  1.21621454e+00,\n",
       "           -1.29472351e+00, -1.82188058e+00, -1.15964782e+00,  1.19024539e+00,\n",
       "           -1.86272740e+00,  3.61862898e+00,  1.62420619e+00,  3.54259014e-02,\n",
       "            5.28383434e-01,  9.74538922e-01, -2.13682938e+00,  8.43859792e-01,\n",
       "           -5.01461864e-01,  3.05812383e+00,  1.34364080e+00,  5.39458811e-01,\n",
       "            2.02886963e+00, -1.54815507e+00,  4.15264606e-01, -1.40666485e+00,\n",
       "           -3.01712823e+00,  4.52028573e-01,  7.21094668e-01, -6.09763622e-01,\n",
       "            2.96740472e-01, -7.15194881e-01,  2.24750233e+00, -2.99584031e-01,\n",
       "            4.25230861e-01, -3.20343614e+00,  3.26271033e+00, -1.06121868e-01,\n",
       "           -1.03828394e+00,  2.01235771e+00,  7.79943168e-01,  1.16153085e+00,\n",
       "            1.99974942e+00,  2.38278842e+00,  7.79030621e-01, -3.85052395e+00,\n",
       "           -1.52217305e+00,  1.86382103e+00, -1.78831244e+00,  1.02783239e+00,\n",
       "            1.00529277e+00, -2.25266790e+00, -7.21164882e-01, -5.81745207e-02,\n",
       "            8.97467852e-01,  1.31278265e+00,  1.99536729e+00,  1.09198856e+00,\n",
       "           -8.68109405e-01, -4.28749681e-01, -1.20015812e+00, -4.86263126e-01,\n",
       "           -2.71738672e+00,  4.19943237e+00, -1.07266530e-01,  1.63844562e+00,\n",
       "           -1.13778687e+00, -3.24644506e-01, -2.20826888e+00, -1.67515421e+00,\n",
       "            8.59613895e-01,  4.26026583e-01, -5.75673342e-01,  4.65772152e-01,\n",
       "            1.13850832e-02, -1.06191826e+00, -1.13617957e+00, -7.18962312e-01,\n",
       "            3.44302714e-01, -1.28824472e+00, -2.32789695e-01,  7.36604929e-02,\n",
       "            1.35629725e+00, -1.93316960e+00,  8.03165734e-01,  6.97853923e-01,\n",
       "            2.98730224e-01,  1.60821295e+00, -2.58493853e+00,  9.65370417e-01,\n",
       "            5.02794802e-01,  1.34555495e+00,  2.57546568e+00, -1.40630281e+00,\n",
       "            8.59448135e-01,  3.23166132e-01,  4.50062752e-02,  1.35245359e+00,\n",
       "           -3.92903388e-01,  3.91332567e-01, -1.69607234e+00,  7.10235476e-01,\n",
       "            1.06641364e+00, -1.96038020e+00,  5.17734110e-01,  2.47316194e+00,\n",
       "           -1.90389657e+00, -7.02258587e-01,  3.27441597e+00,  7.96895444e-01,\n",
       "           -4.99746799e-01,  8.47405434e-01, -2.93619633e-01, -2.34267139e+00,\n",
       "            2.72662115e+00, -2.84295797e-01, -2.45224550e-01,  9.02549028e-01,\n",
       "            1.11547136e+00,  1.14233685e+00, -1.12344813e+00,  4.68162358e-01,\n",
       "           -1.49302816e+00,  7.86843061e-01, -7.21295714e-01,  1.51249862e+00,\n",
       "           -1.54429007e+00, -2.84798193e+00, -4.13349581e+00,  2.04400611e+00,\n",
       "            3.02166319e+00,  2.94688129e+00, -7.33603060e-01,  6.50389254e-01,\n",
       "            8.94630969e-01,  2.63780618e+00,  1.97066903e-01,  2.08976448e-01,\n",
       "            8.12320232e-01, -5.03048420e-01,  1.95252848e+00, -9.67642903e-01,\n",
       "           -1.11219597e+00,  5.01162529e+00,  1.53329444e+00, -3.27760863e+00,\n",
       "           -5.12911677e-02, -8.84043276e-02,  4.70839143e-01,  2.57009125e+00,\n",
       "            8.86746764e-01,  9.35844302e-01,  2.11938262e-01,  2.46376529e-01,\n",
       "            2.26991892e+00,  4.59739625e-01,  4.06311542e-01, -5.94419897e-01,\n",
       "            6.03171945e-01, -2.29174662e+00,  1.97653413e+00,  1.74889350e+00,\n",
       "            2.49901390e+00, -1.44275343e+00,  1.88805866e+00, -6.43781185e-01,\n",
       "           -4.80096531e+00,  9.10667598e-01, -2.18171644e+00,  7.29178548e-01,\n",
       "            7.27984548e-01,  4.30567592e-01, -7.21256286e-02,  1.86918283e+00,\n",
       "            1.70347118e+00,  2.63458014e+00,  3.73427808e-01,  8.25763822e-01,\n",
       "            3.80532682e-01,  1.14235926e+00,  1.68368268e+00,  1.23336005e+00,\n",
       "           -1.66452646e+00,  8.68724287e-01, -1.88104540e-01, -6.26185656e-01,\n",
       "            9.00469303e-01, -1.68272829e+00,  9.00546312e-01, -2.08545744e-01,\n",
       "           -1.60233521e+00, -2.76720285e-01,  9.78456736e-01, -1.64104629e+00,\n",
       "           -3.28797579e-01, -1.94975448e+00, -2.73044777e+00,  2.04208598e-01,\n",
       "            3.72693181e-01, -1.86729276e+00,  7.08595097e-01, -2.56884313e+00,\n",
       "           -3.53928566e-01,  1.80848694e+00, -1.31548285e-01,  2.81997538e+00,\n",
       "           -3.77755344e-01,  1.84882879e+00,  1.57129061e+00, -3.05962849e+00,\n",
       "           -9.26609576e-01, -8.03118527e-01, -1.49504161e+00, -9.76777554e-01,\n",
       "            1.30063736e+00, -1.76314032e+00,  3.63307863e-01,  1.30512524e+00,\n",
       "           -1.26784277e+00,  7.36505747e-01, -1.25863481e+00, -3.90104592e-01,\n",
       "            1.56399786e+00, -3.47481370e-01,  8.49211395e-01, -1.68104315e+00,\n",
       "            1.04925478e+00, -1.13901293e+00, -1.25832582e+00, -1.81674957e-02,\n",
       "            5.75494170e-01,  4.48506325e-01, -1.67855871e+00, -2.14621305e+00,\n",
       "           -4.41084051e+00,  1.52774549e+00, -7.62987852e-01, -1.20092487e+00,\n",
       "            1.82463479e+00,  5.65232635e-01,  1.73788071e-01, -6.34627223e-01,\n",
       "            2.15621233e+00,  3.46273804e+00, -3.32729268e+00, -4.68474269e-01,\n",
       "           -1.35377502e+00,  1.84087300e+00,  8.61222386e-01,  2.35472417e+00,\n",
       "            1.55289531e-01,  3.50107729e-01, -2.60781384e+00, -8.32659006e-01,\n",
       "            6.49891019e-01, -1.05429912e+00, -2.06665730e+00,  1.36119819e+00,\n",
       "            1.00671840e+00,  1.21281910e+00,  5.18021822e-01,  5.31414688e-01,\n",
       "            1.17481995e+00, -2.47531557e+00, -2.58752251e+00, -1.07294381e+00,\n",
       "            9.58231866e-01,  8.26509058e-01,  3.81214499e-01,  2.11295533e+00,\n",
       "           -6.63672328e-01, -1.68903112e+00, -4.05894160e-01, -1.30939317e+00,\n",
       "            5.29266596e-01,  6.40769482e-01, -8.35785151e-01, -2.47839975e+00,\n",
       "            6.08339787e-01,  1.71408224e+00,  9.99194443e-01, -7.93684125e-01,\n",
       "           -9.88020062e-01, -6.66241050e-01,  1.56872523e+00, -9.38766599e-01,\n",
       "            1.46066582e+00,  1.55434823e+00,  2.08644271e+00,  1.28145218e+00,\n",
       "           -7.60584891e-01, -2.77461767e+00,  4.88790661e-01,  1.27205968e-01,\n",
       "            1.55165517e+00, -1.45918214e+00, -3.83984017e+00,  4.10391045e+00,\n",
       "           -4.03749275e+00,  1.21222782e+00, -1.14519906e+00, -3.61517429e-01,\n",
       "            2.04285812e+00, -2.51066995e+00,  4.69524413e-01, -2.17872882e+00,\n",
       "            1.85509515e+00, -2.99630046e+00, -2.47822094e+00,  1.50519466e+00,\n",
       "           -1.76048264e-01,  9.67864633e-01, -2.15046501e+00, -2.36370397e+00,\n",
       "           -5.12855589e-01,  8.26321959e-01,  6.31325185e-01, -7.36653984e-01,\n",
       "           -2.58705020e+00, -4.95133668e-01, -2.02112913e-01,  1.39556026e+00,\n",
       "           -2.18456459e+00,  1.74535185e-01,  6.50501609e-01, -2.52734876e+00,\n",
       "            5.81269979e-01,  5.48809350e-01,  1.67394590e+00, -2.76077652e+00,\n",
       "           -2.47289598e-01,  1.02628839e+00,  5.68692446e-01,  5.16560078e-01,\n",
       "           -5.11024296e-01, -7.57659256e-01,  1.78099740e+00,  6.40302062e-01,\n",
       "            9.60794210e-01, -9.24818099e-01, -1.88360429e+00, -1.01870203e+00,\n",
       "           -2.17120552e+00,  1.10313296e-01, -1.07060218e+00,  1.03258348e+00,\n",
       "            7.86367059e-01,  2.30143738e+00, -6.21428192e-01,  8.84860039e-01,\n",
       "            1.16328728e+00,  1.41815245e+00, -1.36217475e+00, -1.58453417e+00,\n",
       "           -2.42262650e+00, -1.33313227e+00, -1.90844619e+00,  5.92865765e-01,\n",
       "            1.18946302e+00,  2.18576884e+00, -1.67618716e+00, -3.23899686e-01,\n",
       "           -2.54633570e+00,  7.27064610e-01,  7.88988233e-01,  1.74683678e+00,\n",
       "            2.51791072e+00,  1.27550483e-01,  5.14834046e-01, -5.42196035e-01,\n",
       "           -3.65619600e-01, -2.71298695e+00,  1.82749629e-02,  1.73451543e+00,\n",
       "            1.40616083e+00,  1.01558018e+00, -2.69883752e+00, -3.15548587e+00,\n",
       "            8.01477313e-01, -6.33706570e-01, -1.74795449e-01, -6.04294062e-01,\n",
       "            9.63481903e-01,  7.83454120e-01,  7.17805564e-01, -2.90181494e+00,\n",
       "           -1.52547288e+00, -3.34319878e+00, -7.21346378e-01, -2.68926311e+00,\n",
       "           -4.00982589e-01, -9.50053871e-01, -9.65634584e-01,  4.67549503e-01,\n",
       "            3.64523381e-02, -1.78077722e+00, -2.22636652e+00,  1.48197007e+00,\n",
       "           -1.66968203e+00, -1.22606862e+00, -8.32655430e-02, -2.52808237e+00,\n",
       "            1.32741332e+00, -2.29651153e-01, -1.87515223e+00], dtype=float32)>\n",
       ")"
      ]
     },
     "execution_count": 29,
     "metadata": {},
     "output_type": "execute_result"
    }
   ],
   "source": [
    "# Create variables for fixed effects.\n",
    "floor_weight = tf.Variable(0.)\n",
    "bias = tf.Variable(0.)\n",
    "\n",
    "# Variables for scale parameters.\n",
    "log_radon_scale = tfp.util.TransformedVariable(1., tfb.Exp())\n",
    "county_effect_scale = tfp.util.TransformedVariable(1., tfb.Exp())\n",
    "\n",
    "# Define the probabilistic graphical model as a JointDistribution.\n",
    "@tfd.JointDistributionCoroutineAutoBatched\n",
    "def model():\n",
    "  uranium_weight = yield tfd.Normal(0., scale=1., name='uranium_weight')\n",
    "  county_floor_weight = yield tfd.Normal(\n",
    "      0., scale=1., name='county_floor_weight')\n",
    "  county_effect = yield tfd.Sample(\n",
    "      tfd.Normal(0., scale=county_effect_scale),\n",
    "      sample_shape=[num_counties], name='county_effect')\n",
    "  yield tfd.Normal(\n",
    "      loc=(log_uranium * uranium_weight + floor_of_house* floor_weight\n",
    "\n",
    "           + floor_by_county * county_floor_weight\n",
    "           + tf.gather(county_effect, county, axis=-1)\n",
    "           + bias),\n",
    "      scale=log_radon_scale[..., tf.newaxis],\n",
    "      name='log_radon') \n",
    "\n",
    "# Pin the observed `log_radon` values to model the un-normalized posterior.\n",
    "target_model = model.experimental_pin(log_radon=log_radon)\n",
    "\n"
   ]
  },
  {
   "cell_type": "code",
   "execution_count": 6,
   "metadata": {
    "ExecuteTime": {
     "end_time": "2021-06-24T02:47:12.425700Z",
     "start_time": "2021-06-24T02:47:12.413202Z"
    }
   },
   "outputs": [],
   "source": [
    "# Determine the `event_shape` of the posterior, and calculate the size of each\n",
    "# `event_shape` component. These determine the sizes of the components of the\n",
    "# underlying standard Normal distribution, and the dimensions of the blocks in\n",
    "# the blockwise matrix transformation.\n",
    "event_shape = target_model.event_shape_tensor()\n",
    "flat_event_shape = tf.nest.flatten(event_shape)\n",
    "flat_event_size = tf.nest.map_structure(tf.reduce_prod, flat_event_shape)\n",
    "\n",
    "# The `event_space_bijector` maps unconstrained values (in R^n) to the support\n",
    "# of the prior -- we'll need this at the end to constrain Multivariate Normal\n",
    "# samples to the prior's support.\n",
    "event_space_bijector = target_model.experimental_default_event_space_bijector()\n"
   ]
  },
  {
   "cell_type": "code",
   "execution_count": 7,
   "metadata": {
    "ExecuteTime": {
     "end_time": "2021-06-24T02:47:12.474533Z",
     "start_time": "2021-06-24T02:47:12.469647Z"
    }
   },
   "outputs": [],
   "source": [
    "base_standard_dist = tfd.JointDistributionSequential(\n",
    "      [tfd.Sample(tfd.Normal(0., 1.), s) for s in flat_event_size])"
   ]
  },
  {
   "cell_type": "code",
   "execution_count": 8,
   "metadata": {
    "ExecuteTime": {
     "end_time": "2021-06-24T02:47:12.804300Z",
     "start_time": "2021-06-24T02:47:12.792173Z"
    }
   },
   "outputs": [],
   "source": [
    "operators = (\n",
    "    (tf.linalg.LinearOperatorDiag,),  # Variance of uranium weight (scalar).\n",
    "    (tf.linalg.LinearOperatorFullMatrix,  # Covariance between uranium and floor-by-county weights.\n",
    "     tf.linalg.LinearOperatorDiag),  # Variance of floor-by-county weight (scalar).\n",
    "    (None,  # Independence between uranium weight and county effects.\n",
    "     None,  #  Independence between floor-by-county and county effects.\n",
    "     tf.linalg.LinearOperatorDiag)  # Independence among the 85 county effects.\n",
    "    )\n",
    "\n",
    "block_tril_linop = (\n",
    "    tfp.experimental.vi.util.build_trainable_linear_operator_block(\n",
    "        operators, flat_event_size))\n",
    "scale_bijector = tfb.ScaleMatvecLinearOperatorBlock(block_tril_linop)"
   ]
  },
  {
   "cell_type": "code",
   "execution_count": 9,
   "metadata": {
    "ExecuteTime": {
     "end_time": "2021-06-24T02:48:39.920268Z",
     "start_time": "2021-06-24T02:48:39.913336Z"
    }
   },
   "outputs": [],
   "source": [
    "loc_bijector = tfb.JointMap(\n",
    "    tf.nest.map_structure(\n",
    "        lambda s: tfb.Shift(\n",
    "            tf.Variable(tf.random.uniform(\n",
    "                (s,), minval=-2., maxval=2., dtype=tf.float32))),\n",
    "        flat_event_size))"
   ]
  },
  {
   "cell_type": "code",
   "execution_count": 10,
   "metadata": {
    "ExecuteTime": {
     "end_time": "2021-06-24T02:48:46.093764Z",
     "start_time": "2021-06-24T02:48:46.089083Z"
    }
   },
   "outputs": [],
   "source": [
    "# Reshape each component to match the prior, using a nested structure of\n",
    "# `Reshape` bijectors wrapped in `JointMap` to form a multipart bijector.\n",
    "reshape_bijector = tfb.JointMap(\n",
    "    tf.nest.map_structure(tfb.Reshape, flat_event_shape))\n",
    "\n",
    "# Restructure the flat list of components to match the prior's structure\n",
    "unflatten_bijector = tfb.Restructure(\n",
    "        tf.nest.pack_sequence_as(\n",
    "            event_shape, range(len(flat_event_shape))))"
   ]
  },
  {
   "cell_type": "code",
   "execution_count": 11,
   "metadata": {
    "ExecuteTime": {
     "end_time": "2021-06-24T02:48:51.889236Z",
     "start_time": "2021-06-24T02:48:51.881217Z"
    }
   },
   "outputs": [],
   "source": [
    "surrogate_posterior = tfd.TransformedDistribution(\n",
    "    base_standard_dist,\n",
    "    bijector = tfb.Chain(  # Note that the chained bijectors are applied in reverse order\n",
    "        [\n",
    "         event_space_bijector,  # constrain the surrogate to the support of the prior\n",
    "         unflatten_bijector,  # pack the reshaped components into the `event_shape` structure of the posterior\n",
    "         reshape_bijector,  # reshape the vector-valued components to match the shapes of the posterior components\n",
    "         loc_bijector,  # allow for nonzero mean\n",
    "         scale_bijector  # apply the block matrix transformation to the standard Normal distribution\n",
    "         ]))"
   ]
  },
  {
   "cell_type": "code",
   "execution_count": 12,
   "metadata": {
    "ExecuteTime": {
     "end_time": "2021-06-24T02:49:12.722837Z",
     "start_time": "2021-06-24T02:48:58.658391Z"
    },
    "scrolled": true
   },
   "outputs": [
    {
     "name": "stdout",
     "output_type": "stream",
     "text": [
      "WARNING:tensorflow:From /Users/sean00002/anaconda3/envs/tensorflow/lib/python3.8/site-packages/tensorflow/python/ops/array_ops.py:5059: calling gather (from tensorflow.python.ops.array_ops) with validate_indices is deprecated and will be removed in a future version.\n",
      "Instructions for updating:\n",
      "The `validate_indices` argument has no effect. Indices are always validated on CPU and never validated on GPU.\n"
     ]
    },
    {
     "name": "stderr",
     "output_type": "stream",
     "text": [
      "/Users/sean00002/anaconda3/envs/tensorflow/lib/python3.8/site-packages/tensorflow_probability/python/internal/vectorization_util.py:91: UserWarning: Saw Tensor seed Tensor(\"monte_carlo_variational_loss/expectation/JointDistributionCoroutineAutoBatched/unnormalized_log_prob/Const:0\", shape=(2,), dtype=int32), implying stateless sampling. Autovectorized functions that use stateless sampling may be quite slow because the current implementation falls back to an explicit loop. This will be fixed in the future. For now, you will likely see better performance from stateful sampling, which you can invoke by passing a Python `int` seed.\n",
      "  warnings.warn(\n",
      "WARNING:tensorflow:From /Users/sean00002/anaconda3/envs/tensorflow/lib/python3.8/site-packages/tensorflow/python/ops/array_ops.py:5059: calling gather (from tensorflow.python.ops.array_ops) with validate_indices is deprecated and will be removed in a future version.\n",
      "Instructions for updating:\n",
      "The `validate_indices` argument has no effect. Indices are always validated on CPU and never validated on GPU.\n",
      "/Users/sean00002/anaconda3/envs/tensorflow/lib/python3.8/site-packages/tensorflow_probability/python/internal/vectorization_util.py:91: UserWarning: Saw Tensor seed Tensor(\"monte_carlo_variational_loss/expectation/JointDistributionCoroutineAutoBatched/unnormalized_log_prob/Const:0\", shape=(2,), dtype=int32), implying stateless sampling. Autovectorized functions that use stateless sampling may be quite slow because the current implementation falls back to an explicit loop. This will be fixed in the future. For now, you will likely see better performance from stateful sampling, which you can invoke by passing a Python `int` seed.\n",
      "  warnings.warn(\n",
      "/Users/sean00002/anaconda3/envs/tensorflow/lib/python3.8/site-packages/tensorflow_probability/python/internal/vectorization_util.py:91: UserWarning: Saw Tensor seed [0 0], implying stateless sampling. Autovectorized functions that use stateless sampling may be quite slow because the current implementation falls back to an explicit loop. This will be fixed in the future. For now, you will likely see better performance from stateful sampling, which you can invoke by passing a Python `int` seed.\n",
      "  warnings.warn(\n"
     ]
    },
    {
     "name": "stdout",
     "output_type": "stream",
     "text": [
      "Multivariate Normal surrogate posterior ELBO: -1065.68994140625\n"
     ]
    },
    {
     "data": {
      "image/png": "[encoded data removed]",
      "text/plain": [
       "<Figure size 432x288 with 1 Axes>"
      ]
     },
     "metadata": {
      "needs_background": "light"
     },
     "output_type": "display_data"
    }
   ],
   "source": [
    "optimizer = tf.optimizers.Adam(learning_rate=1e-2)\n",
    "@tf.function(jit_compile=True)\n",
    "def fit_vi():\n",
    "  return tfp.vi.fit_surrogate_posterior(\n",
    "      target_model.unnormalized_log_prob,\n",
    "      surrogate_posterior,\n",
    "      optimizer=optimizer,\n",
    "      num_steps=10**4,\n",
    "      sample_size=16,\n",
    "      )\n",
    "mvn_loss = fit_vi()\n",
    "\n",
    "mvn_samples = surrogate_posterior.sample(1000)\n",
    "mvn_final_elbo = tf.reduce_mean(\n",
    "    target_model.unnormalized_log_prob(*mvn_samples)\n",
    "\n",
    "    - surrogate_posterior.log_prob(mvn_samples))\n",
    "\n",
    "print('Multivariate Normal surrogate posterior ELBO: {}'.format(mvn_final_elbo))\n",
    "\n",
    "plt.plot(mvn_loss)\n",
    "plt.xlabel('Training step')\n",
    "_ = plt.ylabel('Loss value')"
   ]
  },
  {
   "cell_type": "code",
   "execution_count": null,
   "metadata": {},
   "outputs": [],
   "source": []
  },
  {
   "cell_type": "code",
   "execution_count": null,
   "metadata": {},
   "outputs": [],
   "source": []
  }
 ],
 "metadata": {
  "kernelspec": {
   "display_name": "tensorflow",
   "language": "python",
   "name": "tensorflow"
  },
  "language_info": {
   "codemirror_mode": {
    "name": "ipython",
    "version": 3
   },
   "file_extension": ".py",
   "mimetype": "text/x-python",
   "name": "python",
   "nbconvert_exporter": "python",
   "pygments_lexer": "ipython3",
   "version": "3.8.8"
  }
 },
 "nbformat": 4,
 "nbformat_minor": 2
}
